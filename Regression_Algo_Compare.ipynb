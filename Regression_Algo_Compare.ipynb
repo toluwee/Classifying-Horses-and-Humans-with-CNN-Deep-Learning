{
  "nbformat": 4,
  "nbformat_minor": 0,
  "metadata": {
    "colab": {
      "name": "Copy of SimplePaper2.ipynb",
      "provenance": [],
      "collapsed_sections": [
        "TKgWm6zVrcKq",
        "B2D8__EjkGel"
      ],
      "toc_visible": true,
      "mount_file_id": "1fypZMtgeHuVR0hEGOJHi0Uupr7V7fy3T",
      "authorship_tag": "ABX9TyMJ5zKlxcPc9kGeCKLAo+hi",
      "include_colab_link": true
    },
    "kernelspec": {
      "display_name": "Python 3",
      "name": "python3"
    }
  },
  "cells": [
    {
      "cell_type": "markdown",
      "metadata": {
        "id": "view-in-github",
        "colab_type": "text"
      },
      "source": [
        "<a href=\"https://colab.research.google.com/github/toluwee/Machine_Learning_Projects/blob/master/Regression_Algo_Compare.ipynb\" target=\"_parent\"><img src=\"https://colab.research.google.com/assets/colab-badge.svg\" alt=\"Open In Colab\"/></a>"
      ]
    },
    {
      "cell_type": "markdown",
      "metadata": {
        "id": "oqqBjBvVGsqh"
      },
      "source": [
        "# Import Stuff"
      ]
    },
    {
      "cell_type": "markdown",
      "metadata": {
        "id": "rK3uB09aBdje"
      },
      "source": [
        "### Import Libraries\n"
      ]
    },
    {
      "cell_type": "code",
      "metadata": {
        "id": "hG-dWrkOPaOU"
      },
      "source": [
        "# Load libraries\r\n",
        "import numpy as np\r\n",
        "import pandas as pd\r\n",
        "import matplotlib.pyplot  as plt\r\n",
        "\r\n",
        "from scipy.stats import uniform\r\n",
        "from scipy.stats import randint\r\n",
        "\r\n",
        "from sklearn.pipeline import Pipeline\r\n",
        "from sklearn.preprocessing import MinMaxScaler\r\n",
        "from sklearn.compose import TransformedTargetRegressor\r\n",
        "from sklearn.preprocessing import PowerTransformer\r\n",
        "from sklearn.model_selection import KFold\r\n",
        "\r\n",
        "from sklearn.compose import ColumnTransformer\r\n",
        "from sklearn.preprocessing import OneHotEncoder\r\n",
        "from sklearn.preprocessing import MinMaxScaler\r\n",
        "from sklearn.preprocessing import StandardScaler\r\n",
        "\r\n",
        "from sklearn.model_selection import train_test_split\r\n",
        "from sklearn.model_selection import RepeatedKFold\r\n",
        "from sklearn.model_selection import cross_val_score\r\n",
        "from sklearn.model_selection import GridSearchCV\r\n",
        "from sklearn.model_selection import RandomizedSearchCV\r\n",
        "\r\n",
        "from sklearn.linear_model import LinearRegression\r\n",
        "from sklearn.linear_model import Lasso\r\n",
        "from sklearn.linear_model import ElasticNet\r\n",
        "from sklearn.linear_model import Ridge\r\n",
        "from sklearn.tree import DecisionTreeRegressor\r\n",
        "from sklearn.neighbors import KNeighborsRegressor\r\n",
        "from sklearn.svm import SVR\r\n",
        "from sklearn.multioutput import MultiOutputRegressor\r\n",
        "\r\n",
        "from sklearn.metrics import mean_squared_error\r\n",
        "from sklearn.metrics import mean_absolute_error\r\n",
        "from sklearn.metrics import r2_score\r\n",
        "\r\n",
        "import tensorflow as tf\r\n",
        "from tensorflow import keras\r\n"
      ],
      "execution_count": null,
      "outputs": []
    },
    {
      "cell_type": "markdown",
      "metadata": {
        "id": "AOkcUYKWB2To"
      },
      "source": [
        "### Load Dataset"
      ]
    },
    {
      "cell_type": "code",
      "metadata": {
        "id": "WbOAxQC4UIdl"
      },
      "source": [
        "filepath = 'G:/My Drive/RheoCompareML/AppVis_Fu2.csv'\r\n",
        "dataset = pd.read_csv(filepath)"
      ],
      "execution_count": null,
      "outputs": []
    },
    {
      "cell_type": "markdown",
      "metadata": {
        "id": "tERpJTtYB-3a"
      },
      "source": [
        "# Descriptive Statistics"
      ]
    },
    {
      "cell_type": "code",
      "metadata": {
        "colab": {
          "base_uri": "https://localhost:8080/"
        },
        "id": "hGVIJVBrbBXz",
        "outputId": "a41d14ed-0f29-4617-95ae-de137cd315c8"
      },
      "source": [
        "\n",
        "# shape\n",
        "dataset.shape"
      ],
      "execution_count": null,
      "outputs": [
        {
          "output_type": "execute_result",
          "data": {
            "text/plain": [
              "(262, 6)"
            ]
          },
          "metadata": {
            "tags": []
          },
          "execution_count": 3
        }
      ]
    },
    {
      "cell_type": "code",
      "metadata": {
        "colab": {
          "base_uri": "https://localhost:8080/",
          "height": 204
        },
        "id": "UCPS8L3BbGN4",
        "outputId": "b2b5a6ff-5cf2-444b-bebb-c274c87d4490"
      },
      "source": [
        "#@title\n",
        "# head\n",
        "dataset.tail(5)"
      ],
      "execution_count": null,
      "outputs": [
        {
          "output_type": "execute_result",
          "data": {
            "text/html": [
              "<div>\n",
              "<style scoped>\n",
              "    .dataframe tbody tr th:only-of-type {\n",
              "        vertical-align: middle;\n",
              "    }\n",
              "\n",
              "    .dataframe tbody tr th {\n",
              "        vertical-align: top;\n",
              "    }\n",
              "\n",
              "    .dataframe thead th {\n",
              "        text-align: right;\n",
              "    }\n",
              "</style>\n",
              "<table border=\"1\" class=\"dataframe\">\n",
              "  <thead>\n",
              "    <tr style=\"text-align: right;\">\n",
              "      <th></th>\n",
              "      <th>temp</th>\n",
              "      <th>np_conc</th>\n",
              "      <th>salinity</th>\n",
              "      <th>foam_qual</th>\n",
              "      <th>shear</th>\n",
              "      <th>app_vis</th>\n",
              "    </tr>\n",
              "  </thead>\n",
              "  <tbody>\n",
              "    <tr>\n",
              "      <th>257</th>\n",
              "      <td>68</td>\n",
              "      <td>0.5</td>\n",
              "      <td>0.05</td>\n",
              "      <td>0.7</td>\n",
              "      <td>4400</td>\n",
              "      <td>3.23</td>\n",
              "    </tr>\n",
              "    <tr>\n",
              "      <th>258</th>\n",
              "      <td>69</td>\n",
              "      <td>0.5</td>\n",
              "      <td>0.05</td>\n",
              "      <td>0.7</td>\n",
              "      <td>4400</td>\n",
              "      <td>3.21</td>\n",
              "    </tr>\n",
              "    <tr>\n",
              "      <th>259</th>\n",
              "      <td>70</td>\n",
              "      <td>0.5</td>\n",
              "      <td>0.05</td>\n",
              "      <td>0.7</td>\n",
              "      <td>4400</td>\n",
              "      <td>3.16</td>\n",
              "    </tr>\n",
              "    <tr>\n",
              "      <th>260</th>\n",
              "      <td>71</td>\n",
              "      <td>0.5</td>\n",
              "      <td>0.05</td>\n",
              "      <td>0.7</td>\n",
              "      <td>4400</td>\n",
              "      <td>3.14</td>\n",
              "    </tr>\n",
              "    <tr>\n",
              "      <th>261</th>\n",
              "      <td>72</td>\n",
              "      <td>0.5</td>\n",
              "      <td>0.05</td>\n",
              "      <td>0.7</td>\n",
              "      <td>4400</td>\n",
              "      <td>3.14</td>\n",
              "    </tr>\n",
              "  </tbody>\n",
              "</table>\n",
              "</div>"
            ],
            "text/plain": [
              "     temp  np_conc  salinity  foam_qual  shear  app_vis\n",
              "257    68      0.5      0.05        0.7   4400     3.23\n",
              "258    69      0.5      0.05        0.7   4400     3.21\n",
              "259    70      0.5      0.05        0.7   4400     3.16\n",
              "260    71      0.5      0.05        0.7   4400     3.14\n",
              "261    72      0.5      0.05        0.7   4400     3.14"
            ]
          },
          "metadata": {
            "tags": []
          },
          "execution_count": 4
        }
      ]
    },
    {
      "cell_type": "code",
      "metadata": {
        "id": "p_x0Q4KfqtYn"
      },
      "source": [
        "# dataset = dataset.drop(['temp' ],axis =1)"
      ],
      "execution_count": null,
      "outputs": []
    },
    {
      "cell_type": "code",
      "metadata": {
        "id": "HpgjdZpkfnAi"
      },
      "source": [
        "# dataset = dataset.iloc[:, 0:5].copy()"
      ],
      "execution_count": null,
      "outputs": []
    },
    {
      "cell_type": "code",
      "metadata": {
        "id": "1O7PuAXCfE3r"
      },
      "source": [
        "# header = ['flow_rate','temp','np_conc','salinity','foam_qual', 'app_vis']\r\n",
        "# dataset.columns = header"
      ],
      "execution_count": null,
      "outputs": []
    },
    {
      "cell_type": "code",
      "metadata": {
        "id": "x3ZK9CAxitQ3"
      },
      "source": [
        "dataset = dataset.drop_duplicates()"
      ],
      "execution_count": null,
      "outputs": []
    },
    {
      "cell_type": "code",
      "metadata": {
        "id": "yjL5awDIi6gE"
      },
      "source": [
        "dataset = dataset.dropna( how='all', axis=1)"
      ],
      "execution_count": null,
      "outputs": []
    },
    {
      "cell_type": "code",
      "metadata": {
        "colab": {
          "base_uri": "https://localhost:8080/",
          "height": 173
        },
        "id": "_35ul1st5c-g",
        "outputId": "598d0457-5266-455e-8cbb-69f0a3a3a84d"
      },
      "source": [
        "pd.set_option('precision', 2)\r\n",
        "dataset.agg(['mean','min', 'max', 'std'])"
      ],
      "execution_count": null,
      "outputs": [
        {
          "output_type": "execute_result",
          "data": {
            "text/html": [
              "<div>\n",
              "<style scoped>\n",
              "    .dataframe tbody tr th:only-of-type {\n",
              "        vertical-align: middle;\n",
              "    }\n",
              "\n",
              "    .dataframe tbody tr th {\n",
              "        vertical-align: top;\n",
              "    }\n",
              "\n",
              "    .dataframe thead th {\n",
              "        text-align: right;\n",
              "    }\n",
              "</style>\n",
              "<table border=\"1\" class=\"dataframe\">\n",
              "  <thead>\n",
              "    <tr style=\"text-align: right;\">\n",
              "      <th></th>\n",
              "      <th>temp</th>\n",
              "      <th>np_conc</th>\n",
              "      <th>salinity</th>\n",
              "      <th>foam_qual</th>\n",
              "      <th>shear</th>\n",
              "      <th>app_vis</th>\n",
              "    </tr>\n",
              "  </thead>\n",
              "  <tbody>\n",
              "    <tr>\n",
              "      <th>mean</th>\n",
              "      <td>25.26</td>\n",
              "      <td>0.47</td>\n",
              "      <td>5.07e-02</td>\n",
              "      <td>0.60</td>\n",
              "      <td>3227.09</td>\n",
              "      <td>12.08</td>\n",
              "    </tr>\n",
              "    <tr>\n",
              "      <th>min</th>\n",
              "      <td>20.00</td>\n",
              "      <td>0.05</td>\n",
              "      <td>3.00e-02</td>\n",
              "      <td>0.10</td>\n",
              "      <td>1338.00</td>\n",
              "      <td>2.63</td>\n",
              "    </tr>\n",
              "    <tr>\n",
              "      <th>max</th>\n",
              "      <td>72.00</td>\n",
              "      <td>0.70</td>\n",
              "      <td>1.10e-01</td>\n",
              "      <td>0.90</td>\n",
              "      <td>4400.00</td>\n",
              "      <td>34.54</td>\n",
              "    </tr>\n",
              "    <tr>\n",
              "      <th>std</th>\n",
              "      <td>12.53</td>\n",
              "      <td>0.11</td>\n",
              "      <td>6.03e-03</td>\n",
              "      <td>0.21</td>\n",
              "      <td>723.86</td>\n",
              "      <td>5.38</td>\n",
              "    </tr>\n",
              "  </tbody>\n",
              "</table>\n",
              "</div>"
            ],
            "text/plain": [
              "       temp  np_conc  salinity  foam_qual    shear  app_vis\n",
              "mean  25.26     0.47  5.07e-02       0.60  3227.09    12.08\n",
              "min   20.00     0.05  3.00e-02       0.10  1338.00     2.63\n",
              "max   72.00     0.70  1.10e-01       0.90  4400.00    34.54\n",
              "std   12.53     0.11  6.03e-03       0.21   723.86     5.38"
            ]
          },
          "metadata": {
            "tags": []
          },
          "execution_count": 10
        }
      ]
    },
    {
      "cell_type": "code",
      "metadata": {
        "colab": {
          "base_uri": "https://localhost:8080/"
        },
        "id": "72opE12-mIf5",
        "outputId": "33645f69-bbc4-4584-8922-2caab578c353"
      },
      "source": [
        "#types\r\n",
        "dataset.dtypes"
      ],
      "execution_count": null,
      "outputs": [
        {
          "output_type": "execute_result",
          "data": {
            "text/plain": [
              "temp           int64\n",
              "np_conc      float64\n",
              "salinity     float64\n",
              "foam_qual    float64\n",
              "shear          int64\n",
              "app_vis      float64\n",
              "dtype: object"
            ]
          },
          "metadata": {
            "tags": []
          },
          "execution_count": 11
        }
      ]
    },
    {
      "cell_type": "markdown",
      "metadata": {
        "id": "7SIrthqgCBUc"
      },
      "source": [
        "# Data Visualizations"
      ]
    },
    {
      "cell_type": "markdown",
      "metadata": {
        "id": "FQ_OAMUld7qt"
      },
      "source": [
        "## Univariate Plots"
      ]
    },
    {
      "cell_type": "code",
      "metadata": {
        "colab": {
          "base_uri": "https://localhost:8080/",
          "height": 720
        },
        "id": "IHbBtvkEgtEH",
        "outputId": "0e14c8cd-1b63-47ed-f4c0-62000a8a367d"
      },
      "source": [
        "#histogram\r\n",
        "dataset.hist(figsize=(20,15))\r\n",
        "plt.show()"
      ],
      "execution_count": null,
      "outputs": [
        {
          "output_type": "display_data",
          "data": {
            "image/png": "[encoded data removed]",
            "text/plain": [
              "<Figure size 1440x1080 with 6 Axes>"
            ]
          },
          "metadata": {
            "tags": [],
            "needs_background": "light"
          }
        }
      ]
    },
    {
      "cell_type": "markdown",
      "metadata": {
        "id": "hCJBdx284Bet"
      },
      "source": [
        "###### Observations from histogram\r\n",
        "1. Different scales observed\r\n",
        "\r\n",
        "2. A lot of the distributions are skewed including the target features\r\n"
      ]
    },
    {
      "cell_type": "code",
      "metadata": {
        "colab": {
          "base_uri": "https://localhost:8080/",
          "height": 361
        },
        "id": "ZDhIDo7ZeTfs",
        "outputId": "4e8cfc51-4c17-423b-8ea3-1116f8065eb8"
      },
      "source": [
        "#box and whisker plots\r\n",
        "dataset.plot(kind='box', subplots=True, layout = (4,4), sharex= False, sharey = False, figsize = (12,12))\r\n",
        "plt.show()"
      ],
      "execution_count": null,
      "outputs": [
        {
          "output_type": "display_data",
          "data": {
            "image/png": "[encoded data removed]",
            "text/plain": [
              "<Figure size 864x864 with 16 Axes>"
            ]
          },
          "metadata": {
            "tags": [],
            "needs_background": "light"
          }
        }
      ]
    },
    {
      "cell_type": "markdown",
      "metadata": {
        "id": "lOZfDkyioNdO"
      },
      "source": [
        "1. Attributes are seen to have quite different spreads. \r\n",
        "2. Also, data skewness more obvious with most data showing up as outliers"
      ]
    },
    {
      "cell_type": "code",
      "metadata": {
        "colab": {
          "base_uri": "https://localhost:8080/",
          "height": 143
        },
        "id": "pCDn05S9nB7f",
        "outputId": "6d39ab6a-9885-41cc-c7e8-a573cd4aef7f"
      },
      "source": [
        "# density\r\n",
        "dataset.plot(kind='density', subplots=True, layout=(8,8), sharex=False, legend=False,\r\n",
        "fontsize=1, figsize = (18,18))\r\n",
        "plt.show()"
      ],
      "execution_count": null,
      "outputs": [
        {
          "output_type": "display_data",
          "data": {
            "image/png": "[encoded data removed]",
            "text/plain": [
              "<Figure size 1296x1296 with 64 Axes>"
            ]
          },
          "metadata": {
            "tags": [],
            "needs_background": "light"
          }
        }
      ]
    },
    {
      "cell_type": "markdown",
      "metadata": {
        "id": "LDcFMuzhn-BL"
      },
      "source": [
        "Many of the attributes have a skewed distribution and some bimodal and trimodal. For predictive model, we will have to apply transform to make these distribution more Gaussian. \r\n",
        "\r\n"
      ]
    },
    {
      "cell_type": "markdown",
      "metadata": {
        "id": "EZpSbzNwh2ZC"
      },
      "source": [
        "## Multivariate Plots"
      ]
    },
    {
      "cell_type": "code",
      "metadata": {
        "colab": {
          "base_uri": "https://localhost:8080/",
          "height": 166
        },
        "id": "xUbTY9Hw5JPk",
        "outputId": "36a84583-eeea-48f0-a19e-5d48d960870c"
      },
      "source": [
        "# Correlation Matrix\r\n",
        "corr_matrix = dataset.corr().abs()\r\n",
        "corr_matrix.style.background_gradient()"
      ],
      "execution_count": null,
      "outputs": [
        {
          "output_type": "execute_result",
          "data": {
            "text/html": [
              "<style  type=\"text/css\" >\n",
              "#T_bedad704_859a_11eb_9f8b_0242ac1c0002row0_col0,#T_bedad704_859a_11eb_9f8b_0242ac1c0002row1_col1,#T_bedad704_859a_11eb_9f8b_0242ac1c0002row2_col2,#T_bedad704_859a_11eb_9f8b_0242ac1c0002row3_col3,#T_bedad704_859a_11eb_9f8b_0242ac1c0002row4_col4,#T_bedad704_859a_11eb_9f8b_0242ac1c0002row5_col5{\n",
              "            background-color:  #023858;\n",
              "            color:  #f1f1f1;\n",
              "        }#T_bedad704_859a_11eb_9f8b_0242ac1c0002row0_col1,#T_bedad704_859a_11eb_9f8b_0242ac1c0002row4_col5{\n",
              "            background-color:  #f1ebf5;\n",
              "            color:  #000000;\n",
              "        }#T_bedad704_859a_11eb_9f8b_0242ac1c0002row0_col2{\n",
              "            background-color:  #fdf5fa;\n",
              "            color:  #000000;\n",
              "        }#T_bedad704_859a_11eb_9f8b_0242ac1c0002row0_col3{\n",
              "            background-color:  #e5e1ef;\n",
              "            color:  #000000;\n",
              "        }#T_bedad704_859a_11eb_9f8b_0242ac1c0002row0_col4{\n",
              "            background-color:  #2383ba;\n",
              "            color:  #000000;\n",
              "        }#T_bedad704_859a_11eb_9f8b_0242ac1c0002row0_col5{\n",
              "            background-color:  #73a9cf;\n",
              "            color:  #000000;\n",
              "        }#T_bedad704_859a_11eb_9f8b_0242ac1c0002row1_col0{\n",
              "            background-color:  #f4edf6;\n",
              "            color:  #000000;\n",
              "        }#T_bedad704_859a_11eb_9f8b_0242ac1c0002row1_col2,#T_bedad704_859a_11eb_9f8b_0242ac1c0002row1_col5,#T_bedad704_859a_11eb_9f8b_0242ac1c0002row2_col0,#T_bedad704_859a_11eb_9f8b_0242ac1c0002row2_col1,#T_bedad704_859a_11eb_9f8b_0242ac1c0002row2_col3,#T_bedad704_859a_11eb_9f8b_0242ac1c0002row2_col4,#T_bedad704_859a_11eb_9f8b_0242ac1c0002row4_col2{\n",
              "            background-color:  #fff7fb;\n",
              "            color:  #000000;\n",
              "        }#T_bedad704_859a_11eb_9f8b_0242ac1c0002row1_col3{\n",
              "            background-color:  #f2ecf5;\n",
              "            color:  #000000;\n",
              "        }#T_bedad704_859a_11eb_9f8b_0242ac1c0002row1_col4,#T_bedad704_859a_11eb_9f8b_0242ac1c0002row4_col1,#T_bedad704_859a_11eb_9f8b_0242ac1c0002row5_col1{\n",
              "            background-color:  #f8f1f8;\n",
              "            color:  #000000;\n",
              "        }#T_bedad704_859a_11eb_9f8b_0242ac1c0002row2_col5{\n",
              "            background-color:  #9ab8d8;\n",
              "            color:  #000000;\n",
              "        }#T_bedad704_859a_11eb_9f8b_0242ac1c0002row3_col0{\n",
              "            background-color:  #e3e0ee;\n",
              "            color:  #000000;\n",
              "        }#T_bedad704_859a_11eb_9f8b_0242ac1c0002row3_col1{\n",
              "            background-color:  #eee9f3;\n",
              "            color:  #000000;\n",
              "        }#T_bedad704_859a_11eb_9f8b_0242ac1c0002row3_col2{\n",
              "            background-color:  #fbf4f9;\n",
              "            color:  #000000;\n",
              "        }#T_bedad704_859a_11eb_9f8b_0242ac1c0002row3_col4{\n",
              "            background-color:  #d9d8ea;\n",
              "            color:  #000000;\n",
              "        }#T_bedad704_859a_11eb_9f8b_0242ac1c0002row3_col5{\n",
              "            background-color:  #fef6fb;\n",
              "            color:  #000000;\n",
              "        }#T_bedad704_859a_11eb_9f8b_0242ac1c0002row4_col0{\n",
              "            background-color:  #2685bb;\n",
              "            color:  #000000;\n",
              "        }#T_bedad704_859a_11eb_9f8b_0242ac1c0002row4_col3{\n",
              "            background-color:  #dedcec;\n",
              "            color:  #000000;\n",
              "        }#T_bedad704_859a_11eb_9f8b_0242ac1c0002row5_col0{\n",
              "            background-color:  #6ba5cd;\n",
              "            color:  #000000;\n",
              "        }#T_bedad704_859a_11eb_9f8b_0242ac1c0002row5_col2{\n",
              "            background-color:  #8fb4d6;\n",
              "            color:  #000000;\n",
              "        }#T_bedad704_859a_11eb_9f8b_0242ac1c0002row5_col3{\n",
              "            background-color:  #fbf3f9;\n",
              "            color:  #000000;\n",
              "        }#T_bedad704_859a_11eb_9f8b_0242ac1c0002row5_col4{\n",
              "            background-color:  #eae6f1;\n",
              "            color:  #000000;\n",
              "        }</style><table id=\"T_bedad704_859a_11eb_9f8b_0242ac1c0002\" ><thead>    <tr>        <th class=\"blank level0\" ></th>        <th class=\"col_heading level0 col0\" >temp</th>        <th class=\"col_heading level0 col1\" >np_conc</th>        <th class=\"col_heading level0 col2\" >salinity</th>        <th class=\"col_heading level0 col3\" >foam_qual</th>        <th class=\"col_heading level0 col4\" >shear</th>        <th class=\"col_heading level0 col5\" >app_vis</th>    </tr></thead><tbody>\n",
              "                <tr>\n",
              "                        <th id=\"T_bedad704_859a_11eb_9f8b_0242ac1c0002level0_row0\" class=\"row_heading level0 row0\" >temp</th>\n",
              "                        <td id=\"T_bedad704_859a_11eb_9f8b_0242ac1c0002row0_col0\" class=\"data row0 col0\" >1.00</td>\n",
              "                        <td id=\"T_bedad704_859a_11eb_9f8b_0242ac1c0002row0_col1\" class=\"data row0 col1\" >0.12</td>\n",
              "                        <td id=\"T_bedad704_859a_11eb_9f8b_0242ac1c0002row0_col2\" class=\"data row0 col2\" >0.05</td>\n",
              "                        <td id=\"T_bedad704_859a_11eb_9f8b_0242ac1c0002row0_col3\" class=\"data row0 col3\" >0.21</td>\n",
              "                        <td id=\"T_bedad704_859a_11eb_9f8b_0242ac1c0002row0_col4\" class=\"data row0 col4\" >0.68</td>\n",
              "                        <td id=\"T_bedad704_859a_11eb_9f8b_0242ac1c0002row0_col5\" class=\"data row0 col5\" >0.54</td>\n",
              "            </tr>\n",
              "            <tr>\n",
              "                        <th id=\"T_bedad704_859a_11eb_9f8b_0242ac1c0002level0_row1\" class=\"row_heading level0 row1\" >np_conc</th>\n",
              "                        <td id=\"T_bedad704_859a_11eb_9f8b_0242ac1c0002row1_col0\" class=\"data row1 col0\" >0.12</td>\n",
              "                        <td id=\"T_bedad704_859a_11eb_9f8b_0242ac1c0002row1_col1\" class=\"data row1 col1\" >1.00</td>\n",
              "                        <td id=\"T_bedad704_859a_11eb_9f8b_0242ac1c0002row1_col2\" class=\"data row1 col2\" >0.03</td>\n",
              "                        <td id=\"T_bedad704_859a_11eb_9f8b_0242ac1c0002row1_col3\" class=\"data row1 col3\" >0.14</td>\n",
              "                        <td id=\"T_bedad704_859a_11eb_9f8b_0242ac1c0002row1_col4\" class=\"data row1 col4\" >0.08</td>\n",
              "                        <td id=\"T_bedad704_859a_11eb_9f8b_0242ac1c0002row1_col5\" class=\"data row1 col5\" >0.08</td>\n",
              "            </tr>\n",
              "            <tr>\n",
              "                        <th id=\"T_bedad704_859a_11eb_9f8b_0242ac1c0002level0_row2\" class=\"row_heading level0 row2\" >salinity</th>\n",
              "                        <td id=\"T_bedad704_859a_11eb_9f8b_0242ac1c0002row2_col0\" class=\"data row2 col0\" >0.05</td>\n",
              "                        <td id=\"T_bedad704_859a_11eb_9f8b_0242ac1c0002row2_col1\" class=\"data row2 col1\" >0.03</td>\n",
              "                        <td id=\"T_bedad704_859a_11eb_9f8b_0242ac1c0002row2_col2\" class=\"data row2 col2\" >1.00</td>\n",
              "                        <td id=\"T_bedad704_859a_11eb_9f8b_0242ac1c0002row2_col3\" class=\"data row2 col3\" >0.06</td>\n",
              "                        <td id=\"T_bedad704_859a_11eb_9f8b_0242ac1c0002row2_col4\" class=\"data row2 col4\" >0.03</td>\n",
              "                        <td id=\"T_bedad704_859a_11eb_9f8b_0242ac1c0002row2_col5\" class=\"data row2 col5\" >0.45</td>\n",
              "            </tr>\n",
              "            <tr>\n",
              "                        <th id=\"T_bedad704_859a_11eb_9f8b_0242ac1c0002level0_row3\" class=\"row_heading level0 row3\" >foam_qual</th>\n",
              "                        <td id=\"T_bedad704_859a_11eb_9f8b_0242ac1c0002row3_col0\" class=\"data row3 col0\" >0.21</td>\n",
              "                        <td id=\"T_bedad704_859a_11eb_9f8b_0242ac1c0002row3_col1\" class=\"data row3 col1\" >0.14</td>\n",
              "                        <td id=\"T_bedad704_859a_11eb_9f8b_0242ac1c0002row3_col2\" class=\"data row3 col2\" >0.06</td>\n",
              "                        <td id=\"T_bedad704_859a_11eb_9f8b_0242ac1c0002row3_col3\" class=\"data row3 col3\" >1.00</td>\n",
              "                        <td id=\"T_bedad704_859a_11eb_9f8b_0242ac1c0002row3_col4\" class=\"data row3 col4\" >0.24</td>\n",
              "                        <td id=\"T_bedad704_859a_11eb_9f8b_0242ac1c0002row3_col5\" class=\"data row3 col5\" >0.09</td>\n",
              "            </tr>\n",
              "            <tr>\n",
              "                        <th id=\"T_bedad704_859a_11eb_9f8b_0242ac1c0002level0_row4\" class=\"row_heading level0 row4\" >shear</th>\n",
              "                        <td id=\"T_bedad704_859a_11eb_9f8b_0242ac1c0002row4_col0\" class=\"data row4 col0\" >0.68</td>\n",
              "                        <td id=\"T_bedad704_859a_11eb_9f8b_0242ac1c0002row4_col1\" class=\"data row4 col1\" >0.08</td>\n",
              "                        <td id=\"T_bedad704_859a_11eb_9f8b_0242ac1c0002row4_col2\" class=\"data row4 col2\" >0.03</td>\n",
              "                        <td id=\"T_bedad704_859a_11eb_9f8b_0242ac1c0002row4_col3\" class=\"data row4 col3\" >0.24</td>\n",
              "                        <td id=\"T_bedad704_859a_11eb_9f8b_0242ac1c0002row4_col4\" class=\"data row4 col4\" >1.00</td>\n",
              "                        <td id=\"T_bedad704_859a_11eb_9f8b_0242ac1c0002row4_col5\" class=\"data row4 col5\" >0.16</td>\n",
              "            </tr>\n",
              "            <tr>\n",
              "                        <th id=\"T_bedad704_859a_11eb_9f8b_0242ac1c0002level0_row5\" class=\"row_heading level0 row5\" >app_vis</th>\n",
              "                        <td id=\"T_bedad704_859a_11eb_9f8b_0242ac1c0002row5_col0\" class=\"data row5 col0\" >0.54</td>\n",
              "                        <td id=\"T_bedad704_859a_11eb_9f8b_0242ac1c0002row5_col1\" class=\"data row5 col1\" >0.08</td>\n",
              "                        <td id=\"T_bedad704_859a_11eb_9f8b_0242ac1c0002row5_col2\" class=\"data row5 col2\" >0.45</td>\n",
              "                        <td id=\"T_bedad704_859a_11eb_9f8b_0242ac1c0002row5_col3\" class=\"data row5 col3\" >0.09</td>\n",
              "                        <td id=\"T_bedad704_859a_11eb_9f8b_0242ac1c0002row5_col4\" class=\"data row5 col4\" >0.16</td>\n",
              "                        <td id=\"T_bedad704_859a_11eb_9f8b_0242ac1c0002row5_col5\" class=\"data row5 col5\" >1.00</td>\n",
              "            </tr>\n",
              "    </tbody></table>"
            ],
            "text/plain": [
              "<pandas.io.formats.style.Styler at 0x7fb66d8f9050>"
            ]
          },
          "metadata": {
            "tags": []
          },
          "execution_count": 15
        }
      ]
    },
    {
      "cell_type": "code",
      "metadata": {
        "colab": {
          "base_uri": "https://localhost:8080/",
          "height": 271
        },
        "id": "9kXteWg5ou1r",
        "outputId": "f58b1754-d85c-47f6-f9ac-b561981b217d"
      },
      "source": [
        "# correlation matrix\r\n",
        "fig = plt.figure()\r\n",
        "ax = fig.add_subplot(111)\r\n",
        "cax = ax.matshow(dataset.corr(), vmin=-1, vmax=1, interpolation='none')\r\n",
        "fig.colorbar(cax)\r\n",
        "plt.show()"
      ],
      "execution_count": null,
      "outputs": [
        {
          "output_type": "display_data",
          "data": {
            "image/png": "[encoded data removed]",
            "text/plain": [
              "<Figure size 432x288 with 2 Axes>"
            ]
          },
          "metadata": {
            "tags": [],
            "needs_background": "light"
          }
        }
      ]
    },
    {
      "cell_type": "markdown",
      "metadata": {
        "id": "ls8Pe3WThcti"
      },
      "source": [
        "# Create Test Dataset"
      ]
    },
    {
      "cell_type": "code",
      "metadata": {
        "id": "9vxkiXUKct6J"
      },
      "source": [
        "# Seperate output and input variables\r\n",
        "target = [\"app_vis\"]\r\n",
        "# target_1 = [\"app_vis\", \"MRF\"]\r\n",
        "\r\n",
        "X,y = dataset.drop(target, axis=1), dataset[target]"
      ],
      "execution_count": null,
      "outputs": []
    },
    {
      "cell_type": "code",
      "metadata": {
        "id": "Kq8JGkcSp9xK"
      },
      "source": [
        "# seperate training and test data \r\n",
        "train_X, test_X, y_train, y_test = train_test_split(X,y, test_size=0.2,random_state=42)\r\n"
      ],
      "execution_count": null,
      "outputs": []
    },
    {
      "cell_type": "markdown",
      "metadata": {
        "id": "fGq_Ua5pORlZ"
      },
      "source": [
        "# Preprocessing\r\n"
      ]
    },
    {
      "cell_type": "code",
      "metadata": {
        "id": "cP5J0jKTi1oQ"
      },
      "source": [
        "from sklearn.preprocessing import RobustScaler\r\n",
        "# Check best data transform\r\n",
        "minmax = MinMaxScaler()\r\n",
        "scaler = StandardScaler()\r\n",
        "power = RobustScaler()\r\n",
        "\r\n",
        "\r\n",
        "X_train_ANN = minmax.fit_transform(train_X)\r\n",
        "X_train = scaler.fit_transform(train_X)\r\n",
        "X_train_AN = power.fit_transform(train_X)"
      ],
      "execution_count": null,
      "outputs": []
    },
    {
      "cell_type": "code",
      "metadata": {
        "id": "OTeBZ3mFj_z3"
      },
      "source": [
        "#Apply transformation to test set\r\n",
        "X_test_ANN = minmax.transform(test_X)\r\n",
        "X_test = scaler.transform(test_X)\r\n",
        "X_test_AN = power.transform(test_X)"
      ],
      "execution_count": null,
      "outputs": []
    },
    {
      "cell_type": "code",
      "metadata": {
        "id": "f9GYfRqT_6us"
      },
      "source": [
        "y_train_ANN = y_train.values.ravel()\r\n",
        "y_test_ANN = y_test.values.ravel()"
      ],
      "execution_count": null,
      "outputs": []
    },
    {
      "cell_type": "code",
      "metadata": {
        "id": "v3K-jKca1SHz"
      },
      "source": [
        "y_train = y_train\r\n",
        "y_test = y_test"
      ],
      "execution_count": null,
      "outputs": []
    },
    {
      "cell_type": "markdown",
      "metadata": {
        "id": "dMtLwKrQD9m1"
      },
      "source": [
        "# Define Utilities"
      ]
    },
    {
      "cell_type": "code",
      "metadata": {
        "id": "hbDwWnpgx-5Z"
      },
      "source": [
        "# Create function to evaluate model\r\n",
        "\r\n",
        "def evaluate_model(model, X, y, scoring, cv):\r\n",
        "  # evaluate the model with cross-validation and mean squareed error\r\n",
        "  scores = cross_val_score(estimator=model, X=X, y=y, \r\n",
        "                           scoring= scoring, cv=cv,\r\n",
        "                           n_jobs = -1)\r\n",
        "  # Force positive output\r\n",
        "  scores = np.abs(scores)\r\n",
        "  # Output the result\r\n",
        "  print(\"MSE: \", scores.mean(), \"(\", scores.std(), \")\")"
      ],
      "execution_count": null,
      "outputs": []
    },
    {
      "cell_type": "code",
      "metadata": {
        "id": "pUbYKnG_qBSG"
      },
      "source": [
        "# Test options and evaluation metric\r\n",
        "num_folds = 10\r\n",
        "seed = 42\r\n",
        "scoring = 'neg_mean_squared_error'\r\n",
        "cv = RepeatedKFold(n_splits=num_folds, random_state=seed)\r\n"
      ],
      "execution_count": null,
      "outputs": []
    },
    {
      "cell_type": "markdown",
      "metadata": {
        "id": "AVDAhnG-OXDH"
      },
      "source": [
        "# re"
      ]
    },
    {
      "cell_type": "code",
      "metadata": {
        "id": "THHGiP3KOk_O"
      },
      "source": [
        "from sklearn.preprocessing import PolynomialFeatures\r\n",
        "poly = PolynomialFeatures(degree=3)\r\n",
        "X_train_poly = poly.fit_transform(X_train)\r\n"
      ],
      "execution_count": null,
      "outputs": []
    },
    {
      "cell_type": "code",
      "metadata": {
        "colab": {
          "base_uri": "https://localhost:8080/"
        },
        "id": "RZCIKzg_OXDa",
        "outputId": "9ec48efb-17d4-401a-dee2-d10679bcbb4f"
      },
      "source": [
        "# define the base model\r\n",
        "model_PolyLR = LinearRegression()\r\n",
        "\r\n",
        "# evaluate model\r\n",
        "evaluate_model(model_PolyLR, X_train_poly, y_train,scoring, cv)"
      ],
      "execution_count": null,
      "outputs": [
        {
          "output_type": "stream",
          "text": [
            "MSE:  0.572641888311061 ( 0.3910990299323363 )\n"
          ],
          "name": "stdout"
        }
      ]
    },
    {
      "cell_type": "markdown",
      "metadata": {
        "id": "48Hp-M_VOXDc"
      },
      "source": [
        "## Fine-tune Algorithm"
      ]
    },
    {
      "cell_type": "code",
      "metadata": {
        "id": "EVjxMl5COXDc"
      },
      "source": [
        "# # define the base model\r\n",
        "# model = SVR() \r\n",
        "\r\n",
        "# # define hyperparameter values\r\n",
        "# param_dist = {\r\n",
        "#     # \"kernel\": ['linear', 'sigmoid','poly', 'rbf', ],\r\n",
        "#     \"kernel\": ['rbf', ],\r\n",
        "#     'C' : randint(1, 100),\r\n",
        "#     'gamma' : uniform(0.01,1.5)\r\n",
        "#     }\r\n",
        "\r\n",
        "# # Implement randomized search on hyper parameters\r\n",
        "# rnd_search = RandomizedSearchCV(estimator= model, param_distributions=param_dist,cv=cv,\r\n",
        "#                            scoring=scoring, return_train_score=True, random_state = seed,\r\n",
        "#                            verbose =2, n_jobs=-1)\r\n",
        "\r\n",
        "# # Fit to training dataset\r\n",
        "# rnd_search.fit (X_train, y_train_ANN)\r\n",
        "\r\n",
        "# rnd_search.best_params_"
      ],
      "execution_count": null,
      "outputs": []
    },
    {
      "cell_type": "code",
      "metadata": {
        "id": "7TqzyTdnOXDd"
      },
      "source": [
        "# # Define base model\r\n",
        "# model_SVR =rnd_search.best_estimator_\r\n",
        "\r\n",
        "# # evaluate model\r\n",
        "# evaluate_model(model_SVR, X_train, y_train_ANN, scoring, cv)"
      ],
      "execution_count": null,
      "outputs": []
    },
    {
      "cell_type": "code",
      "metadata": {
        "id": "VnCXX8pWOXDe"
      },
      "source": [
        "# Fit the model on the training set and time the execution\r\n",
        "fitted_PolyLR = model_PolyLR.fit(X_train, y_train_ANN)\r\n",
        "\r\n",
        "#predict using training data\r\n",
        "PolyLR_pred_train = fitted_PolyLR.predict(X_train)"
      ],
      "execution_count": null,
      "outputs": []
    },
    {
      "cell_type": "code",
      "metadata": {
        "id": "k17-gtw4OXDe"
      },
      "source": [
        "#predict using test data\r\n",
        "PolyLR_pred = fitted_PolyLR.predict(X_test)\r\n"
      ],
      "execution_count": null,
      "outputs": []
    },
    {
      "cell_type": "markdown",
      "metadata": {
        "id": "E2qtKoD2OXDf"
      },
      "source": [
        "## Plot Predicted vs Measured"
      ]
    },
    {
      "cell_type": "code",
      "metadata": {
        "colab": {
          "base_uri": "https://localhost:8080/",
          "height": 295
        },
        "id": "y_ME_Yc-OXDf",
        "outputId": "0051f87b-3902-4d25-e674-c6fd74380f44"
      },
      "source": [
        "# Plot predicted vs Measured for Apparent Viscosity\r\n",
        "predicted = PolyLR_pred_train\r\n",
        "predicted2 = PolyLR_pred\r\n",
        "\r\n",
        "fig, ax = plt.subplots()\r\n",
        "ax.scatter(y_test, predicted2 , c='red', label ='test data ')\r\n",
        "ax.plot([y_test.min(), y_test.max()], [y_test.min(), y_test.max()], 'b--', lw=2)\r\n",
        "\r\n",
        "ax.scatter(y_train, predicted, c= 'green', label ='training data')\r\n",
        "ax.plot([y_train.min(), y_train.max()], [y_train.min(), y_train.max()], 'b--', lw=2)\r\n",
        "\r\n",
        "ax.set_title (' PolyLR')\r\n",
        "ax.set_xlabel('Measured Apparent Viscosity, cP')\r\n",
        "ax.set_ylabel('Predicted Apparent Viscosity, cP')\r\n",
        "ax.legend(loc= 'upper left')\r\n",
        "plt.show()"
      ],
      "execution_count": null,
      "outputs": [
        {
          "output_type": "display_data",
          "data": {
            "image/png": "[encoded data removed]",
            "text/plain": [
              "<Figure size 432x288 with 1 Axes>"
            ]
          },
          "metadata": {
            "tags": [],
            "needs_background": "light"
          }
        }
      ]
    },
    {
      "cell_type": "markdown",
      "metadata": {
        "id": "O-cd-NAHN074"
      },
      "source": [
        "# SVR"
      ]
    },
    {
      "cell_type": "code",
      "metadata": {
        "colab": {
          "base_uri": "https://localhost:8080/"
        },
        "id": "2NMGhtfx6_K7",
        "outputId": "78aea9d0-e087-4749-df75-2986be0df0b5"
      },
      "source": [
        "\r\n",
        "# define the base model\r\n",
        "model = SVR()\r\n",
        "\r\n",
        "# evaluate model\r\n",
        "evaluate_model(model, X_train, y_train_ANN,scoring, cv)"
      ],
      "execution_count": null,
      "outputs": [
        {
          "output_type": "stream",
          "text": [
            "MSE:  13.517365668295335 ( 10.991459578822113 )\n"
          ],
          "name": "stdout"
        }
      ]
    },
    {
      "cell_type": "markdown",
      "metadata": {
        "id": "iwfLBvImIvDY"
      },
      "source": [
        "## Fine-tune Algorithm"
      ]
    },
    {
      "cell_type": "code",
      "metadata": {
        "colab": {
          "base_uri": "https://localhost:8080/"
        },
        "id": "LRGVCNXf8ry2",
        "outputId": "4e98259a-3c79-4dc8-82bb-ceaf3be88c3e"
      },
      "source": [
        "# define the base model\r\n",
        "model = SVR() \r\n",
        "\r\n",
        "# define hyperparameter values\r\n",
        "param_dist = {\r\n",
        "    # \"kernel\": ['linear', 'sigmoid','poly', 'rbf', ],\r\n",
        "    \"kernel\": ['rbf', ],\r\n",
        "    'C' : randint(1, 100),\r\n",
        "    'gamma' : uniform(0.01,1.5)\r\n",
        "    }\r\n",
        "\r\n",
        "# Implement randomized search on hyper parameters\r\n",
        "rnd_search = RandomizedSearchCV(estimator= model, param_distributions=param_dist,cv=cv,\r\n",
        "                           scoring=scoring, return_train_score=True, random_state = seed,\r\n",
        "                           verbose =2, n_jobs=-1)\r\n",
        "\r\n",
        "# Fit to training dataset\r\n",
        "rnd_search.fit (X_train, y_train_ANN)\r\n",
        "\r\n",
        "rnd_search.best_params_"
      ],
      "execution_count": null,
      "outputs": [
        {
          "output_type": "stream",
          "text": [
            "Fitting 100 folds for each of 10 candidates, totalling 1000 fits\n"
          ],
          "name": "stdout"
        },
        {
          "output_type": "stream",
          "text": [
            "[Parallel(n_jobs=-1)]: Using backend LokyBackend with 2 concurrent workers.\n",
            "[Parallel(n_jobs=-1)]: Done 228 tasks      | elapsed:    2.9s\n",
            "[Parallel(n_jobs=-1)]: Done 1000 out of 1000 | elapsed:   11.0s finished\n"
          ],
          "name": "stderr"
        },
        {
          "output_type": "execute_result",
          "data": {
            "text/plain": [
              "{'C': 83, 'gamma': 0.15996237372700434, 'kernel': 'rbf'}"
            ]
          },
          "metadata": {
            "tags": []
          },
          "execution_count": 34
        }
      ]
    },
    {
      "cell_type": "code",
      "metadata": {
        "colab": {
          "base_uri": "https://localhost:8080/"
        },
        "id": "rThw1Hk6lT9G",
        "outputId": "f25ec429-ed7a-4d00-90d9-8981b0c0bac3"
      },
      "source": [
        "# Define base model\r\n",
        "model_SVR =rnd_search.best_estimator_\r\n",
        "\r\n",
        "# evaluate model\r\n",
        "evaluate_model(model_SVR, X_train, y_train_ANN, scoring, cv)"
      ],
      "execution_count": null,
      "outputs": [
        {
          "output_type": "stream",
          "text": [
            "MSE:  0.7444191456534022 ( 1.2347357237153649 )\n"
          ],
          "name": "stdout"
        }
      ]
    },
    {
      "cell_type": "code",
      "metadata": {
        "id": "lZQXQcdo3y_A"
      },
      "source": [
        "# Fit the model on the training set and time the execution\r\n",
        "fitted_SVR = model_SVR.fit(X_train, y_train_ANN)\r\n",
        "\r\n",
        "#predict using training data\r\n",
        "SVR_pred_train = fitted_SVR.predict(X_train)"
      ],
      "execution_count": null,
      "outputs": []
    },
    {
      "cell_type": "code",
      "metadata": {
        "id": "Ow-vmH6Qx18I"
      },
      "source": [
        "#predict using test data\r\n",
        "SVR_pred = fitted_SVR.predict(X_test)\r\n"
      ],
      "execution_count": null,
      "outputs": []
    },
    {
      "cell_type": "markdown",
      "metadata": {
        "id": "TFFYXOckxMIX"
      },
      "source": [
        "## Plot Predicted vs Measured"
      ]
    },
    {
      "cell_type": "code",
      "metadata": {
        "colab": {
          "base_uri": "https://localhost:8080/",
          "height": 295
        },
        "id": "Jlz0AoAOxbXM",
        "outputId": "95fe8871-9072-4486-f8ee-2359e68bdd99"
      },
      "source": [
        "# Plot predicted vs Measured for Apparent Viscosity\r\n",
        "predicted = SVR_pred_train\r\n",
        "predicted2 = SVR_pred\r\n",
        "\r\n",
        "fig, ax = plt.subplots()\r\n",
        "ax.scatter(y_test, predicted2 , c='red', label ='test data ')\r\n",
        "ax.plot([y_test.min(), y_test.max()], [y_test.min(), y_test.max()], 'b--', lw=2)\r\n",
        "\r\n",
        "ax.scatter(y_train, predicted, c= 'green', label ='training data')\r\n",
        "ax.plot([y_train.min(), y_train.max()], [y_train.min(), y_train.max()], 'b--', lw=2)\r\n",
        "\r\n",
        "ax.set_title (' SVR')\r\n",
        "ax.set_xlabel('Measured Apparent Viscosity, cP')\r\n",
        "ax.set_ylabel('Predicted Apparent Viscosity, cP')\r\n",
        "ax.legend(loc= 'upper left')\r\n",
        "plt.show()"
      ],
      "execution_count": null,
      "outputs": [
        {
          "output_type": "display_data",
          "data": {
            "image/png": "[encoded data removed]",
            "text/plain": [
              "<Figure size 432x288 with 1 Axes>"
            ]
          },
          "metadata": {
            "tags": [],
            "needs_background": "light"
          }
        }
      ]
    },
    {
      "cell_type": "markdown",
      "metadata": {
        "id": "rQKZlVxa4U1e"
      },
      "source": [
        "# KNN"
      ]
    },
    {
      "cell_type": "code",
      "metadata": {
        "colab": {
          "base_uri": "https://localhost:8080/"
        },
        "id": "rj3Q7EGp4U18",
        "outputId": "da65d290-b9ca-4a42-b8a7-febfddfed483"
      },
      "source": [
        "# define the base model\r\n",
        "model = KNeighborsRegressor()\r\n",
        "\r\n",
        "# evaluate model\r\n",
        "evaluate_model(model, X_train, y_train,scoring, cv)"
      ],
      "execution_count": null,
      "outputs": [
        {
          "output_type": "stream",
          "text": [
            "MSE:  2.7352083619047622 ( 2.340815991454238 )\n"
          ],
          "name": "stdout"
        }
      ]
    },
    {
      "cell_type": "markdown",
      "metadata": {
        "id": "USGisOI24U1-"
      },
      "source": [
        "## Fine-tune Algorithm"
      ]
    },
    {
      "cell_type": "code",
      "metadata": {
        "colab": {
          "base_uri": "https://localhost:8080/"
        },
        "id": "0JQ-uKDD4U1-",
        "outputId": "e8430a49-63b3-4282-938c-4da7c74dd932"
      },
      "source": [
        "# define the base model\r\n",
        "model = KNeighborsRegressor() \r\n",
        "\r\n",
        "param_dist = {\r\n",
        "    'n_neighbors' : randint(3, 10),\r\n",
        "    'algorithm' : ['auto', 'ball_tree', 'kd_tree', 'brute'],\r\n",
        "    'leaf_size' : randint(10, 100),\r\n",
        "    'p': [1,2]\r\n",
        "\r\n",
        "    }\r\n",
        "\r\n",
        "rnd_search = RandomizedSearchCV(estimator= model, param_distributions=param_dist,cv=cv,\r\n",
        "                           scoring=scoring, return_train_score=True, random_state = seed,\r\n",
        "                           verbose =2, n_jobs=-1,)\r\n",
        "rnd_search.fit(X_train, y_train)\r\n",
        "\r\n",
        "rnd_search.best_params_"
      ],
      "execution_count": null,
      "outputs": [
        {
          "output_type": "stream",
          "text": [
            "Fitting 100 folds for each of 10 candidates, totalling 1000 fits\n"
          ],
          "name": "stdout"
        },
        {
          "output_type": "stream",
          "text": [
            "[Parallel(n_jobs=-1)]: Using backend LokyBackend with 2 concurrent workers.\n",
            "[Parallel(n_jobs=-1)]: Done 396 tasks      | elapsed:    2.0s\n",
            "[Parallel(n_jobs=-1)]: Done 1000 out of 1000 | elapsed:    5.0s finished\n"
          ],
          "name": "stderr"
        },
        {
          "output_type": "execute_result",
          "data": {
            "text/plain": [
              "{'algorithm': 'auto', 'leaf_size': 98, 'n_neighbors': 3, 'p': 1}"
            ]
          },
          "metadata": {
            "tags": []
          },
          "execution_count": 40
        }
      ]
    },
    {
      "cell_type": "code",
      "metadata": {
        "colab": {
          "base_uri": "https://localhost:8080/"
        },
        "id": "iOnqwDC14U1_",
        "outputId": "7b9f73cb-afb5-45c5-fdc0-6406e12d58b4"
      },
      "source": [
        "# Define base model\r\n",
        "model_KNN =rnd_search.best_estimator_\r\n",
        "\r\n",
        "# evaluate model\r\n",
        "evaluate_model(model_KNN,X_train, y_train, scoring,cv)"
      ],
      "execution_count": null,
      "outputs": [
        {
          "output_type": "stream",
          "text": [
            "MSE:  1.2061428346560852 ( 0.9880995524628574 )\n"
          ],
          "name": "stdout"
        }
      ]
    },
    {
      "cell_type": "code",
      "metadata": {
        "id": "kX3Gve9Sm2R4"
      },
      "source": [
        "# Fit the model on the training set\r\n",
        "\r\n",
        "fitted_KNN = model_KNN.fit(X_train, y_train)"
      ],
      "execution_count": null,
      "outputs": []
    },
    {
      "cell_type": "code",
      "metadata": {
        "id": "pLUA0YomzudV"
      },
      "source": [
        "KNN_pred_train = fitted_KNN.predict(X_train)\r\n",
        "KNN_pred = fitted_KNN.predict(X_test)"
      ],
      "execution_count": null,
      "outputs": []
    },
    {
      "cell_type": "markdown",
      "metadata": {
        "id": "blF7NFJEz7ok"
      },
      "source": [
        "## Plot Predicted vs Measured"
      ]
    },
    {
      "cell_type": "code",
      "metadata": {
        "colab": {
          "base_uri": "https://localhost:8080/",
          "height": 294
        },
        "id": "3d_Lzj4-z7om",
        "outputId": "1f6ab2a8-1730-4376-9a89-313b970dfe37"
      },
      "source": [
        "# Plot predicted vs Measured for Apparent Viscosity\r\n",
        "\r\n",
        "predicted = KNN_pred_train\r\n",
        "predicted2 = KNN_pred\r\n",
        "\r\n",
        "fig, ax = plt.subplots()\r\n",
        "ax.scatter(y_test, predicted2 , c='red', label ='test data ')\r\n",
        "ax.plot([y_test.min(), y_test.max()], [y_test.min(), y_test.max()], 'b--', lw=2)\r\n",
        "\r\n",
        "ax.scatter(y_train, predicted, c= 'green', label ='training data')\r\n",
        "ax.plot([y_train.min(), y_train.max()], [y_train.min(), y_train.max()], 'b--', lw=2)\r\n",
        "\r\n",
        "ax.set_title ('KNN')\r\n",
        "ax.set_xlabel('Measured Apparent Viscosity, cP')\r\n",
        "ax.set_ylabel('Predicted Apparent Viscosity, cP')\r\n",
        "ax.legend(loc= 'upper left')\r\n",
        "plt.show()"
      ],
      "execution_count": null,
      "outputs": [
        {
          "output_type": "display_data",
          "data": {
            "image/png": "[encoded data removed]",
            "text/plain": [
              "<Figure size 432x288 with 1 Axes>"
            ]
          },
          "metadata": {
            "tags": [],
            "needs_background": "light"
          }
        }
      ]
    },
    {
      "cell_type": "markdown",
      "metadata": {
        "id": "76-mM5J_7jxw"
      },
      "source": [
        "# CART"
      ]
    },
    {
      "cell_type": "code",
      "metadata": {
        "colab": {
          "base_uri": "https://localhost:8080/"
        },
        "id": "QGrUtaU37jyD",
        "outputId": "d79def57-dddf-4495-a46d-847348e2e223"
      },
      "source": [
        "# define the base model\r\n",
        "model = DecisionTreeRegressor()\r\n",
        "\r\n",
        "# wrapper = MultiOutputRegressor(model)\r\n",
        "evaluate_model(model, X_train, y_train_ANN,scoring, cv)"
      ],
      "execution_count": null,
      "outputs": [
        {
          "output_type": "stream",
          "text": [
            "MSE:  0.5735676559523811 ( 0.4368633496798209 )\n"
          ],
          "name": "stdout"
        }
      ]
    },
    {
      "cell_type": "markdown",
      "metadata": {
        "id": "4TCQTH_57jyE"
      },
      "source": [
        "## Fine-tune Algorithm"
      ]
    },
    {
      "cell_type": "code",
      "metadata": {
        "colab": {
          "base_uri": "https://localhost:8080/"
        },
        "id": "xT7gb6z67jyF",
        "outputId": "bfaaf8c9-8763-45fe-e0c5-f7026d0d93b1"
      },
      "source": [
        "# define the base model\r\n",
        "model = DecisionTreeRegressor(random_state= 42,) \r\n",
        "\r\n",
        "param_dist = {\r\n",
        "    \"max_depth\": randint(2, 10),\r\n",
        "    \"min_samples_split\": randint(2, 10),\r\n",
        "    'min_samples_leaf' : randint(1, 10),\r\n",
        "    'max_features' : [\"auto\", \"sqrt\", \"log2\"],\r\n",
        "    \"max_leaf_nodes\": randint(2, 100),\r\n",
        "\r\n",
        "    }\r\n",
        "\r\n",
        "rnd_search = RandomizedSearchCV(estimator= model, param_distributions=param_dist,cv=cv,\r\n",
        "                           scoring=scoring, return_train_score=True, random_state = seed,\r\n",
        "                           verbose =2, n_jobs=-1,)\r\n",
        "rnd_search.fit(X_train, y_train_ANN)\r\n",
        "\r\n",
        "rnd_search.best_params_"
      ],
      "execution_count": null,
      "outputs": [
        {
          "output_type": "stream",
          "text": [
            "Fitting 100 folds for each of 10 candidates, totalling 1000 fits\n"
          ],
          "name": "stdout"
        },
        {
          "output_type": "stream",
          "text": [
            "[Parallel(n_jobs=-1)]: Using backend LokyBackend with 2 concurrent workers.\n",
            "[Parallel(n_jobs=-1)]: Done 848 tasks      | elapsed:    1.9s\n",
            "[Parallel(n_jobs=-1)]: Done 1000 out of 1000 | elapsed:    2.1s finished\n"
          ],
          "name": "stderr"
        },
        {
          "output_type": "execute_result",
          "data": {
            "text/plain": [
              "{'max_depth': 5,\n",
              " 'max_features': 'auto',\n",
              " 'max_leaf_nodes': 61,\n",
              " 'min_samples_leaf': 2,\n",
              " 'min_samples_split': 3}"
            ]
          },
          "metadata": {
            "tags": []
          },
          "execution_count": 60
        }
      ]
    },
    {
      "cell_type": "code",
      "metadata": {
        "colab": {
          "base_uri": "https://localhost:8080/"
        },
        "id": "x5rkRLkq7jyF",
        "outputId": "79385356-401a-4b96-c84a-93ecd2723d9b"
      },
      "source": [
        "# Define model\r\n",
        "model_CART =rnd_search.best_estimator_\r\n",
        "\r\n",
        "# evaluate model\r\n",
        "evaluate_model(model_CART,X_train, y_train_ANN, scoring,cv)"
      ],
      "execution_count": null,
      "outputs": [
        {
          "output_type": "stream",
          "text": [
            "MSE:  4.65894940601171 ( 3.048474160084756 )\n"
          ],
          "name": "stdout"
        }
      ]
    },
    {
      "cell_type": "code",
      "metadata": {
        "id": "UWGHS3zsm9c5"
      },
      "source": [
        "# Fit the model on the training set\r\n",
        "\r\n",
        "fitted_CART = model_CART.fit(X_train, y_train_ANN)\r\n"
      ],
      "execution_count": null,
      "outputs": []
    },
    {
      "cell_type": "code",
      "metadata": {
        "id": "wqoiL8TB0CEx"
      },
      "source": [
        "CART_pred_train = fitted_CART.predict(X_train)\r\n",
        "CART_pred = fitted_CART.predict(X_test)"
      ],
      "execution_count": null,
      "outputs": []
    },
    {
      "cell_type": "markdown",
      "metadata": {
        "id": "cYnK1z7T0MJP"
      },
      "source": [
        "## Plot Predicted vs Measured"
      ]
    },
    {
      "cell_type": "code",
      "metadata": {
        "colab": {
          "base_uri": "https://localhost:8080/",
          "height": 294
        },
        "id": "aBM8ymCL0MJR",
        "outputId": "e54752bb-5e2f-46b6-c6bf-79ed5ad957d6"
      },
      "source": [
        "# Plot predicted vs Measured for Apparent Viscosity\r\n",
        "\r\n",
        "predicted = CART_pred_train\r\n",
        "predicted2 = CART_pred\r\n",
        "fig, ax = plt.subplots()\r\n",
        "ax.scatter(y_test, predicted2 , c='red', label ='test data ')\r\n",
        "ax.plot([y_test.min(), y_test.max()], [y_test.min(), y_test.max()], 'b--', lw=2)\r\n",
        "\r\n",
        "ax.scatter(y_train_ANN, predicted, c= 'green', label ='training data')\r\n",
        "ax.plot([y_train.min(), y_train.max()], [y_train.min(), y_train.max()], 'b--', lw=2)\r\n",
        "\r\n",
        "ax.set_title ('CART')\r\n",
        "ax.set_xlabel('Measured Apparent Viscosity, cP')\r\n",
        "ax.set_ylabel('Predicted Apparent Viscosity, cP')\r\n",
        "ax.legend(loc= 'upper left')\r\n",
        "plt.show()"
      ],
      "execution_count": null,
      "outputs": [
        {
          "output_type": "display_data",
          "data": {
            "image/png": "[encoded data removed]",
            "text/plain": [
              "<Figure size 432x288 with 1 Axes>"
            ]
          },
          "metadata": {
            "tags": [],
            "needs_background": "light"
          }
        }
      ]
    },
    {
      "cell_type": "markdown",
      "metadata": {
        "id": "6m4eHzjHJAw5"
      },
      "source": [
        "# MLPNN"
      ]
    },
    {
      "cell_type": "markdown",
      "metadata": {
        "id": "TKgWm6zVrcKq"
      },
      "source": [
        "# MLP-LM"
      ]
    },
    {
      "cell_type": "code",
      "metadata": {
        "colab": {
          "base_uri": "https://localhost:8080/"
        },
        "id": "ZCJhv_2IuL0Y",
        "outputId": "8e978059-ef16-42b0-963d-55b40c879ee6"
      },
      "source": [
        "pip install pyrenn"
      ],
      "execution_count": null,
      "outputs": [
        {
          "output_type": "stream",
          "text": [
            "Collecting pyrenn\n",
            "  Downloading https://files.pythonhosted.org/packages/9a/91/c7f721d7cf1becf4d2d32aeab60e75340fdeed32490ce5af6fc2bce60e4a/pyrenn-0.1.tar.gz\n",
            "Requirement already satisfied: numpy in /usr/local/lib/python3.7/dist-packages (from pyrenn) (1.19.5)\n",
            "Building wheels for collected packages: pyrenn\n",
            "  Building wheel for pyrenn (setup.py) ... \u001b[?25l\u001b[?25hdone\n",
            "  Created wheel for pyrenn: filename=pyrenn-0.1-cp37-none-any.whl size=9259 sha256=4709c6c2446bdafe651e8bc5096951af3344dde75546fc078fe44b6116003952\n",
            "  Stored in directory: /root/.cache/pip/wheels/91/ed/b6/ab8600223e6ec9cea9592f0cf6e32db7abb4c2cc4c30b90eac\n",
            "Successfully built pyrenn\n",
            "Installing collected packages: pyrenn\n",
            "Successfully installed pyrenn-0.1\n"
          ],
          "name": "stdout"
        }
      ]
    },
    {
      "cell_type": "code",
      "metadata": {
        "id": "PSGhNHj_q8xH"
      },
      "source": [
        "import pyrenn as prn"
      ],
      "execution_count": null,
      "outputs": []
    },
    {
      "cell_type": "code",
      "metadata": {
        "colab": {
          "base_uri": "https://localhost:8080/"
        },
        "id": "wlvYk7tarAkE",
        "outputId": "aa06ac81-17dc-4e23-a581-45316b48ae26"
      },
      "source": [
        "net = prn.CreateNN([5,20,1])\r\n",
        "\r\n",
        "net = prn.train_LM (X_train.T, y_train_ANN,net,verbose=True,\r\n",
        "                    k_max=100,\r\n",
        "                    E_stop=1e-5)\r\n",
        "\r\n",
        "MLPLM_pred_train = prn.NNOut(X_train.T,net)\r\n",
        "MLPLM_pred = prn.NNOut(X_test.T,net)"
      ],
      "execution_count": null,
      "outputs": [
        {
          "output_type": "stream",
          "text": [
            "Iteration:  0 \t\tError:  46.3060495284191 \tscale factor:  3.0\n",
            "Iteration:  1 \t\tError:  2.0974640416833537 \tscale factor:  0.3\n",
            "Iteration:  2 \t\tError:  1.547943171092291 \tscale factor:  0.03\n",
            "Iteration:  3 \t\tError:  1.0731593166451712 \tscale factor:  0.03\n",
            "Iteration:  4 \t\tError:  0.51395539800042 \tscale factor:  0.03\n",
            "Iteration:  5 \t\tError:  0.32422001561793173 \tscale factor:  0.03\n",
            "Iteration:  6 \t\tError:  0.2278779091379518 \tscale factor:  0.03\n",
            "Iteration:  7 \t\tError:  0.17667991731784705 \tscale factor:  0.03\n",
            "Iteration:  8 \t\tError:  0.1495835963012141 \tscale factor:  0.03\n",
            "Iteration:  9 \t\tError:  0.13229212131011925 \tscale factor:  0.03\n",
            "Iteration:  10 \t\tError:  0.1187953285475382 \tscale factor:  0.03\n",
            "Iteration:  11 \t\tError:  0.10729748210508132 \tscale factor:  0.03\n",
            "Iteration:  12 \t\tError:  0.10233995089924368 \tscale factor:  0.003\n",
            "Iteration:  13 \t\tError:  0.05018643744637326 \tscale factor:  0.003\n",
            "Iteration:  14 \t\tError:  0.041218547475776725 \tscale factor:  0.003\n",
            "Iteration:  15 \t\tError:  0.037257780091107286 \tscale factor:  0.003\n",
            "Iteration:  16 \t\tError:  0.03428635159759252 \tscale factor:  0.003\n",
            "Iteration:  17 \t\tError:  0.03168950060033608 \tscale factor:  0.003\n",
            "Iteration:  18 \t\tError:  0.02938136660578214 \tscale factor:  0.003\n",
            "Iteration:  19 \t\tError:  0.027493999388873085 \tscale factor:  0.003\n",
            "Iteration:  20 \t\tError:  0.026048659232589633 \tscale factor:  0.003\n",
            "Iteration:  21 \t\tError:  0.02497388417642352 \tscale factor:  0.003\n",
            "Iteration:  22 \t\tError:  0.024159325775754335 \tscale factor:  0.003\n",
            "Iteration:  23 \t\tError:  0.023499801590912854 \tscale factor:  0.003\n",
            "Iteration:  24 \t\tError:  0.02292241047525555 \tscale factor:  0.003\n",
            "Iteration:  25 \t\tError:  0.02238562604200264 \tscale factor:  0.003\n",
            "Iteration:  26 \t\tError:  0.021867389513790497 \tscale factor:  0.003\n",
            "Iteration:  27 \t\tError:  0.02135535405750193 \tscale factor:  0.003\n",
            "Iteration:  28 \t\tError:  0.020841511403214757 \tscale factor:  0.003\n",
            "Iteration:  29 \t\tError:  0.02077688123160398 \tscale factor:  0.00030000000000000003\n",
            "Iteration:  30 \t\tError:  0.01672804453948237 \tscale factor:  0.00030000000000000003\n",
            "Iteration:  31 \t\tError:  0.016465182122413824 \tscale factor:  0.00030000000000000003\n",
            "Iteration:  32 \t\tError:  0.016179039752141383 \tscale factor:  0.00030000000000000003\n",
            "Iteration:  33 \t\tError:  0.014568929077958901 \tscale factor:  0.00030000000000000003\n",
            "Iteration:  34 \t\tError:  0.01316402418611585 \tscale factor:  0.00030000000000000003\n",
            "Iteration:  35 \t\tError:  0.010585686654031258 \tscale factor:  0.00030000000000000003\n",
            "Iteration:  36 \t\tError:  0.010112829364832588 \tscale factor:  0.003\n",
            "Iteration:  37 \t\tError:  0.010030279934511473 \tscale factor:  0.003\n",
            "Iteration:  38 \t\tError:  0.009947136030368425 \tscale factor:  0.003\n",
            "Iteration:  39 \t\tError:  0.009863112920484928 \tscale factor:  0.003\n",
            "Iteration:  40 \t\tError:  0.009778168749630393 \tscale factor:  0.003\n",
            "Iteration:  41 \t\tError:  0.009692316621460214 \tscale factor:  0.003\n",
            "Iteration:  42 \t\tError:  0.0096055964169138 \tscale factor:  0.003\n",
            "Iteration:  43 \t\tError:  0.009518067149685505 \tscale factor:  0.003\n",
            "Iteration:  44 \t\tError:  0.00942980498827047 \tscale factor:  0.003\n",
            "Iteration:  45 \t\tError:  0.009340903129768902 \tscale factor:  0.003\n",
            "Iteration:  46 \t\tError:  0.009251472382939843 \tscale factor:  0.003\n",
            "Iteration:  47 \t\tError:  0.009161642027076965 \tscale factor:  0.003\n",
            "Iteration:  48 \t\tError:  0.00907156071106735 \tscale factor:  0.003\n",
            "Iteration:  49 \t\tError:  0.008981397214500225 \tscale factor:  0.003\n",
            "Iteration:  50 \t\tError:  0.00889134090977679 \tscale factor:  0.003\n",
            "Iteration:  51 \t\tError:  0.008801601770735959 \tscale factor:  0.003\n",
            "Iteration:  52 \t\tError:  0.008712409780247524 \tscale factor:  0.003\n",
            "Iteration:  53 \t\tError:  0.008624013601767904 \tscale factor:  0.003\n",
            "Iteration:  54 \t\tError:  0.00853667840134646 \tscale factor:  0.003\n",
            "Iteration:  55 \t\tError:  0.00845068273926488 \tscale factor:  0.003\n",
            "Iteration:  56 \t\tError:  0.008366314495624775 \tscale factor:  0.003\n",
            "Iteration:  57 \t\tError:  0.008283865851667556 \tscale factor:  0.003\n",
            "Iteration:  58 \t\tError:  0.008203627416562744 \tscale factor:  0.003\n",
            "Iteration:  59 \t\tError:  0.008125881664016125 \tscale factor:  0.003\n",
            "Iteration:  60 \t\tError:  0.008050895918414097 \tscale factor:  0.003\n",
            "Iteration:  61 \t\tError:  0.007978915198623449 \tscale factor:  0.003\n",
            "Iteration:  62 \t\tError:  0.00791015528022674 \tscale factor:  0.003\n",
            "Iteration:  63 \t\tError:  0.007844796365176133 \tscale factor:  0.003\n",
            "Iteration:  64 \t\tError:  0.007782977744422364 \tscale factor:  0.003\n",
            "Iteration:  65 \t\tError:  0.00772479379993117 \tscale factor:  0.003\n",
            "Iteration:  66 \t\tError:  0.007670291617952638 \tscale factor:  0.003\n",
            "Iteration:  67 \t\tError:  0.007619470380736205 \tscale factor:  0.003\n",
            "Iteration:  68 \t\tError:  0.007600175996288402 \tscale factor:  0.00030000000000000003\n",
            "Iteration:  69 \t\tError:  0.007211580832405367 \tscale factor:  0.00030000000000000003\n",
            "Iteration:  70 \t\tError:  0.00707137454815151 \tscale factor:  0.00030000000000000003\n",
            "Iteration:  71 \t\tError:  0.006976708664883171 \tscale factor:  0.00030000000000000003\n",
            "Iteration:  72 \t\tError:  0.006886605771898862 \tscale factor:  0.00030000000000000003\n",
            "Iteration:  73 \t\tError:  0.006791497186879758 \tscale factor:  0.00030000000000000003\n",
            "Iteration:  74 \t\tError:  0.006690506374369683 \tscale factor:  0.00030000000000000003\n",
            "Iteration:  75 \t\tError:  0.00658640517992119 \tscale factor:  0.00030000000000000003\n",
            "Iteration:  76 \t\tError:  0.006483634779404773 \tscale factor:  0.00030000000000000003\n",
            "Iteration:  77 \t\tError:  0.0063865850248960776 \tscale factor:  0.00030000000000000003\n",
            "Iteration:  78 \t\tError:  0.0062982059381972285 \tscale factor:  0.00030000000000000003\n",
            "Iteration:  79 \t\tError:  0.0062194063681494235 \tscale factor:  0.00030000000000000003\n",
            "Iteration:  80 \t\tError:  0.006149339608800231 \tscale factor:  0.00030000000000000003\n",
            "Iteration:  81 \t\tError:  0.0060862026096122745 \tscale factor:  0.00030000000000000003\n",
            "Iteration:  82 \t\tError:  0.00602800686390453 \tscale factor:  0.00030000000000000003\n",
            "Iteration:  83 \t\tError:  0.0059730161491936325 \tscale factor:  0.00030000000000000003\n",
            "Iteration:  84 \t\tError:  0.005919866403552079 \tscale factor:  0.00030000000000000003\n",
            "Iteration:  85 \t\tError:  0.0058675181129291785 \tscale factor:  0.00030000000000000003\n",
            "Iteration:  86 \t\tError:  0.005815164484400604 \tscale factor:  0.00030000000000000003\n",
            "Iteration:  87 \t\tError:  0.005762153988342501 \tscale factor:  0.00030000000000000003\n",
            "Iteration:  88 \t\tError:  0.005707947178465696 \tscale factor:  0.00030000000000000003\n",
            "Iteration:  89 \t\tError:  0.005652116631577942 \tscale factor:  0.00030000000000000003\n",
            "Iteration:  90 \t\tError:  0.005594397790470739 \tscale factor:  0.00030000000000000003\n",
            "Iteration:  91 \t\tError:  0.0055347890954132485 \tscale factor:  0.00030000000000000003\n",
            "Iteration:  92 \t\tError:  0.005473666299190097 \tscale factor:  0.00030000000000000003\n",
            "Iteration:  93 \t\tError:  0.005411821165013823 \tscale factor:  0.00030000000000000003\n",
            "Iteration:  94 \t\tError:  0.005350311363342373 \tscale factor:  0.00030000000000000003\n",
            "Iteration:  95 \t\tError:  0.005290103009427491 \tscale factor:  0.00030000000000000003\n",
            "Iteration:  96 \t\tError:  0.005231694973685052 \tscale factor:  0.00030000000000000003\n",
            "Iteration:  97 \t\tError:  0.005175014171559662 \tscale factor:  0.00030000000000000003\n",
            "Iteration:  98 \t\tError:  0.005119629699274525 \tscale factor:  0.00030000000000000003\n",
            "Iteration:  99 \t\tError:  0.005064971775540523 \tscale factor:  0.00030000000000000003\n",
            "Iteration:  100 \t\tError:  0.005010216661223057 \tscale factor:  0.00030000000000000003\n",
            "Maximum number of iterations reached\n"
          ],
          "name": "stdout"
        }
      ]
    },
    {
      "cell_type": "code",
      "metadata": {
        "id": "7hANhNDpzQ4Q"
      },
      "source": [
        ""
      ],
      "execution_count": null,
      "outputs": []
    },
    {
      "cell_type": "markdown",
      "metadata": {
        "id": "_-93L6jK4pMI"
      },
      "source": [
        "## Plot Predicted vs Measured"
      ]
    },
    {
      "cell_type": "code",
      "metadata": {
        "colab": {
          "base_uri": "https://localhost:8080/",
          "height": 294
        },
        "id": "ipZjyS0fzzOV",
        "outputId": "3c32dc89-d3dd-478e-ac8d-b0909a67427d"
      },
      "source": [
        "# Plot predicted vs Measured for Apparent Viscosity\r\n",
        "\r\n",
        "predicted = MLPLM_pred_train\r\n",
        "predicted2 = MLPLM_pred\r\n",
        "\r\n",
        "fig, ax = plt.subplots()\r\n",
        "ax.scatter(y_test, predicted2 , c='red', label ='test data ')\r\n",
        "ax.plot([y_test.min(), y_test.max()], [y_test.min(), y_test.max()], 'b--', lw=2)\r\n",
        "\r\n",
        "ax.scatter(y_train, predicted, c= 'green', label ='training data')\r\n",
        "ax.plot([y_train.min(), y_train.max()], [y_train.min(), y_train.max()], 'b--', lw=2)\r\n",
        "\r\n",
        "ax.set_title ('ANN')\r\n",
        "ax.set_xlabel('Measured Apparent Viscosity, cP')\r\n",
        "ax.set_ylabel('Predicted Apparent Viscosity, cP')\r\n",
        "ax.legend(loc= 'upper left')\r\n",
        "plt.show()"
      ],
      "execution_count": null,
      "outputs": [
        {
          "output_type": "display_data",
          "data": {
            "image/png": "[encoded data removed]",
            "text/plain": [
              "<Figure size 432x288 with 1 Axes>"
            ]
          },
          "metadata": {
            "tags": [],
            "needs_background": "light"
          }
        }
      ]
    },
    {
      "cell_type": "markdown",
      "metadata": {
        "id": "P00sTKcE45Nh"
      },
      "source": [
        "# MLP-RMS"
      ]
    },
    {
      "cell_type": "markdown",
      "metadata": {
        "id": "3kRW-gdIrUoS"
      },
      "source": [
        "## Utilities"
      ]
    },
    {
      "cell_type": "code",
      "metadata": {
        "id": "TmSiUFW81Wnv"
      },
      "source": [
        "# Create function to build and compile a Keras model\r\n",
        "\r\n",
        "def build_model(n_hidden=1, n_neurons=30, learning_rate = 3e-3, input_shape = X_train.shape[1:]): # explicitly state no of features as input_shape\r\n",
        "  model = keras.models.Sequential()\r\n",
        "  options = {\"input_shape\": input_shape}\r\n",
        "\r\n",
        "  for layer in range(n_hidden):\r\n",
        "    model.add(keras.layers.Dense(n_neurons, kernel_initializer=\"he_normal\",\r\n",
        "                                 kernel_constraint=keras.constraints.max_norm(3), activation=\"relu\", **options))\r\n",
        "    keras.layers.Dropout(rate=0.45)\r\n",
        "    options ={} # so that input_shape option only applies to first layer\r\n",
        "    \r\n",
        "    \r\n",
        "  model.add(keras.layers.Dense(1, kernel_initializer=\"he_normal\",\r\n",
        "                               kernel_constraint=keras.constraints.max_norm(1.), activation=\"linear\", **options)) #output layer\r\n",
        "\r\n",
        "  # optimizer = keras.optimizers.SGD(learning_rate, momentum=0.9) # optimizer explicitly declared so as to be able to tweak learning rate\r\n",
        "  optimizer = keras.optimizers.RMSprop(learning_rate)\r\n",
        "\r\n",
        "  model.compile(loss = \"mse\", optimizer = optimizer) # mse represents l2 loss\r\n",
        "  return model\r\n",
        "\r\n"
      ],
      "execution_count": null,
      "outputs": []
    },
    {
      "cell_type": "markdown",
      "metadata": {
        "id": "p88xMWd1tADE"
      },
      "source": [
        "## Fine-tune Algorithm"
      ]
    },
    {
      "cell_type": "code",
      "metadata": {
        "id": "E6zgjcDgZOV5"
      },
      "source": [
        "# First Search to finetine model parameters\r\n",
        "\r\n",
        "keras_reg = keras.wrappers.scikit_learn.KerasRegressor(build_model)\r\n",
        "\r\n",
        "param_distribs = {\r\n",
        "    \"n_hidden\": randint(1,5),\r\n",
        "    \"n_neurons\": randint(2, 500),\r\n",
        "\r\n",
        "}\r\n",
        "\r\n",
        "search_result = RandomizedSearchCV(keras_reg, param_distribs, cv=cv, verbose=2, n_jobs=-1, random_state=42)\r\n",
        "search_result.fit(X_train, y_train,\r\n",
        "        epochs = 100, batch_size = 20,\r\n",
        "        validation_split = 0.2,\r\n",
        "        callbacks=[keras.callbacks.EarlyStopping(patience=10)])\r\n",
        "\r\n",
        "model_ANN = search_result.best_estimator_\r\n",
        "\r\n"
      ],
      "execution_count": null,
      "outputs": []
    },
    {
      "cell_type": "code",
      "metadata": {
        "colab": {
          "base_uri": "https://localhost:8080/"
        },
        "id": "2YJ9GHd-jfKV",
        "outputId": "fa03ebb5-c1b4-43b5-f3a3-0cdb485cff24"
      },
      "source": [
        "model_ANN.get_params()"
      ],
      "execution_count": null,
      "outputs": [
        {
          "output_type": "execute_result",
          "data": {
            "text/plain": [
              "{'build_fn': <function __main__.build_model>, 'n_hidden': 3, 'n_neurons': 73}"
            ]
          },
          "metadata": {
            "tags": []
          },
          "execution_count": 123
        }
      ]
    },
    {
      "cell_type": "code",
      "metadata": {
        "colab": {
          "base_uri": "https://localhost:8080/"
        },
        "id": "LyyuJ1q6i2fE",
        "outputId": "81cf3441-5c3f-4eef-ae67-c3cd47dd7fe3"
      },
      "source": [
        "# Fit model with data\r\n",
        "fitted_ANN = model_ANN.fit(X_train, y_train, epochs = 300, batch_size = 20,\r\n",
        "         validation_split = 0.2,callbacks=[keras.callbacks.EarlyStopping(patience=10)])\r\n",
        "\r\n",
        "# Save the entire model as a SavedModel.\r\n",
        "model = search_result.best_estimator_.model\r\n",
        "# ! Be sure to mount google drive first\r\n",
        "!mkdir -p saved_model\r\n",
        "model.save(\"/content/drive/MyDrive/Colab Notebooks/saved_model/Paper2_MLPNN\") "
      ],
      "execution_count": null,
      "outputs": [
        {
          "output_type": "stream",
          "text": [
            "Epoch 1/300\n",
            "9/9 [==============================] - 1s 24ms/step - loss: 103.8023 - val_loss: 38.4124\n",
            "Epoch 2/300\n",
            "9/9 [==============================] - 0s 7ms/step - loss: 30.9069 - val_loss: 24.6939\n",
            "Epoch 3/300\n",
            "9/9 [==============================] - 0s 7ms/step - loss: 26.9653 - val_loss: 20.9197\n",
            "Epoch 4/300\n",
            "9/9 [==============================] - 0s 7ms/step - loss: 26.2689 - val_loss: 16.9270\n",
            "Epoch 5/300\n",
            "9/9 [==============================] - 0s 7ms/step - loss: 14.8145 - val_loss: 12.6648\n",
            "Epoch 6/300\n",
            "9/9 [==============================] - 0s 8ms/step - loss: 13.1842 - val_loss: 12.9181\n",
            "Epoch 7/300\n",
            "9/9 [==============================] - 0s 7ms/step - loss: 12.0468 - val_loss: 9.0899\n",
            "Epoch 8/300\n",
            "9/9 [==============================] - 0s 7ms/step - loss: 9.7575 - val_loss: 7.0526\n",
            "Epoch 9/300\n",
            "9/9 [==============================] - 0s 8ms/step - loss: 8.6741 - val_loss: 4.6255\n",
            "Epoch 10/300\n",
            "9/9 [==============================] - 0s 7ms/step - loss: 4.1850 - val_loss: 3.2609\n",
            "Epoch 11/300\n",
            "9/9 [==============================] - 0s 8ms/step - loss: 7.0022 - val_loss: 2.9363\n",
            "Epoch 12/300\n",
            "9/9 [==============================] - 0s 7ms/step - loss: 4.0940 - val_loss: 2.6337\n",
            "Epoch 13/300\n",
            "9/9 [==============================] - 0s 7ms/step - loss: 2.0783 - val_loss: 12.6336\n",
            "Epoch 14/300\n",
            "9/9 [==============================] - 0s 7ms/step - loss: 4.7925 - val_loss: 2.2483\n",
            "Epoch 15/300\n",
            "9/9 [==============================] - 0s 8ms/step - loss: 2.4356 - val_loss: 6.5229\n",
            "Epoch 16/300\n",
            "9/9 [==============================] - 0s 7ms/step - loss: 7.3348 - val_loss: 2.0376\n",
            "Epoch 17/300\n",
            "9/9 [==============================] - 0s 7ms/step - loss: 3.6580 - val_loss: 1.1661\n",
            "Epoch 18/300\n",
            "9/9 [==============================] - 0s 8ms/step - loss: 2.5535 - val_loss: 11.3830\n",
            "Epoch 19/300\n",
            "9/9 [==============================] - 0s 8ms/step - loss: 5.0683 - val_loss: 1.5965\n",
            "Epoch 20/300\n",
            "9/9 [==============================] - 0s 8ms/step - loss: 1.5732 - val_loss: 5.9270\n",
            "Epoch 21/300\n",
            "9/9 [==============================] - 0s 7ms/step - loss: 2.8979 - val_loss: 3.0735\n",
            "Epoch 22/300\n",
            "9/9 [==============================] - 0s 8ms/step - loss: 2.1515 - val_loss: 4.0482\n",
            "Epoch 23/300\n",
            "9/9 [==============================] - 0s 7ms/step - loss: 2.8892 - val_loss: 1.4001\n",
            "Epoch 24/300\n",
            "9/9 [==============================] - 0s 7ms/step - loss: 1.3712 - val_loss: 2.6656\n",
            "Epoch 25/300\n",
            "9/9 [==============================] - 0s 7ms/step - loss: 1.4972 - val_loss: 2.6798\n",
            "Epoch 26/300\n",
            "9/9 [==============================] - 0s 7ms/step - loss: 1.5231 - val_loss: 1.9112\n",
            "Epoch 27/300\n",
            "9/9 [==============================] - 0s 7ms/step - loss: 1.3044 - val_loss: 0.7183\n",
            "Epoch 28/300\n",
            "9/9 [==============================] - 0s 7ms/step - loss: 2.7213 - val_loss: 1.2413\n",
            "Epoch 29/300\n",
            "9/9 [==============================] - 0s 8ms/step - loss: 2.1832 - val_loss: 0.8273\n",
            "Epoch 30/300\n",
            "9/9 [==============================] - 0s 8ms/step - loss: 1.6539 - val_loss: 0.6986\n",
            "Epoch 31/300\n",
            "9/9 [==============================] - 0s 7ms/step - loss: 0.5772 - val_loss: 0.8568\n",
            "Epoch 32/300\n",
            "9/9 [==============================] - 0s 8ms/step - loss: 2.5607 - val_loss: 0.6174\n",
            "Epoch 33/300\n",
            "9/9 [==============================] - 0s 7ms/step - loss: 2.2163 - val_loss: 0.5285\n",
            "Epoch 34/300\n",
            "9/9 [==============================] - 0s 7ms/step - loss: 1.4793 - val_loss: 2.4306\n",
            "Epoch 35/300\n",
            "9/9 [==============================] - 0s 8ms/step - loss: 0.9588 - val_loss: 1.6046\n",
            "Epoch 36/300\n",
            "9/9 [==============================] - 0s 7ms/step - loss: 2.4260 - val_loss: 0.8801\n",
            "Epoch 37/300\n",
            "9/9 [==============================] - 0s 7ms/step - loss: 1.7501 - val_loss: 0.8416\n",
            "Epoch 38/300\n",
            "9/9 [==============================] - 0s 7ms/step - loss: 0.3909 - val_loss: 1.1692\n",
            "Epoch 39/300\n",
            "9/9 [==============================] - 0s 8ms/step - loss: 1.1173 - val_loss: 1.0908\n",
            "Epoch 40/300\n",
            "9/9 [==============================] - 0s 8ms/step - loss: 1.8214 - val_loss: 0.7256\n",
            "Epoch 41/300\n",
            "9/9 [==============================] - 0s 7ms/step - loss: 0.9034 - val_loss: 0.8263\n",
            "Epoch 42/300\n",
            "9/9 [==============================] - 0s 7ms/step - loss: 1.9764 - val_loss: 0.7743\n",
            "Epoch 43/300\n",
            "9/9 [==============================] - 0s 7ms/step - loss: 2.9435 - val_loss: 0.5746\n",
            "INFO:tensorflow:Assets written to: /content/drive/MyDrive/Colab Notebooks/saved_model/Paper2_MLPNN/assets\n"
          ],
          "name": "stdout"
        }
      ]
    },
    {
      "cell_type": "code",
      "metadata": {
        "id": "kXgxN5ZYzPFE"
      },
      "source": [
        "keras.backend.clear_session()\r\n",
        "np.random.seed(42)\r\n",
        "tf.random.set_seed(42)\r\n"
      ],
      "execution_count": null,
      "outputs": []
    },
    {
      "cell_type": "code",
      "metadata": {
        "id": "ST28Lsh9HzDT"
      },
      "source": [
        "# # ... and later\r\n",
        "\r\n",
        "# # ! Be sure to mount google drive first\r\n",
        "# model_ANN = keras.models.load_model(\"/content/drive/MyDrive/Colab Notebooks/saved_model/Paper2_MLPNN\")\r\n",
        "\r\n",
        "# fitted_ANN = model_ANN.fit(X_train, y_train, epochs = 300, batch_size = 20,\r\n",
        "#          validation_split = 0.2,callbacks=[keras.callbacks.EarlyStopping(patience=10)])"
      ],
      "execution_count": null,
      "outputs": []
    },
    {
      "cell_type": "code",
      "metadata": {
        "colab": {
          "base_uri": "https://localhost:8080/",
          "height": 294
        },
        "id": "F6n4p12WDFjI",
        "outputId": "60a34651-2970-46d6-cac4-4c826abf74c7"
      },
      "source": [
        "# summarize history for loss\n",
        "plt.plot(fitted_ANN.history[ 'loss' ])\n",
        "plt.plot(fitted_ANN.history[ 'val_loss' ])\n",
        "plt.title( 'model loss' )\n",
        "plt.ylabel( 'loss' )\n",
        "plt.xlabel( 'epoch' )\n",
        "plt.legend([ 'train ', 'test' ], loc= 'upper right' )\n",
        "plt.show()"
      ],
      "execution_count": null,
      "outputs": [
        {
          "output_type": "display_data",
          "data": {
            "image/png": "[encoded data removed]",
            "text/plain": [
              "<Figure size 432x288 with 1 Axes>"
            ]
          },
          "metadata": {
            "tags": [],
            "needs_background": "light"
          }
        }
      ]
    },
    {
      "cell_type": "code",
      "metadata": {
        "id": "M0EUY1yU0VHe"
      },
      "source": [
        "ANN_pred_train = model_ANN.predict(X_train)\r\n",
        "ANN_pred = model_ANN.predict(X_test)"
      ],
      "execution_count": null,
      "outputs": []
    },
    {
      "cell_type": "markdown",
      "metadata": {
        "id": "uBTfmJN00aaq"
      },
      "source": [
        "## Plot Predicted vs Measured"
      ]
    },
    {
      "cell_type": "code",
      "metadata": {
        "colab": {
          "base_uri": "https://localhost:8080/",
          "height": 294
        },
        "id": "VMWb3BO90aaq",
        "outputId": "8ca2e461-170d-4e21-ed16-30dd927573b9"
      },
      "source": [
        "# Plot predicted vs Measured for Apparent Viscosity\r\n",
        "\r\n",
        "predicted = ANN_pred_train\r\n",
        "predicted2 = ANN_pred\r\n",
        "\r\n",
        "fig, ax = plt.subplots()\r\n",
        "ax.scatter(y_test, predicted2 , c='red', label ='test data ')\r\n",
        "ax.plot([y_test.min(), y_test.max()], [y_test.min(), y_test.max()], 'b--', lw=2)\r\n",
        "\r\n",
        "ax.scatter(y_train, predicted, c= 'green', label ='training data')\r\n",
        "ax.plot([y_train.min(), y_train.max()], [y_train.min(), y_train.max()], 'b--', lw=2)\r\n",
        "\r\n",
        "ax.set_title ('ANN')\r\n",
        "ax.set_xlabel('Measured Apparent Viscosity, cP')\r\n",
        "ax.set_ylabel('Predicted Apparent Viscosity, cP')\r\n",
        "ax.legend(loc= 'upper left')\r\n",
        "plt.show()"
      ],
      "execution_count": null,
      "outputs": [
        {
          "output_type": "display_data",
          "data": {
            "image/png": "[encoded data removed]",
            "text/plain": [
              "<Figure size 432x288 with 1 Axes>"
            ]
          },
          "metadata": {
            "tags": [],
            "needs_background": "light"
          }
        }
      ]
    },
    {
      "cell_type": "markdown",
      "metadata": {
        "id": "hVZeVarWCbnL"
      },
      "source": [
        "# Evaluate Algorithms"
      ]
    },
    {
      "cell_type": "markdown",
      "metadata": {
        "id": "DcOB26PQu67k"
      },
      "source": [
        "## MSE "
      ]
    },
    {
      "cell_type": "code",
      "metadata": {
        "colab": {
          "base_uri": "https://localhost:8080/"
        },
        "id": "b2D6l658jo_I",
        "outputId": "65135460-8915-4d07-90f6-6737a4d5d690"
      },
      "source": [
        "# Compare Models using MSE for train set\r\n",
        "models_train =[]\r\n",
        "\r\n",
        "\r\n",
        "models_train.append(('CART', CART_pred_train))\r\n",
        "models_train.append(('KNN', KNN_pred_train))\r\n",
        "models_train.append(('SVR', SVR_pred_train)) # The Multioutput wrapper for SVR\r\n",
        "models_train.append(('MLPLM', MLPLM_pred_train))\r\n",
        "models_train.append(('MLPNN', ANN_pred_train))\r\n",
        "\r\n",
        "# Evaluate each model in turn\r\n",
        "results = []\r\n",
        "names = []\r\n",
        "\r\n",
        "for name, predict_valu in models_train:\r\n",
        "    cv_results = mean_squared_error(y_train_ANN, predict_valu)\r\n",
        "    cv_results = np.abs(cv_results)\r\n",
        "    results.append(cv_results)\r\n",
        "    names.append(name)\r\n",
        "    print(name,\":\", \"MSE:\", cv_results)\r\n"
      ],
      "execution_count": null,
      "outputs": [
        {
          "output_type": "stream",
          "text": [
            "CART : MSE: 3.5139500079015478\n",
            "KNN : MSE: 0.14479914938862307\n",
            "SVR : MSE: 0.10198034147018858\n",
            "MLPLM : MSE: 0.02859926600647069\n",
            "MLPNN : MSE: 0.31038513998223866\n"
          ],
          "name": "stdout"
        }
      ]
    },
    {
      "cell_type": "markdown",
      "metadata": {
        "id": "QVQjYkVXreC3"
      },
      "source": [
        "The SVR has the lowest error"
      ]
    },
    {
      "cell_type": "code",
      "metadata": {
        "colab": {
          "base_uri": "https://localhost:8080/"
        },
        "id": "RhcCaR9sPgez",
        "outputId": "c9c911d7-e8b9-4d8a-8855-e3680905a50a"
      },
      "source": [
        "# Compare Models using MSE for test set\r\n",
        "models_test =[]\r\n",
        "\r\n",
        "models_test.append(('CART', CART_pred))\r\n",
        "models_test.append(('KNN', KNN_pred))\r\n",
        "models_test.append(('SVR', SVR_pred)) # The Multioutput wrapper for SVR\r\n",
        "models_test.append(('MLPLM', MLPLM_pred))\r\n",
        "models_test.append(('MLPNN', ANN_pred))\r\n",
        "\r\n",
        "# Evaluate each model in turn\r\n",
        "results = []\r\n",
        "names = []\r\n",
        "\r\n",
        "for name, predict_val in models_test:\r\n",
        "    cv_results = mean_squared_error(y_test, predict_val,multioutput='raw_values')\r\n",
        "    cv_results = np.abs(cv_results)\r\n",
        "    results.append(cv_results)\r\n",
        "    names.append(name)\r\n",
        "    print(name,\":\", \"MSE:\", cv_results)\r\n"
      ],
      "execution_count": null,
      "outputs": [
        {
          "output_type": "stream",
          "text": [
            "CART : MSE: [4.80628576]\n",
            "KNN : MSE: [0.71966184]\n",
            "SVR : MSE: [0.20351225]\n",
            "MLPLM : MSE: [0.03487725]\n",
            "MLPNN : MSE: [0.47409865]\n"
          ],
          "name": "stdout"
        }
      ]
    },
    {
      "cell_type": "markdown",
      "metadata": {
        "id": "vxyTRPN_NElC"
      },
      "source": [
        "## RMSE"
      ]
    },
    {
      "cell_type": "code",
      "metadata": {
        "colab": {
          "base_uri": "https://localhost:8080/"
        },
        "id": "jOSfU24zktiI",
        "outputId": "abee730e-ddfc-4b6f-ff12-94211935b4b1"
      },
      "source": [
        "# Compare Models using MSE for train set\r\n",
        "\r\n",
        "results = []\r\n",
        "names = []\r\n",
        "\r\n",
        "for name, predict_valu in models_train:\r\n",
        "    cv_results = mean_squared_error(y_train, predict_valu,multioutput='raw_values')\r\n",
        "    cv_results = np.abs(cv_results)\r\n",
        "    cv_results = np.sqrt(cv_results)\r\n",
        "    results.append(cv_results)\r\n",
        "    names.append(name)\r\n",
        "    print(name,\":\", \"RMSE:\", cv_results)\r\n"
      ],
      "execution_count": null,
      "outputs": [
        {
          "output_type": "stream",
          "text": [
            "CART : RMSE: [1.87455328]\n",
            "KNN : RMSE: [0.38052483]\n",
            "SVR : RMSE: [0.31934361]\n",
            "MLPLM : RMSE: [0.16911318]\n",
            "MLPNN : RMSE: [0.55712219]\n"
          ],
          "name": "stdout"
        }
      ]
    },
    {
      "cell_type": "code",
      "metadata": {
        "colab": {
          "base_uri": "https://localhost:8080/"
        },
        "id": "K1CXR1g0NElO",
        "outputId": "edaa57c3-bf70-4210-dac9-30e174f72784"
      },
      "source": [
        "# Compare Models using RMSE for test set\r\n",
        "results = []\r\n",
        "names = []\r\n",
        "\r\n",
        "for name, predict_val in models_test:\r\n",
        "    cv_results = mean_squared_error(y_test, predict_val,multioutput='raw_values')\r\n",
        "    cv_results = np.abs(cv_results)\r\n",
        "    cv_results = np.sqrt(cv_results)\r\n",
        "    results.append(cv_results)\r\n",
        "    names.append(name)\r\n",
        "    print(name,\":\", \"RMSE:\", cv_results)\r\n"
      ],
      "execution_count": null,
      "outputs": [
        {
          "output_type": "stream",
          "text": [
            "CART : RMSE: [2.19232428]\n",
            "KNN : RMSE: [0.84832885]\n",
            "SVR : RMSE: [0.45112332]\n",
            "MLPLM : RMSE: [0.18675451]\n",
            "MLPNN : RMSE: [0.68854822]\n"
          ],
          "name": "stdout"
        }
      ]
    },
    {
      "cell_type": "markdown",
      "metadata": {
        "id": "_SUZ1HrgNElO"
      },
      "source": [
        "SVR has the lowest  MSE"
      ]
    },
    {
      "cell_type": "markdown",
      "metadata": {
        "id": "1CE-6FKhNElP"
      },
      "source": [
        "Next, Box and Whisker plots are created to visually compare the performances of the algorithms"
      ]
    },
    {
      "cell_type": "code",
      "metadata": {
        "id": "zb8v7QW-NElP"
      },
      "source": [
        "# # Compare Algorithms\r\n",
        "# fig = plt.figure()\r\n",
        "# fig.suptitle('Algorithm Comparison')\r\n",
        "# ax = fig.add_subplot(111)\r\n",
        "# plt.boxplot(results)\r\n",
        "# ax.set_xticklabels(names)\r\n",
        "# plt.show()"
      ],
      "execution_count": null,
      "outputs": []
    },
    {
      "cell_type": "markdown",
      "metadata": {
        "id": "Ngf-MuGNNElP"
      },
      "source": [
        "The SVR has the lowest error"
      ]
    },
    {
      "cell_type": "markdown",
      "metadata": {
        "id": "xuqx67SGu_pX"
      },
      "source": [
        "## MAE"
      ]
    },
    {
      "cell_type": "code",
      "metadata": {
        "id": "lbS6D4BWvJb6"
      },
      "source": [
        "# # Compare Models using MAE for training set\r\n",
        "# results = []\r\n",
        "# names = []\r\n",
        "\r\n",
        "# scoring = 'neg_mean_absolute_error'\r\n",
        "# for name, model in models_train:\r\n",
        "#   if name == 'ANN':\r\n",
        "#     cv_results = cross_val_score(model, X_train_ANN, y_train, cv = cv, scoring=scoring, n_jobs = -1)\r\n",
        "#   else:\r\n",
        "#     cv_results = cross_val_score(model, X_train, y_train, cv = cv, scoring=scoring, n_jobs = -1)\r\n",
        " \r\n",
        "#   cv_results = np.abs(cv_results)\r\n",
        "#   results.append(cv_results)\r\n",
        "#   names.append(name)\r\n",
        "#   print(name,\":\", \"MAE:\", cv_results.mean(), \"STD:\", cv_results.std())"
      ],
      "execution_count": null,
      "outputs": []
    },
    {
      "cell_type": "markdown",
      "metadata": {
        "id": "niwlIjXbvJb-"
      },
      "source": [
        "SVR has the lowest  MAE"
      ]
    },
    {
      "cell_type": "code",
      "metadata": {
        "colab": {
          "base_uri": "https://localhost:8080/"
        },
        "id": "AnZ64oAfqM_f",
        "outputId": "5a1da9c4-c2b7-468f-dfd4-db70f3fbd02a"
      },
      "source": [
        "# Compare Models using MAE for training set\r\n",
        "\r\n",
        "results_val = []\r\n",
        "names = []\r\n",
        "print('Name    Metric     AppVis       MRF  ')\r\n",
        "print('-'*40)\r\n",
        "for name, predict_valu in models_train:\r\n",
        "    cv_results = mean_absolute_error(y_train, predict_valu,multioutput='raw_values')\r\n",
        "    cv_results = np.abs(cv_results)\r\n",
        "    results.append(cv_results)\r\n",
        "    names.append(name)\r\n",
        "    print(name,\":\", \"MAE:\", cv_results)"
      ],
      "execution_count": null,
      "outputs": [
        {
          "output_type": "stream",
          "text": [
            "Name    Metric     AppVis       MRF  \n",
            "----------------------------------------\n",
            "CART : MAE: [1.1189915]\n",
            "KNN : MAE: [0.17059011]\n",
            "SVR : MAE: [0.16673283]\n",
            "MLPLM : MAE: [0.12070366]\n",
            "MLPNN : MAE: [0.35971505]\n"
          ],
          "name": "stdout"
        }
      ]
    },
    {
      "cell_type": "code",
      "metadata": {
        "colab": {
          "base_uri": "https://localhost:8080/"
        },
        "id": "7KgRx8KjJwCx",
        "outputId": "ef51cc12-09e6-4d6b-aad1-2cc03771da32"
      },
      "source": [
        "# Compare Models using MAE for test set\r\n",
        "\r\n",
        "results_val = []\r\n",
        "names = []\r\n",
        "print('Name    Metric     AppVis       MRF  ')\r\n",
        "print('-'*40)\r\n",
        "for name, predict_val in models_test:\r\n",
        "    cv_results = mean_absolute_error(y_test, predict_val,multioutput='raw_values')\r\n",
        "    cv_results = np.abs(cv_results)\r\n",
        "    results.append(cv_results)\r\n",
        "    names.append(name)\r\n",
        "    print(name,\":\", \"MAE:\", cv_results)"
      ],
      "execution_count": null,
      "outputs": [
        {
          "output_type": "stream",
          "text": [
            "Name    Metric     AppVis       MRF  \n",
            "----------------------------------------\n",
            "CART : MAE: [1.21492013]\n",
            "KNN : MAE: [0.39830189]\n",
            "SVR : MAE: [0.24505496]\n",
            "MLPLM : MAE: [0.13170186]\n",
            "MLPNN : MAE: [0.43843496]\n"
          ],
          "name": "stdout"
        }
      ]
    },
    {
      "cell_type": "markdown",
      "metadata": {
        "id": "XZuHpbq3vJb_"
      },
      "source": [
        "Next, Box and Whisker plots are created to visually compare the performances of the algorithms"
      ]
    },
    {
      "cell_type": "code",
      "metadata": {
        "id": "hJFCddsUvJcA"
      },
      "source": [
        "# # Compare Algorithms\r\n",
        "# fig = plt.figure()\r\n",
        "# fig.suptitle('Algorithm Comparison Using MAE')\r\n",
        "# ax = fig.add_subplot(111)\r\n",
        "# plt.boxplot(results)\r\n",
        "# ax.set_xticklabels(names)\r\n",
        "# plt.show()"
      ],
      "execution_count": null,
      "outputs": []
    },
    {
      "cell_type": "markdown",
      "metadata": {
        "id": "uaFVDA_QLGnn"
      },
      "source": [
        "## R SQUARED"
      ]
    },
    {
      "cell_type": "markdown",
      "metadata": {
        "id": "Lfka-nxhLGn8"
      },
      "source": [
        "SVR has the highest R-squared score"
      ]
    },
    {
      "cell_type": "code",
      "metadata": {
        "colab": {
          "base_uri": "https://localhost:8080/"
        },
        "id": "PI2VHd8oGuPg",
        "outputId": "a0dbd0a0-c526-4379-8e55-8089ae28fbea"
      },
      "source": [
        "# Compare Models using R-squared for training set\r\n",
        "\r\n",
        "results = []\r\n",
        "names = []\r\n",
        "print('Name    Metric     AppVis       MRF  ')\r\n",
        "print('-'*40)\r\n",
        "for name, predict_valu in models_train:\r\n",
        "    cv_results = r2_score(y_train, predict_valu)\r\n",
        "    # cv_results = np.abs(cv_results)\r\n",
        "    results.append(cv_results)\r\n",
        "    names.append(name)\r\n",
        "    print(name,\":\", \"R-squared:\", cv_results)"
      ],
      "execution_count": null,
      "outputs": [
        {
          "output_type": "stream",
          "text": [
            "Name    Metric     AppVis       MRF  \n",
            "----------------------------------------\n",
            "CART : R-squared: 0.8784044234709534\n",
            "KNN : R-squared: 0.9949894176037696\n",
            "SVR : R-squared: 0.9964711056253467\n",
            "MLPLM : R-squared: 0.9990103603550009\n",
            "MLPNN : R-squared: 0.9892595341546343\n"
          ],
          "name": "stdout"
        }
      ]
    },
    {
      "cell_type": "code",
      "metadata": {
        "colab": {
          "base_uri": "https://localhost:8080/"
        },
        "id": "gZU-WSYHKZ0t",
        "outputId": "7f6f8ab2-121d-4243-d001-970dbcd64904"
      },
      "source": [
        "# Compare Models using R-squared for test set\r\n",
        "\r\n",
        "results = []\r\n",
        "names = []\r\n",
        "print('Name    Metric     AppVis')\r\n",
        "print('-'*30)\r\n",
        "for name, predict_val in models_test:\r\n",
        "    cv_results = r2_score(y_test, predict_val)\r\n",
        "    # cv_results = np.abs(cv_results)\r\n",
        "    results.append(cv_results)\r\n",
        "    names.append(name)\r\n",
        "    print(name,\":\", \"R-squared:\", cv_results)"
      ],
      "execution_count": null,
      "outputs": [
        {
          "output_type": "stream",
          "text": [
            "Name    Metric     AppVis\n",
            "------------------------------\n",
            "CART : R-squared: 0.8302358741729599\n",
            "KNN : R-squared: 0.9745806283359996\n",
            "SVR : R-squared: 0.9928116885032501\n",
            "MLPLM : R-squared: 0.99876809131281\n",
            "MLPNN : R-squared: 0.9832542325646471\n"
          ],
          "name": "stdout"
        }
      ]
    },
    {
      "cell_type": "markdown",
      "metadata": {
        "id": "j5fmTgrBvDFr"
      },
      "source": [
        "## Execution Time"
      ]
    },
    {
      "cell_type": "markdown",
      "metadata": {
        "id": "B2D8__EjkGel"
      },
      "source": [
        "# Feature Importance"
      ]
    },
    {
      "cell_type": "code",
      "metadata": {
        "id": "eX7H0JC1UXys"
      },
      "source": [
        "from sklearn.inspection import permutation_importance\r\n",
        "\r\n",
        "# perform permutation importance\r\n",
        "results = permutation_importance(model_KNN, X_train, y_train,\r\n",
        "                                 scoring='neg_mean_squared_error',\r\n",
        "                                 n_repeats=10, n_jobs=-1, random_state=42)\r\n",
        "# get importance\r\n",
        "feature_importance = results.importances_mean\r\n",
        "sorted_feat= sorted(zip(feature_importance, train_X), reverse=True)\r\n",
        "# Create two lists from the list of tuples created\r\n",
        "value,name = [list(c) for c in zip(*sorted_feat)]\r\n",
        "\r\n",
        "# Plot the features\r\n",
        "plt.figure(figsize=(8,6))\r\n",
        "plt.title(\"Feature importances\")\r\n",
        "plt.barh(y = name, width= value, color= 'r')\r\n",
        "plt.xlabel('Relative Importance')\r\n",
        "plt.ylabel(' Features ')\r\n",
        "plt.show()\r\n",
        "\r\n"
      ],
      "execution_count": null,
      "outputs": []
    }
  ]
}
