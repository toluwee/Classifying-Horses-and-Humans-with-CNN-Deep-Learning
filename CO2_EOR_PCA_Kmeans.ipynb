{
  "nbformat": 4,
  "nbformat_minor": 0,
  "metadata": {
    "colab": {
      "name": "CO2_EOR_PCA_Kmeans.ipynb",
      "provenance": [],
      "collapsed_sections": [
        "GLOqXV8OIVg0",
        "1hmdwJ8Mdu2X",
        "rG47yRhWy54P",
        "XuXGh598btOX",
        "3b3q8Swib_I6",
        "_aPZifQ0cAQr"
      ],
      "toc_visible": true,
      "mount_file_id": "1dQ-LcYmkI8wvGRAAki4brTOzHyekX2nc",
      "authorship_tag": "ABX9TyMnuUYRg5R/WGhJqkFZKsDL",
      "include_colab_link": true
    },
    "kernelspec": {
      "name": "python3",
      "display_name": "Python 3"
    }
  },
  "cells": [
    {
      "cell_type": "markdown",
      "metadata": {
        "id": "view-in-github",
        "colab_type": "text"
      },
      "source": [
        "<a href=\"https://colab.research.google.com/github/toluwee/Machine_Learning_Projects/blob/master/CO2_EOR_PCA_Kmeans.ipynb\" target=\"_parent\"><img src=\"https://colab.research.google.com/assets/colab-badge.svg\" alt=\"Open In Colab\"/></a>"
      ]
    },
    {
      "cell_type": "markdown",
      "metadata": {
        "id": "Z6Mlbiml2mdW"
      },
      "source": [
        "## Objective\n",
        "\n",
        "The objective of the research is to identify CO2 flooding projects that share a similar set of reservoir and fluid parameters. Characteristics and performances of these analogous projects can then be used to enhance operational and technical planning decisions in new or current CO2 flooding projects at field and well levels .\n"
      ]
    },
    {
      "cell_type": "markdown",
      "metadata": {
        "id": "tfAgBWKXZhLk"
      },
      "source": [
        "## About The Dataset\n",
        "The dataset is collated from extensive review and examination of successful pilot/field CO2 flooding projects that were published in Oil and Gas Journal biannual EOR surveys (from 1980 to 2014), SPE publications, DOE reports, and AAPG databases. \n",
        "\n",
        "It is a multivariate dataset with 170 rows of data and 12 features.Each row describes a CO2 Flooding project, and each column describes an attribute of the project. The twelve features are field , reservoir and fluid parameters which are selected and extracted because they are commonly available and used for EOR project data analysis. \n",
        "\n",
        "The information will be used to categorize global CO2 flooding projects into clusters of similar characteristics that can be referenced as benchmark or analogues for future projects.\n",
        "\n",
        "The following is a description of the dataset.\n",
        "\n",
        "**Attribute Information:**\n",
        "\n",
        "| Position | Feature | Description |Feature Type |\n",
        "|------:|:-----|---------|---------|\n",
        "|[, 1]|\tArea\t|Area, acres|Numerical|\n",
        "|[, 2]|\tProd_well|\tNo. of production wells|Numerical|\n",
        "|[, 3]|\tInj_well|\tNo. of injection wells|Numerical|\n",
        "|[, 4]|\tForm|\tFormation types (S: Sandst., LS: Limest., Dolo: Dolomite, Congl: Conglomerate, Tripol: Tripolite)|Categorical|\n",
        "|[, 5]|\tPor|\tPorosity, %|Numerical|\n",
        "|[, 6]|\tPerm|\tPermeability, md|Numerical|\n",
        "|[, 7]|\tDepth| Depth, ft|Numerical|\n",
        "|[, 8]|\tAPI|\tOil gravity, oAPI|Numerical|\n",
        "|[, 9]|\tVisc| Oil viscosity, cp|Numerical|\n",
        "|[,10]|\tTemp| Reservoir Temperature, oF|Numerical|\n",
        "|[,11]|\tPrev_prod\t|Previous production type (GI: Gas injection, HC: Hydrocarbon, None: No prev., Prim: Primary, WF: Waterflood|Categorical|\n",
        "|[,12]|\tSat_start\t|Oil saturation at start of CO2 flooding, % |Numerical|\n"
      ]
    },
    {
      "cell_type": "markdown",
      "metadata": {
        "id": "X5mBCL7qExzk"
      },
      "source": [
        "## Imports"
      ]
    },
    {
      "cell_type": "code",
      "metadata": {
        "id": "qUA_IF4Bkrkv"
      },
      "source": [
        "# Imports\n",
        "import pandas as pd\n",
        "import numpy as np\n",
        "import matplotlib.pyplot as plt\n",
        "from matplotlib import pyplot\n",
        "from sklearn.cluster import KMeans\n",
        "from sklearn.decomposition import PCA\n",
        "import seaborn as sns\n",
        "from scipy import stats\n",
        "from sklearn.preprocessing import StandardScaler\n",
        "from sklearn import preprocessing\n",
        "from sklearn.ensemble import RandomForestRegressor\n",
        "%config InlineBackend.figure_format='retina'\n",
        "import plotly.graph_objects as go\n",
        "from sklearn.metrics import silhouette_score\n",
        "\n",
        "import plotly.express as px\n"
      ],
      "execution_count": 1,
      "outputs": []
    },
    {
      "cell_type": "code",
      "metadata": {
        "id": "dUi5wj7xhxYI"
      },
      "source": [
        "# Load in the data\n",
        "filepath = 'https://datasciencefiles.s3.us-east-2.amazonaws.com/KMeans_CO2_data.csv'\n",
        "df = pd.read_csv(filepath)\n"
      ],
      "execution_count": 2,
      "outputs": []
    },
    {
      "cell_type": "markdown",
      "metadata": {
        "id": "Y3x0vc27EucZ"
      },
      "source": [
        "## Descriptive Statistics"
      ]
    },
    {
      "cell_type": "code",
      "metadata": {
        "id": "zm2wONPpbisy",
        "outputId": "03f24ef3-4e46-498f-dcb7-cd26c61b9bea",
        "colab": {
          "base_uri": "https://localhost:8080/",
          "height": 587
        }
      },
      "source": [
        "from google.colab import data_table\n",
        "data_table.DataTable(df)"
      ],
      "execution_count": 3,
      "outputs": [
        {
          "output_type": "execute_result",
          "data": {
            "application/vnd.google.colaboratory.module+javascript": "\n      import \"https://ssl.gstatic.com/colaboratory/data_table/a6224c040fa35dcf/data_table.js\";\n\n      window.createDataTable({\n        data: [[{\n            'v': 0,\n            'f': \"0\",\n        },\n{\n            'v': 5800,\n            'f': \"5800\",\n        },\n{\n            'v': 79,\n            'f': \"79\",\n        },\n{\n            'v': 40,\n            'f': \"40\",\n        },\n\"S\",\n{\n            'v': 20.0,\n            'f': \"20.0\",\n        },\n{\n            'v': 30.0,\n            'f': \"30.0\",\n        },\n{\n            'v': 5000,\n            'f': \"5000\",\n        },\n{\n            'v': 43.0,\n            'f': \"43.0\",\n        },\n{\n            'v': 0.6,\n            'f': \"0.6\",\n        },\n{\n            'v': 120,\n            'f': \"120\",\n        },\n\"WF\",\n{\n            'v': 39.0,\n            'f': \"39.0\",\n        }],\n [{\n            'v': 1,\n            'f': \"1\",\n        },\n{\n            'v': 570,\n            'f': \"570\",\n        },\n{\n            'v': 42,\n            'f': \"42\",\n        },\n{\n            'v': 26,\n            'f': \"26\",\n        },\n\"S\",\n{\n            'v': 17.0,\n            'f': \"17.0\",\n        },\n{\n            'v': 25.0,\n            'f': \"25.0\",\n        },\n{\n            'v': 1750,\n            'f': \"1750\",\n        },\n{\n            'v': 39.0,\n            'f': \"39.0\",\n        },\n{\n            'v': 0.6,\n            'f': \"0.6\",\n        },\n{\n            'v': 105,\n            'f': \"105\",\n        },\n\"Prim\",\n{\n            'v': 32.0,\n            'f': \"32.0\",\n        }],\n [{\n            'v': 2,\n            'f': \"2\",\n        },\n{\n            'v': 1325,\n            'f': \"1325\",\n        },\n{\n            'v': 48,\n            'f': \"48\",\n        },\n{\n            'v': 32,\n            'f': \"32\",\n        },\n\"S\",\n{\n            'v': 18.0,\n            'f': \"18.0\",\n        },\n{\n            'v': 30.0,\n            'f': \"30.0\",\n        },\n{\n            'v': 2200,\n            'f': \"2200\",\n        },\n{\n            'v': 39.0,\n            'f': \"39.0\",\n        },\n{\n            'v': 0.6,\n            'f': \"0.6\",\n        },\n{\n            'v': 112,\n            'f': \"112\",\n        },\n\"Prim\",\n{\n            'v': 32.0,\n            'f': \"32.0\",\n        }],\n [{\n            'v': 3,\n            'f': \"3\",\n        },\n{\n            'v': 3500,\n            'f': \"3500\",\n        },\n{\n            'v': 174,\n            'f': \"174\",\n        },\n{\n            'v': 153,\n            'f': \"153\",\n        },\n\"S\",\n{\n            'v': 18.0,\n            'f': \"18.0\",\n        },\n{\n            'v': 75.0,\n            'f': \"75.0\",\n        },\n{\n            'v': 1900,\n            'f': \"1900\",\n        },\n{\n            'v': 37.0,\n            'f': \"37.0\",\n        },\n{\n            'v': 0.6,\n            'f': \"0.6\",\n        },\n{\n            'v': 105,\n            'f': \"105\",\n        },\n\"WF\",\n{\n            'v': 39.0,\n            'f': \"39.0\",\n        }],\n [{\n            'v': 4,\n            'f': \"4\",\n        },\n{\n            'v': 6000,\n            'f': \"6000\",\n        },\n{\n            'v': 321,\n            'f': \"321\",\n        },\n{\n            'v': 279,\n            'f': \"279\",\n        },\n\"S\",\n{\n            'v': 18.0,\n            'f': \"18.0\",\n        },\n{\n            'v': 75.0,\n            'f': \"75.0\",\n        },\n{\n            'v': 1900,\n            'f': \"1900\",\n        },\n{\n            'v': 37.0,\n            'f': \"37.0\",\n        },\n{\n            'v': 0.6,\n            'f': \"0.6\",\n        },\n{\n            'v': 105,\n            'f': \"105\",\n        },\n\"WF\",\n{\n            'v': 39.0,\n            'f': \"39.0\",\n        }],\n [{\n            'v': 5,\n            'f': \"5\",\n        },\n{\n            'v': 5,\n            'f': \"5\",\n        },\n{\n            'v': 4,\n            'f': \"4\",\n        },\n{\n            'v': 1,\n            'f': \"1\",\n        },\n\"S\",\n{\n            'v': 17.0,\n            'f': \"17.0\",\n        },\n{\n            'v': 30.0,\n            'f': \"30.0\",\n        },\n{\n            'v': 1150,\n            'f': \"1150\",\n        },\n{\n            'v': 35.0,\n            'f': \"35.0\",\n        },\n{\n            'v': 0.6,\n            'f': \"0.6\",\n        },\n{\n            'v': 99,\n            'f': \"99\",\n        },\n\"WF\",\n{\n            'v': 32.0,\n            'f': \"32.0\",\n        }],\n [{\n            'v': 6,\n            'f': \"6\",\n        },\n{\n            'v': 600,\n            'f': \"600\",\n        },\n{\n            'v': 40,\n            'f': \"40\",\n        },\n{\n            'v': 27,\n            'f': \"27\",\n        },\n\"S\",\n{\n            'v': 17.0,\n            'f': \"17.0\",\n        },\n{\n            'v': 30.0,\n            'f': \"30.0\",\n        },\n{\n            'v': 1600,\n            'f': \"1600\",\n        },\n{\n            'v': 35.0,\n            'f': \"35.0\",\n        },\n{\n            'v': 0.6,\n            'f': \"0.6\",\n        },\n{\n            'v': 99,\n            'f': \"99\",\n        },\n\"WF\",\n{\n            'v': 32.0,\n            'f': \"32.0\",\n        }],\n [{\n            'v': 7,\n            'f': \"7\",\n        },\n{\n            'v': 25,\n            'f': \"25\",\n        },\n{\n            'v': 4,\n            'f': \"4\",\n        },\n{\n            'v': 1,\n            'f': \"1\",\n        },\n\"S\",\n{\n            'v': 10.0,\n            'f': \"10.0\",\n        },\n{\n            'v': 16.0,\n            'f': \"16.0\",\n        },\n{\n            'v': 9000,\n            'f': \"9000\",\n        },\n{\n            'v': 30.0,\n            'f': \"30.0\",\n        },\n{\n            'v': 2.0,\n            'f': \"2.0\",\n        },\n{\n            'v': 200,\n            'f': \"200\",\n        },\n\"WF\",\n{\n            'v': 48.03,\n            'f': \"48.03\",\n        }],\n [{\n            'v': 8,\n            'f': \"8\",\n        },\n{\n            'v': 5338,\n            'f': \"5338\",\n        },\n{\n            'v': 90,\n            'f': \"90\",\n        },\n{\n            'v': 61,\n            'f': \"61\",\n        },\n\"Dolo\",\n{\n            'v': 14.1,\n            'f': \"14.1\",\n        },\n{\n            'v': 4.0,\n            'f': \"4.0\",\n        },\n{\n            'v': 4789,\n            'f': \"4789\",\n        },\n{\n            'v': 33.5,\n            'f': \"33.5\",\n        },\n{\n            'v': 5.497417639,\n            'f': \"5.497417639\",\n        },\n{\n            'v': 104,\n            'f': \"104\",\n        },\n\"WF\",\n{\n            'v': 48.03,\n            'f': \"48.03\",\n        }],\n [{\n            'v': 9,\n            'f': \"9\",\n        },\n{\n            'v': 2550,\n            'f': \"2550\",\n        },\n{\n            'v': 11,\n            'f': \"11\",\n        },\n{\n            'v': 11,\n            'f': \"11\",\n        },\n\"Dolo\",\n{\n            'v': 12.4,\n            'f': \"12.4\",\n        },\n{\n            'v': 28.0,\n            'f': \"28.0\",\n        },\n{\n            'v': 8500,\n            'f': \"8500\",\n        },\n{\n            'v': 42.0,\n            'f': \"42.0\",\n        },\n{\n            'v': 1.43473514,\n            'f': \"1.43473514\",\n        },\n{\n            'v': 126,\n            'f': \"126\",\n        },\n\"WF\",\n{\n            'v': 48.03,\n            'f': \"48.03\",\n        }],\n [{\n            'v': 10,\n            'f': \"10\",\n        },\n{\n            'v': 569,\n            'f': \"569\",\n        },\n{\n            'v': 43,\n            'f': \"43\",\n        },\n{\n            'v': 21,\n            'f': \"21\",\n        },\n\"Dolo\",\n{\n            'v': 12.5,\n            'f': \"12.5\",\n        },\n{\n            'v': 6.0,\n            'f': \"6.0\",\n        },\n{\n            'v': 4900,\n            'f': \"4900\",\n        },\n{\n            'v': 32.0,\n            'f': \"32.0\",\n        },\n{\n            'v': 0.7307140759999999,\n            'f': \"0.7307140759999999\",\n        },\n{\n            'v': 110,\n            'f': \"110\",\n        },\n\"WF\",\n{\n            'v': 48.03,\n            'f': \"48.03\",\n        }],\n [{\n            'v': 11,\n            'f': \"11\",\n        },\n{\n            'v': 8559,\n            'f': \"8559\",\n        },\n{\n            'v': 259,\n            'f': \"259\",\n        },\n{\n            'v': 164,\n            'f': \"164\",\n        },\n\"Dolo\",\n{\n            'v': 10.0,\n            'f': \"10.0\",\n        },\n{\n            'v': 3.0,\n            'f': \"3.0\",\n        },\n{\n            'v': 5000,\n            'f': \"5000\",\n        },\n{\n            'v': 32.0,\n            'f': \"32.0\",\n        },\n{\n            'v': 0.7307140759999999,\n            'f': \"0.7307140759999999\",\n        },\n{\n            'v': 107,\n            'f': \"107\",\n        },\n\"WF\",\n{\n            'v': 45.0,\n            'f': \"45.0\",\n        }],\n [{\n            'v': 12,\n            'f': \"12\",\n        },\n{\n            'v': 1100,\n            'f': \"1100\",\n        },\n{\n            'v': 60,\n            'f': \"60\",\n        },\n{\n            'v': 40,\n            'f': \"40\",\n        },\n\"S\",\n{\n            'v': 16.0,\n            'f': \"16.0\",\n        },\n{\n            'v': 70.0,\n            'f': \"70.0\",\n        },\n{\n            'v': 6200,\n            'f': \"6200\",\n        },\n{\n            'v': 30.0,\n            'f': \"30.0\",\n        },\n{\n            'v': 0.8265610529999999,\n            'f': \"0.8265610529999999\",\n        },\n{\n            'v': 115,\n            'f': \"115\",\n        },\n\"WF\",\n{\n            'v': 59.0,\n            'f': \"59.0\",\n        }],\n [{\n            'v': 13,\n            'f': \"13\",\n        },\n{\n            'v': 4032,\n            'f': \"4032\",\n        },\n{\n            'v': 43,\n            'f': \"43\",\n        },\n{\n            'v': 36,\n            'f': \"36\",\n        },\n\"S\",\n{\n            'v': 16.0,\n            'f': \"16.0\",\n        },\n{\n            'v': 25.0,\n            'f': \"25.0\",\n        },\n{\n            'v': 6200,\n            'f': \"6200\",\n        },\n{\n            'v': 40.0,\n            'f': \"40.0\",\n        },\n{\n            'v': 1.9076935240000001,\n            'f': \"1.9076935240000001\",\n        },\n{\n            'v': 145,\n            'f': \"145\",\n        },\n\"WF\",\n{\n            'v': 75.0,\n            'f': \"75.0\",\n        }],\n [{\n            'v': 14,\n            'f': \"14\",\n        },\n{\n            'v': 3396,\n            'f': \"3396\",\n        },\n{\n            'v': 38,\n            'f': \"38\",\n        },\n{\n            'v': 29,\n            'f': \"29\",\n        },\n\"S\",\n{\n            'v': 16.0,\n            'f': \"16.0\",\n        },\n{\n            'v': 25.0,\n            'f': \"25.0\",\n        },\n{\n            'v': 6200,\n            'f': \"6200\",\n        },\n{\n            'v': 40.0,\n            'f': \"40.0\",\n        },\n{\n            'v': 0.737732587,\n            'f': \"0.737732587\",\n        },\n{\n            'v': 145,\n            'f': \"145\",\n        },\n\"WF\",\n{\n            'v': 75.0,\n            'f': \"75.0\",\n        }],\n [{\n            'v': 15,\n            'f': \"15\",\n        },\n{\n            'v': 7724,\n            'f': \"7724\",\n        },\n{\n            'v': 96,\n            'f': \"96\",\n        },\n{\n            'v': 74,\n            'f': \"74\",\n        },\n\"S\",\n{\n            'v': 16.0,\n            'f': \"16.0\",\n        },\n{\n            'v': 25.0,\n            'f': \"25.0\",\n        },\n{\n            'v': 6200,\n            'f': \"6200\",\n        },\n{\n            'v': 40.0,\n            'f': \"40.0\",\n        },\n{\n            'v': 0.737732587,\n            'f': \"0.737732587\",\n        },\n{\n            'v': 145,\n            'f': \"145\",\n        },\n\"WF\",\n{\n            'v': 75.0,\n            'f': \"75.0\",\n        }],\n [{\n            'v': 16,\n            'f': \"16\",\n        },\n{\n            'v': 5415,\n            'f': \"5415\",\n        },\n{\n            'v': 61,\n            'f': \"61\",\n        },\n{\n            'v': 43,\n            'f': \"43\",\n        },\n\"S\",\n{\n            'v': 16.0,\n            'f': \"16.0\",\n        },\n{\n            'v': 25.0,\n            'f': \"25.0\",\n        },\n{\n            'v': 6200,\n            'f': \"6200\",\n        },\n{\n            'v': 40.0,\n            'f': \"40.0\",\n        },\n{\n            'v': 0.7307140759999999,\n            'f': \"0.7307140759999999\",\n        },\n{\n            'v': 145,\n            'f': \"145\",\n        },\n\"WF\",\n{\n            'v': 75.0,\n            'f': \"75.0\",\n        }],\n [{\n            'v': 17,\n            'f': \"17\",\n        },\n{\n            'v': 2320,\n            'f': \"2320\",\n        },\n{\n            'v': 38,\n            'f': \"38\",\n        },\n{\n            'v': 32,\n            'f': \"32\",\n        },\n\"S\",\n{\n            'v': 15.0,\n            'f': \"15.0\",\n        },\n{\n            'v': 63.0,\n            'f': \"63.0\",\n        },\n{\n            'v': 7260,\n            'f': \"7260\",\n        },\n{\n            'v': 38.5,\n            'f': \"38.5\",\n        },\n{\n            'v': 0.676585453,\n            'f': \"0.676585453\",\n        },\n{\n            'v': 152,\n            'f': \"152\",\n        },\n\"WF\",\n{\n            'v': 52.0,\n            'f': \"52.0\",\n        }],\n [{\n            'v': 18,\n            'f': \"18\",\n        },\n{\n            'v': 2500,\n            'f': \"2500\",\n        },\n{\n            'v': 12,\n            'f': \"12\",\n        },\n{\n            'v': 6,\n            'f': \"6\",\n        },\n\"S\",\n{\n            'v': 15.2,\n            'f': \"15.2\",\n        },\n{\n            'v': 63.0,\n            'f': \"63.0\",\n        },\n{\n            'v': 7300,\n            'f': \"7300\",\n        },\n{\n            'v': 38.0,\n            'f': \"38.0\",\n        },\n{\n            'v': 0.7307140759999999,\n            'f': \"0.7307140759999999\",\n        },\n{\n            'v': 152,\n            'f': \"152\",\n        },\n\"WF\",\n{\n            'v': 52.0,\n            'f': \"52.0\",\n        }],\n [{\n            'v': 19,\n            'f': \"19\",\n        },\n{\n            'v': 577,\n            'f': \"577\",\n        },\n{\n            'v': 5,\n            'f': \"5\",\n        },\n{\n            'v': 2,\n            'f': \"2\",\n        },\n\"S\",\n{\n            'v': 21.0,\n            'f': \"21.0\",\n        },\n{\n            'v': 50.0,\n            'f': \"50.0\",\n        },\n{\n            'v': 8060,\n            'f': \"8060\",\n        },\n{\n            'v': 39.0,\n            'f': \"39.0\",\n        },\n{\n            'v': 0.894184856,\n            'f': \"0.894184856\",\n        },\n{\n            'v': 177,\n            'f': \"177\",\n        },\n\"WF\",\n{\n            'v': 51.0,\n            'f': \"51.0\",\n        }],\n [{\n            'v': 20,\n            'f': \"20\",\n        },\n{\n            'v': 1325,\n            'f': \"1325\",\n        },\n{\n            'v': 3,\n            'f': \"3\",\n        },\n{\n            'v': 3,\n            'f': \"3\",\n        },\n\"S\",\n{\n            'v': 20.0,\n            'f': \"20.0\",\n        },\n{\n            'v': 50.0,\n            'f': \"50.0\",\n        },\n{\n            'v': 8060,\n            'f': \"8060\",\n        },\n{\n            'v': 39.0,\n            'f': \"39.0\",\n        },\n{\n            'v': 0.631205337,\n            'f': \"0.631205337\",\n        },\n{\n            'v': 177,\n            'f': \"177\",\n        },\n\"WF\",\n{\n            'v': 56.0,\n            'f': \"56.0\",\n        }],\n [{\n            'v': 21,\n            'f': \"21\",\n        },\n{\n            'v': 829,\n            'f': \"829\",\n        },\n{\n            'v': 5,\n            'f': \"5\",\n        },\n{\n            'v': 3,\n            'f': \"3\",\n        },\n\"S\",\n{\n            'v': 21.0,\n            'f': \"21.0\",\n        },\n{\n            'v': 109.0,\n            'f': \"109.0\",\n        },\n{\n            'v': 8060,\n            'f': \"8060\",\n        },\n{\n            'v': 39.0,\n            'f': \"39.0\",\n        },\n{\n            'v': 0.599378662,\n            'f': \"0.599378662\",\n        },\n{\n            'v': 177,\n            'f': \"177\",\n        },\n\"WF\",\n{\n            'v': 57.0,\n            'f': \"57.0\",\n        }],\n [{\n            'v': 22,\n            'f': \"22\",\n        },\n{\n            'v': 18000,\n            'f': \"18000\",\n        },\n{\n            'v': 378,\n            'f': \"378\",\n        },\n{\n            'v': 262,\n            'f': \"262\",\n        },\n\"S\",\n{\n            'v': 12.0,\n            'f': \"12.0\",\n        },\n{\n            'v': 10.0,\n            'f': \"10.0\",\n        },\n{\n            'v': 6000,\n            'f': \"6000\",\n        },\n{\n            'v': 35.0,\n            'f': \"35.0\",\n        },\n{\n            'v': 0.638849114,\n            'f': \"0.638849114\",\n        },\n{\n            'v': 160,\n            'f': \"160\",\n        },\n\"WF\",\n{\n            'v': 38.0,\n            'f': \"38.0\",\n        }],\n [{\n            'v': 23,\n            'f': \"23\",\n        },\n{\n            'v': 3600,\n            'f': \"3600\",\n        },\n{\n            'v': 220,\n            'f': \"220\",\n        },\n{\n            'v': 85,\n            'f': \"85\",\n        },\n\"Dolo\",\n{\n            'v': 9.0,\n            'f': \"9.0\",\n        },\n{\n            'v': 4.0,\n            'f': \"4.0\",\n        },\n{\n            'v': 4700,\n            'f': \"4700\",\n        },\n{\n            'v': 32.0,\n            'f': \"32.0\",\n        },\n{\n            'v': 0.7569184520000001,\n            'f': \"0.7569184520000001\",\n        },\n{\n            'v': 104,\n            'f': \"104\",\n        },\n\"WF\",\n{\n            'v': 36.0,\n            'f': \"36.0\",\n        }],\n [{\n            'v': 24,\n            'f': \"24\",\n        },\n{\n            'v': 5500,\n            'f': \"5500\",\n        },\n{\n            'v': 155,\n            'f': \"155\",\n        },\n{\n            'v': 144,\n            'f': \"144\",\n        },\n\"Dolo\",\n{\n            'v': 11.0,\n            'f': \"11.0\",\n        },\n{\n            'v': 6.0,\n            'f': \"6.0\",\n        },\n{\n            'v': 4950,\n            'f': \"4950\",\n        },\n{\n            'v': 33.0,\n            'f': \"33.0\",\n        },\n{\n            'v': 0.894120501,\n            'f': \"0.894120501\",\n        },\n{\n            'v': 105,\n            'f': \"105\",\n        },\n\"WF\",\n{\n            'v': 41.0,\n            'f': \"41.0\",\n        }],\n [{\n            'v': 25,\n            'f': \"25\",\n        },\n{\n            'v': 1084,\n            'f': \"1084\",\n        },\n{\n            'v': 48,\n            'f': \"48\",\n        },\n{\n            'v': 24,\n            'f': \"24\",\n        },\n\"Dolo\",\n{\n            'v': 12.0,\n            'f': \"12.0\",\n        },\n{\n            'v': 22.0,\n            'f': \"22.0\",\n        },\n{\n            'v': 4550,\n            'f': \"4550\",\n        },\n{\n            'v': 38.0,\n            'f': \"38.0\",\n        },\n{\n            'v': 2.787545047,\n            'f': \"2.787545047\",\n        },\n{\n            'v': 101,\n            'f': \"101\",\n        },\n\"WF\",\n{\n            'v': 36.0,\n            'f': \"36.0\",\n        }],\n [{\n            'v': 26,\n            'f': \"26\",\n        },\n{\n            'v': 6183,\n            'f': \"6183\",\n        },\n{\n            'v': 83,\n            'f': \"83\",\n        },\n{\n            'v': 66,\n            'f': \"66\",\n        },\n\"Dolo\",\n{\n            'v': 13.5,\n            'f': \"13.5\",\n        },\n{\n            'v': 9.0,\n            'f': \"9.0\",\n        },\n{\n            'v': 8000,\n            'f': \"8000\",\n        },\n{\n            'v': 40.0,\n            'f': \"40.0\",\n        },\n{\n            'v': 20.0163976,\n            'f': \"20.0163976\",\n        },\n{\n            'v': 122,\n            'f': \"122\",\n        },\n\"WF\",\n{\n            'v': 35.0,\n            'f': \"35.0\",\n        }],\n [{\n            'v': 27,\n            'f': \"27\",\n        },\n{\n            'v': 160,\n            'f': \"160\",\n        },\n{\n            'v': 21,\n            'f': \"21\",\n        },\n{\n            'v': 4,\n            'f': \"4\",\n        },\n\"Dolo\",\n{\n            'v': 11.5,\n            'f': \"11.5\",\n        },\n{\n            'v': 4.0,\n            'f': \"4.0\",\n        },\n{\n            'v': 6500,\n            'f': \"6500\",\n        },\n{\n            'v': 40.0,\n            'f': \"40.0\",\n        },\n{\n            'v': 5.497417639,\n            'f': \"5.497417639\",\n        },\n{\n            'v': 113,\n            'f': \"113\",\n        },\n\"WF\",\n{\n            'v': 30.0,\n            'f': \"30.0\",\n        }],\n [{\n            'v': 28,\n            'f': \"28\",\n        },\n{\n            'v': 700,\n            'f': \"700\",\n        },\n{\n            'v': 32,\n            'f': \"32\",\n        },\n{\n            'v': 8,\n            'f': \"8\",\n        },\n\"LS\",\n{\n            'v': 10.4,\n            'f': \"10.4\",\n        },\n{\n            'v': 170.0,\n            'f': \"170.0\",\n        },\n{\n            'v': 6700,\n            'f': \"6700\",\n        },\n{\n            'v': 43.5,\n            'f': \"43.5\",\n        },\n{\n            'v': 1.43473514,\n            'f': \"1.43473514\",\n        },\n{\n            'v': 139,\n            'f': \"139\",\n        },\n\"WF\",\n{\n            'v': 35.0,\n            'f': \"35.0\",\n        }],\n [{\n            'v': 29,\n            'f': \"29\",\n        },\n{\n            'v': 3850,\n            'f': \"3850\",\n        },\n{\n            'v': 91,\n            'f': \"91\",\n        },\n{\n            'v': 69,\n            'f': \"69\",\n        },\n\"S\",\n{\n            'v': 23.0,\n            'f': \"23.0\",\n        },\n{\n            'v': 4.9,\n            'f': \"4.9\",\n        },\n{\n            'v': 3925,\n            'f': \"3925\",\n        },\n{\n            'v': 37.0,\n            'f': \"37.0\",\n        },\n{\n            'v': 0.7307140759999999,\n            'f': \"0.7307140759999999\",\n        },\n{\n            'v': 95,\n            'f': \"95\",\n        },\n\"WF\",\n{\n            'v': 55.6,\n            'f': \"55.6\",\n        }],\n [{\n            'v': 30,\n            'f': \"30\",\n        },\n{\n            'v': 1760,\n            'f': \"1760\",\n        },\n{\n            'v': 94,\n            'f': \"94\",\n        },\n{\n            'v': 2,\n            'f': \"2\",\n        },\n\"Dolo\",\n{\n            'v': 10.8,\n            'f': \"10.8\",\n        },\n{\n            'v': 3.5,\n            'f': \"3.5\",\n        },\n{\n            'v': 5500,\n            'f': \"5500\",\n        },\n{\n            'v': 40.0,\n            'f': \"40.0\",\n        },\n{\n            'v': 0.7307140759999999,\n            'f': \"0.7307140759999999\",\n        },\n{\n            'v': 101,\n            'f': \"101\",\n        },\n\"WF\",\n{\n            'v': 48.03,\n            'f': \"48.03\",\n        }],\n [{\n            'v': 31,\n            'f': \"31\",\n        },\n{\n            'v': 4900,\n            'f': \"4900\",\n        },\n{\n            'v': 43,\n            'f': \"43\",\n        },\n{\n            'v': 22,\n            'f': \"22\",\n        },\n\"Dolo\",\n{\n            'v': 11.7,\n            'f': \"11.7\",\n        },\n{\n            'v': 11.0,\n            'f': \"11.0\",\n        },\n{\n            'v': 4500,\n            'f': \"4500\",\n        },\n{\n            'v': 38.0,\n            'f': \"38.0\",\n        },\n{\n            'v': 0.8265610529999999,\n            'f': \"0.8265610529999999\",\n        },\n{\n            'v': 101,\n            'f': \"101\",\n        },\n\"Prim\",\n{\n            'v': 70.0,\n            'f': \"70.0\",\n        }],\n [{\n            'v': 32,\n            'f': \"32\",\n        },\n{\n            'v': 4900,\n            'f': \"4900\",\n        },\n{\n            'v': 192,\n            'f': \"192\",\n        },\n{\n            'v': 103,\n            'f': \"103\",\n        },\n\"Dolo\",\n{\n            'v': 11.7,\n            'f': \"11.7\",\n        },\n{\n            'v': 11.0,\n            'f': \"11.0\",\n        },\n{\n            'v': 4500,\n            'f': \"4500\",\n        },\n{\n            'v': 38.0,\n            'f': \"38.0\",\n        },\n{\n            'v': 1.9076935240000001,\n            'f': \"1.9076935240000001\",\n        },\n{\n            'v': 101,\n            'f': \"101\",\n        },\n\"Prim\",\n{\n            'v': 70.0,\n            'f': \"70.0\",\n        }],\n [{\n            'v': 33,\n            'f': \"33\",\n        },\n{\n            'v': 60,\n            'f': \"60\",\n        },\n{\n            'v': 1,\n            'f': \"1\",\n        },\n{\n            'v': 1,\n            'f': \"1\",\n        },\n\"LS\",\n{\n            'v': 5.0,\n            'f': \"5.0\",\n        },\n{\n            'v': 50.0,\n            'f': \"50.0\",\n        },\n{\n            'v': 5450,\n            'f': \"5450\",\n        },\n{\n            'v': 43.0,\n            'f': \"43.0\",\n        },\n{\n            'v': 0.737732587,\n            'f': \"0.737732587\",\n        },\n{\n            'v': 103,\n            'f': \"103\",\n        },\n\"Prim\",\n{\n            'v': 54.0,\n            'f': \"54.0\",\n        }],\n [{\n            'v': 34,\n            'f': \"34\",\n        },\n{\n            'v': 285,\n            'f': \"285\",\n        },\n{\n            'v': 2,\n            'f': \"2\",\n        },\n{\n            'v': 1,\n            'f': \"1\",\n        },\n\"LS\",\n{\n            'v': 5.0,\n            'f': \"5.0\",\n        },\n{\n            'v': 50.0,\n            'f': \"50.0\",\n        },\n{\n            'v': 5450,\n            'f': \"5450\",\n        },\n{\n            'v': 42.0,\n            'f': \"42.0\",\n        },\n{\n            'v': 0.737732587,\n            'f': \"0.737732587\",\n        },\n{\n            'v': 103,\n            'f': \"103\",\n        },\n\"Prim\",\n{\n            'v': 47.0,\n            'f': \"47.0\",\n        }],\n [{\n            'v': 35,\n            'f': \"35\",\n        },\n{\n            'v': 120,\n            'f': \"120\",\n        },\n{\n            'v': 2,\n            'f': \"2\",\n        },\n{\n            'v': 1,\n            'f': \"1\",\n        },\n\"LS\",\n{\n            'v': 7.0,\n            'f': \"7.0\",\n        },\n{\n            'v': 10.0,\n            'f': \"10.0\",\n        },\n{\n            'v': 5400,\n            'f': \"5400\",\n        },\n{\n            'v': 43.0,\n            'f': \"43.0\",\n        },\n{\n            'v': 0.7307140759999999,\n            'f': \"0.7307140759999999\",\n        },\n{\n            'v': 108,\n            'f': \"108\",\n        },\n\"Prim\",\n{\n            'v': 48.03,\n            'f': \"48.03\",\n        }],\n [{\n            'v': 36,\n            'f': \"36\",\n        },\n{\n            'v': 85,\n            'f': \"85\",\n        },\n{\n            'v': 2,\n            'f': \"2\",\n        },\n{\n            'v': 1,\n            'f': \"1\",\n        },\n\"LS\",\n{\n            'v': 5.0,\n            'f': \"5.0\",\n        },\n{\n            'v': 50.0,\n            'f': \"50.0\",\n        },\n{\n            'v': 5500,\n            'f': \"5500\",\n        },\n{\n            'v': 43.0,\n            'f': \"43.0\",\n        },\n{\n            'v': 0.676585453,\n            'f': \"0.676585453\",\n        },\n{\n            'v': 100,\n            'f': \"100\",\n        },\n\"Prim\",\n{\n            'v': 51.0,\n            'f': \"51.0\",\n        }],\n [{\n            'v': 37,\n            'f': \"37\",\n        },\n{\n            'v': 80,\n            'f': \"80\",\n        },\n{\n            'v': 2,\n            'f': \"2\",\n        },\n{\n            'v': 2,\n            'f': \"2\",\n        },\n\"LS\",\n{\n            'v': 7.0,\n            'f': \"7.0\",\n        },\n{\n            'v': 5.0,\n            'f': \"5.0\",\n        },\n{\n            'v': 5400,\n            'f': \"5400\",\n        },\n{\n            'v': 43.0,\n            'f': \"43.0\",\n        },\n{\n            'v': 0.7307140759999999,\n            'f': \"0.7307140759999999\",\n        },\n{\n            'v': 108,\n            'f': \"108\",\n        },\n\"Prim\",\n{\n            'v': 48.03,\n            'f': \"48.03\",\n        }],\n [{\n            'v': 38,\n            'f': \"38\",\n        },\n{\n            'v': 70,\n            'f': \"70\",\n        },\n{\n            'v': 3,\n            'f': \"3\",\n        },\n{\n            'v': 2,\n            'f': \"2\",\n        },\n\"LS\",\n{\n            'v': 5.0,\n            'f': \"5.0\",\n        },\n{\n            'v': 50.0,\n            'f': \"50.0\",\n        },\n{\n            'v': 5500,\n            'f': \"5500\",\n        },\n{\n            'v': 41.0,\n            'f': \"41.0\",\n        },\n{\n            'v': 0.894184856,\n            'f': \"0.894184856\",\n        },\n{\n            'v': 101,\n            'f': \"101\",\n        },\n\"Prim\",\n{\n            'v': 51.0,\n            'f': \"51.0\",\n        }],\n [{\n            'v': 39,\n            'f': \"39\",\n        },\n{\n            'v': 200,\n            'f': \"200\",\n        },\n{\n            'v': 1,\n            'f': \"1\",\n        },\n{\n            'v': 2,\n            'f': \"2\",\n        },\n\"LS\",\n{\n            'v': 7.0,\n            'f': \"7.0\",\n        },\n{\n            'v': 5.0,\n            'f': \"5.0\",\n        },\n{\n            'v': 5500,\n            'f': \"5500\",\n        },\n{\n            'v': 41.0,\n            'f': \"41.0\",\n        },\n{\n            'v': 0.631205337,\n            'f': \"0.631205337\",\n        },\n{\n            'v': 108,\n            'f': \"108\",\n        },\n\"Prim\",\n{\n            'v': 48.03,\n            'f': \"48.03\",\n        }],\n [{\n            'v': 40,\n            'f': \"40\",\n        },\n{\n            'v': 190,\n            'f': \"190\",\n        },\n{\n            'v': 1,\n            'f': \"1\",\n        },\n{\n            'v': 2,\n            'f': \"2\",\n        },\n\"LS\",\n{\n            'v': 3.0,\n            'f': \"3.0\",\n        },\n{\n            'v': 50.0,\n            'f': \"50.0\",\n        },\n{\n            'v': 5600,\n            'f': \"5600\",\n        },\n{\n            'v': 42.0,\n            'f': \"42.0\",\n        },\n{\n            'v': 0.599378662,\n            'f': \"0.599378662\",\n        },\n{\n            'v': 102,\n            'f': \"102\",\n        },\n\"Prim\",\n{\n            'v': 52.0,\n            'f': \"52.0\",\n        }],\n [{\n            'v': 41,\n            'f': \"41\",\n        },\n{\n            'v': 120,\n            'f': \"120\",\n        },\n{\n            'v': 2,\n            'f': \"2\",\n        },\n{\n            'v': 1,\n            'f': \"1\",\n        },\n\"LS\",\n{\n            'v': 11.0,\n            'f': \"11.0\",\n        },\n{\n            'v': 50.0,\n            'f': \"50.0\",\n        },\n{\n            'v': 5500,\n            'f': \"5500\",\n        },\n{\n            'v': 42.0,\n            'f': \"42.0\",\n        },\n{\n            'v': 0.638849114,\n            'f': \"0.638849114\",\n        },\n{\n            'v': 101,\n            'f': \"101\",\n        },\n\"Prim\",\n{\n            'v': 50.0,\n            'f': \"50.0\",\n        }],\n [{\n            'v': 42,\n            'f': \"42\",\n        },\n{\n            'v': 75,\n            'f': \"75\",\n        },\n{\n            'v': 2,\n            'f': \"2\",\n        },\n{\n            'v': 1,\n            'f': \"1\",\n        },\n\"LS\",\n{\n            'v': 9.0,\n            'f': \"9.0\",\n        },\n{\n            'v': 50.0,\n            'f': \"50.0\",\n        },\n{\n            'v': 5200,\n            'f': \"5200\",\n        },\n{\n            'v': 43.0,\n            'f': \"43.0\",\n        },\n{\n            'v': 0.7569184520000001,\n            'f': \"0.7569184520000001\",\n        },\n{\n            'v': 102,\n            'f': \"102\",\n        },\n\"Prim\",\n{\n            'v': 38.0,\n            'f': \"38.0\",\n        }],\n [{\n            'v': 43,\n            'f': \"43\",\n        },\n{\n            'v': 185,\n            'f': \"185\",\n        },\n{\n            'v': 2,\n            'f': \"2\",\n        },\n{\n            'v': 1,\n            'f': \"1\",\n        },\n\"LS\",\n{\n            'v': 8.0,\n            'f': \"8.0\",\n        },\n{\n            'v': 50.0,\n            'f': \"50.0\",\n        },\n{\n            'v': 5800,\n            'f': \"5800\",\n        },\n{\n            'v': 42.0,\n            'f': \"42.0\",\n        },\n{\n            'v': 0.894120501,\n            'f': \"0.894120501\",\n        },\n{\n            'v': 102,\n            'f': \"102\",\n        },\n\"WF\",\n{\n            'v': 49.0,\n            'f': \"49.0\",\n        }],\n [{\n            'v': 44,\n            'f': \"44\",\n        },\n{\n            'v': 75,\n            'f': \"75\",\n        },\n{\n            'v': 1,\n            'f': \"1\",\n        },\n{\n            'v': 1,\n            'f': \"1\",\n        },\n\"LS\",\n{\n            'v': 5.0,\n            'f': \"5.0\",\n        },\n{\n            'v': 50.0,\n            'f': \"50.0\",\n        },\n{\n            'v': 5600,\n            'f': \"5600\",\n        },\n{\n            'v': 42.0,\n            'f': \"42.0\",\n        },\n{\n            'v': 2.787545047,\n            'f': \"2.787545047\",\n        },\n{\n            'v': 102,\n            'f': \"102\",\n        },\n\"Prim\",\n{\n            'v': 52.0,\n            'f': \"52.0\",\n        }],\n [{\n            'v': 45,\n            'f': \"45\",\n        },\n{\n            'v': 2800,\n            'f': \"2800\",\n        },\n{\n            'v': 27,\n            'f': \"27\",\n        },\n{\n            'v': 28,\n            'f': \"28\",\n        },\n\"S\",\n{\n            'v': 24.0,\n            'f': \"24.0\",\n        },\n{\n            'v': 1035.0,\n            'f': \"1035.0\",\n        },\n{\n            'v': 4500,\n            'f': \"4500\",\n        },\n{\n            'v': 36.0,\n            'f': \"36.0\",\n        },\n{\n            'v': 20.0163976,\n            'f': \"20.0163976\",\n        },\n{\n            'v': 108,\n            'f': \"108\",\n        },\n\"WF\",\n{\n            'v': 29.0,\n            'f': \"29.0\",\n        }],\n [{\n            'v': 46,\n            'f': \"46\",\n        },\n{\n            'v': 6200,\n            'f': \"6200\",\n        },\n{\n            'v': 38,\n            'f': \"38\",\n        },\n{\n            'v': 36,\n            'f': \"36\",\n        },\n\"S\",\n{\n            'v': 23.0,\n            'f': \"23.0\",\n        },\n{\n            'v': 90.0,\n            'f': \"90.0\",\n        },\n{\n            'v': 10750,\n            'f': \"10750\",\n        },\n{\n            'v': 40.0,\n            'f': \"40.0\",\n        },\n{\n            'v': 5.497417639,\n            'f': \"5.497417639\",\n        },\n{\n            'v': 250,\n            'f': \"250\",\n        },\n\"WF\",\n{\n            'v': 44.0,\n            'f': \"44.0\",\n        }],\n [{\n            'v': 47,\n            'f': \"47\",\n        },\n{\n            'v': 840,\n            'f': \"840\",\n        },\n{\n            'v': 8,\n            'f': \"8\",\n        },\n{\n            'v': 10,\n            'f': \"10\",\n        },\n\"S\",\n{\n            'v': 23.4,\n            'f': \"23.4\",\n        },\n{\n            'v': 65.0,\n            'f': \"65.0\",\n        },\n{\n            'v': 10400,\n            'f': \"10400\",\n        },\n{\n            'v': 39.0,\n            'f': \"39.0\",\n        },\n{\n            'v': 1.43473514,\n            'f': \"1.43473514\",\n        },\n{\n            'v': 242,\n            'f': \"242\",\n        },\n\"Prim\",\n{\n            'v': 27.4,\n            'f': \"27.4\",\n        }],\n [{\n            'v': 48,\n            'f': \"48\",\n        },\n{\n            'v': 2280,\n            'f': \"2280\",\n        },\n{\n            'v': 12,\n            'f': \"12\",\n        },\n{\n            'v': 10,\n            'f': \"10\",\n        },\n\"S\",\n{\n            'v': 20.0,\n            'f': \"20.0\",\n        },\n{\n            'v': 247.0,\n            'f': \"247.0\",\n        },\n{\n            'v': 6575,\n            'f': \"6575\",\n        },\n{\n            'v': 36.0,\n            'f': \"36.0\",\n        },\n{\n            'v': 0.7307140759999999,\n            'f': \"0.7307140759999999\",\n        },\n{\n            'v': 180,\n            'f': \"180\",\n        },\n\"Prim\",\n{\n            'v': 48.03,\n            'f': \"48.03\",\n        }],\n [{\n            'v': 49,\n            'f': \"49\",\n        },\n{\n            'v': 4420,\n            'f': \"4420\",\n        },\n{\n            'v': 44,\n            'f': \"44\",\n        },\n{\n            'v': 32,\n            'f': \"32\",\n        },\n\"S\",\n{\n            'v': 30.0,\n            'f': \"30.0\",\n        },\n{\n            'v': 1500.0,\n            'f': \"1500.0\",\n        },\n{\n            'v': 5800,\n            'f': \"5800\",\n        },\n{\n            'v': 36.0,\n            'f': \"36.0\",\n        },\n{\n            'v': 0.7307140759999999,\n            'f': \"0.7307140759999999\",\n        },\n{\n            'v': 165,\n            'f': \"165\",\n        },\n\"WF\",\n{\n            'v': 48.03,\n            'f': \"48.03\",\n        }],\n [{\n            'v': 50,\n            'f': \"50\",\n        },\n{\n            'v': 8240,\n            'f': \"8240\",\n        },\n{\n            'v': 42,\n            'f': \"42\",\n        },\n{\n            'v': 45,\n            'f': \"45\",\n        },\n\"S\",\n{\n            'v': 26.0,\n            'f': \"26.0\",\n        },\n{\n            'v': 75.0,\n            'f': \"75.0\",\n        },\n{\n            'v': 10550,\n            'f': \"10550\",\n        },\n{\n            'v': 40.0,\n            'f': \"40.0\",\n        },\n{\n            'v': 0.8265610529999999,\n            'f': \"0.8265610529999999\",\n        },\n{\n            'v': 248,\n            'f': \"248\",\n        },\n\"Prim\",\n{\n            'v': 44.0,\n            'f': \"44.0\",\n        }],\n [{\n            'v': 51,\n            'f': \"51\",\n        },\n{\n            'v': 880,\n            'f': \"880\",\n        },\n{\n            'v': 13,\n            'f': \"13\",\n        },\n{\n            'v': 12,\n            'f': \"12\",\n        },\n\"S\",\n{\n            'v': 26.0,\n            'f': \"26.0\",\n        },\n{\n            'v': 75.0,\n            'f': \"75.0\",\n        },\n{\n            'v': 10550,\n            'f': \"10550\",\n        },\n{\n            'v': 40.0,\n            'f': \"40.0\",\n        },\n{\n            'v': 1.9076935240000001,\n            'f': \"1.9076935240000001\",\n        },\n{\n            'v': 248,\n            'f': \"248\",\n        },\n\"WF\",\n{\n            'v': 52.0,\n            'f': \"52.0\",\n        }],\n [{\n            'v': 52,\n            'f': \"52\",\n        },\n{\n            'v': 12600,\n            'f': \"12600\",\n        },\n{\n            'v': 25,\n            'f': \"25\",\n        },\n{\n            'v': 10,\n            'f': \"10\",\n        },\n\"S\",\n{\n            'v': 26.0,\n            'f': \"26.0\",\n        },\n{\n            'v': 90.0,\n            'f': \"90.0\",\n        },\n{\n            'v': 10900,\n            'f': \"10900\",\n        },\n{\n            'v': 40.0,\n            'f': \"40.0\",\n        },\n{\n            'v': 0.737732587,\n            'f': \"0.737732587\",\n        },\n{\n            'v': 250,\n            'f': \"250\",\n        },\n\"Prim\",\n{\n            'v': 52.0,\n            'f': \"52.0\",\n        }],\n [{\n            'v': 53,\n            'f': \"53\",\n        },\n{\n            'v': 4100,\n            'f': \"4100\",\n        },\n{\n            'v': 12,\n            'f': \"12\",\n        },\n{\n            'v': 5,\n            'f': \"5\",\n        },\n\"S\",\n{\n            'v': 23.0,\n            'f': \"23.0\",\n        },\n{\n            'v': 90.0,\n            'f': \"90.0\",\n        },\n{\n            'v': 11000,\n            'f': \"11000\",\n        },\n{\n            'v': 41.0,\n            'f': \"41.0\",\n        },\n{\n            'v': 0.737732587,\n            'f': \"0.737732587\",\n        },\n{\n            'v': 250,\n            'f': \"250\",\n        },\n\"Prim\",\n{\n            'v': 50.0,\n            'f': \"50.0\",\n        }],\n [{\n            'v': 54,\n            'f': \"54\",\n        },\n{\n            'v': 10800,\n            'f': \"10800\",\n        },\n{\n            'v': 40,\n            'f': \"40\",\n        },\n{\n            'v': 37,\n            'f': \"37\",\n        },\n\"S\",\n{\n            'v': 25.5,\n            'f': \"25.5\",\n        },\n{\n            'v': 60.0,\n            'f': \"60.0\",\n        },\n{\n            'v': 10300,\n            'f': \"10300\",\n        },\n{\n            'v': 40.0,\n            'f': \"40.0\",\n        },\n{\n            'v': 0.7307140759999999,\n            'f': \"0.7307140759999999\",\n        },\n{\n            'v': 250,\n            'f': \"250\",\n        },\n\"WF\",\n{\n            'v': 47.0,\n            'f': \"47.0\",\n        }],\n [{\n            'v': 55,\n            'f': \"55\",\n        },\n{\n            'v': 280,\n            'f': \"280\",\n        },\n{\n            'v': 3,\n            'f': \"3\",\n        },\n{\n            'v': 2,\n            'f': \"2\",\n        },\n\"S\",\n{\n            'v': 18.0,\n            'f': \"18.0\",\n        },\n{\n            'v': 40.0,\n            'f': \"40.0\",\n        },\n{\n            'v': 11550,\n            'f': \"11550\",\n        },\n{\n            'v': 38.0,\n            'f': \"38.0\",\n        },\n{\n            'v': 0.676585453,\n            'f': \"0.676585453\",\n        },\n{\n            'v': 244,\n            'f': \"244\",\n        },\n\"WF\",\n{\n            'v': 55.0,\n            'f': \"55.0\",\n        }],\n [{\n            'v': 56,\n            'f': \"56\",\n        },\n{\n            'v': 200,\n            'f': \"200\",\n        },\n{\n            'v': 4,\n            'f': \"4\",\n        },\n{\n            'v': 3,\n            'f': \"3\",\n        },\n\"S\",\n{\n            'v': 12.0,\n            'f': \"12.0\",\n        },\n{\n            'v': 200.0,\n            'f': \"200.0\",\n        },\n{\n            'v': 11600,\n            'f': \"11600\",\n        },\n{\n            'v': 42.0,\n            'f': \"42.0\",\n        },\n{\n            'v': 0.7307140759999999,\n            'f': \"0.7307140759999999\",\n        },\n{\n            'v': 250,\n            'f': \"250\",\n        },\n\"WF\",\n{\n            'v': 64.0,\n            'f': \"64.0\",\n        }],\n [{\n            'v': 57,\n            'f': \"57\",\n        },\n{\n            'v': 1800,\n            'f': \"1800\",\n        },\n{\n            'v': 12,\n            'f': \"12\",\n        },\n{\n            'v': 9,\n            'f': \"9\",\n        },\n\"S\",\n{\n            'v': 17.0,\n            'f': \"17.0\",\n        },\n{\n            'v': 171.0,\n            'f': \"171.0\",\n        },\n{\n            'v': 11500,\n            'f': \"11500\",\n        },\n{\n            'v': 45.0,\n            'f': \"45.0\",\n        },\n{\n            'v': 0.894184856,\n            'f': \"0.894184856\",\n        },\n{\n            'v': 228,\n            'f': \"228\",\n        },\n\"WF\",\n{\n            'v': 55.0,\n            'f': \"55.0\",\n        }],\n [{\n            'v': 58,\n            'f': \"58\",\n        },\n{\n            'v': 2600,\n            'f': \"2600\",\n        },\n{\n            'v': 28,\n            'f': \"28\",\n        },\n{\n            'v': 16,\n            'f': \"16\",\n        },\n\"S\",\n{\n            'v': 17.0,\n            'f': \"17.0\",\n        },\n{\n            'v': 273.0,\n            'f': \"273.0\",\n        },\n{\n            'v': 11950,\n            'f': \"11950\",\n        },\n{\n            'v': 43.0,\n            'f': \"43.0\",\n        },\n{\n            'v': 0.631205337,\n            'f': \"0.631205337\",\n        },\n{\n            'v': 234,\n            'f': \"234\",\n        },\n\"WF\",\n{\n            'v': 50.0,\n            'f': \"50.0\",\n        }],\n [{\n            'v': 59,\n            'f': \"59\",\n        },\n{\n            'v': 7754,\n            'f': \"7754\",\n        },\n{\n            'v': 25,\n            'f': \"25\",\n        },\n{\n            'v': 27,\n            'f': \"27\",\n        },\n\"S\",\n{\n            'v': 26.0,\n            'f': \"26.0\",\n        },\n{\n            'v': 100.0,\n            'f': \"100.0\",\n        },\n{\n            'v': 10300,\n            'f': \"10300\",\n        },\n{\n            'v': 39.0,\n            'f': \"39.0\",\n        },\n{\n            'v': 0.599378662,\n            'f': \"0.599378662\",\n        },\n{\n            'v': 260,\n            'f': \"260\",\n        },\n\"GI\",\n{\n            'v': 32.0,\n            'f': \"32.0\",\n        }],\n [{\n            'v': 60,\n            'f': \"60\",\n        },\n{\n            'v': 3500,\n            'f': \"3500\",\n        },\n{\n            'v': 19,\n            'f': \"19\",\n        },\n{\n            'v': 12,\n            'f': \"12\",\n        },\n\"S\",\n{\n            'v': 20.0,\n            'f': \"20.0\",\n        },\n{\n            'v': 30.0,\n            'f': \"30.0\",\n        },\n{\n            'v': 10100,\n            'f': \"10100\",\n        },\n{\n            'v': 40.0,\n            'f': \"40.0\",\n        },\n{\n            'v': 0.638849114,\n            'f': \"0.638849114\",\n        },\n{\n            'v': 212,\n            'f': \"212\",\n        },\n\"WF\",\n{\n            'v': 32.0,\n            'f': \"32.0\",\n        }],\n [{\n            'v': 61,\n            'f': \"61\",\n        },\n{\n            'v': 14010,\n            'f': \"14010\",\n        },\n{\n            'v': 64,\n            'f': \"64\",\n        },\n{\n            'v': 38,\n            'f': \"38\",\n        },\n\"S\",\n{\n            'v': 30.0,\n            'f': \"30.0\",\n        },\n{\n            'v': 2000.0,\n            'f': \"2000.0\",\n        },\n{\n            'v': 3500,\n            'f': \"3500\",\n        },\n{\n            'v': 42.0,\n            'f': \"42.0\",\n        },\n{\n            'v': 0.7569184520000001,\n            'f': \"0.7569184520000001\",\n        },\n{\n            'v': 135,\n            'f': \"135\",\n        },\n\"WF\",\n{\n            'v': 35.0,\n            'f': \"35.0\",\n        }],\n [{\n            'v': 62,\n            'f': \"62\",\n        },\n{\n            'v': 3900,\n            'f': \"3900\",\n        },\n{\n            'v': 29,\n            'f': \"29\",\n        },\n{\n            'v': 11,\n            'f': \"11\",\n        },\n\"S\",\n{\n            'v': 28.0,\n            'f': \"28.0\",\n        },\n{\n            'v': 2000.0,\n            'f': \"2000.0\",\n        },\n{\n            'v': 8500,\n            'f': \"8500\",\n        },\n{\n            'v': 39.5,\n            'f': \"39.5\",\n        },\n{\n            'v': 0.894120501,\n            'f': \"0.894120501\",\n        },\n{\n            'v': 190,\n            'f': \"190\",\n        },\n\"WF\",\n{\n            'v': 26.7,\n            'f': \"26.7\",\n        }],\n [{\n            'v': 63,\n            'f': \"63\",\n        },\n{\n            'v': 10104,\n            'f': \"10104\",\n        },\n{\n            'v': 45,\n            'f': \"45\",\n        },\n{\n            'v': 26,\n            'f': \"26\",\n        },\n\"S\",\n{\n            'v': 23.0,\n            'f': \"23.0\",\n        },\n{\n            'v': 289.0,\n            'f': \"289.0\",\n        },\n{\n            'v': 4800,\n            'f': \"4800\",\n        },\n{\n            'v': 33.0,\n            'f': \"33.0\",\n        },\n{\n            'v': 2.787545047,\n            'f': \"2.787545047\",\n        },\n{\n            'v': 164,\n            'f': \"164\",\n        },\n\"WF\",\n{\n            'v': 24.0,\n            'f': \"24.0\",\n        }],\n [{\n            'v': 64,\n            'f': \"64\",\n        },\n{\n            'v': 2500,\n            'f': \"2500\",\n        },\n{\n            'v': 19,\n            'f': \"19\",\n        },\n{\n            'v': 12,\n            'f': \"12\",\n        },\n\"S\",\n{\n            'v': 28.0,\n            'f': \"28.0\",\n        },\n{\n            'v': 300.0,\n            'f': \"300.0\",\n        },\n{\n            'v': 5000,\n            'f': \"5000\",\n        },\n{\n            'v': 22.0,\n            'f': \"22.0\",\n        },\n{\n            'v': 20.0163976,\n            'f': \"20.0163976\",\n        },\n{\n            'v': 152,\n            'f': \"152\",\n        },\n\"WF\",\n{\n            'v': 37.0,\n            'f': \"37.0\",\n        }],\n [{\n            'v': 65,\n            'f': \"65\",\n        },\n{\n            'v': 980,\n            'f': \"980\",\n        },\n{\n            'v': 17,\n            'f': \"17\",\n        },\n{\n            'v': 17,\n            'f': \"17\",\n        },\n\"Dolo\",\n{\n            'v': 10.0,\n            'f': \"10.0\",\n        },\n{\n            'v': 10.0,\n            'f': \"10.0\",\n        },\n{\n            'v': 11100,\n            'f': \"11100\",\n        },\n{\n            'v': 39.5,\n            'f': \"39.5\",\n        },\n{\n            'v': 0.64,\n            'f': \"0.64\",\n        },\n{\n            'v': 232,\n            'f': \"232\",\n        },\n\"WF\",\n{\n            'v': 60.0,\n            'f': \"60.0\",\n        }],\n [{\n            'v': 66,\n            'f': \"66\",\n        },\n{\n            'v': 1020,\n            'f': \"1020\",\n        },\n{\n            'v': 49,\n            'f': \"49\",\n        },\n{\n            'v': 30,\n            'f': \"30\",\n        },\n\"Dolo\",\n{\n            'v': 10.0,\n            'f': \"10.0\",\n        },\n{\n            'v': 4.0,\n            'f': \"4.0\",\n        },\n{\n            'v': 4000,\n            'f': \"4000\",\n        },\n{\n            'v': 34.0,\n            'f': \"34.0\",\n        },\n{\n            'v': 2.0,\n            'f': \"2.0\",\n        },\n{\n            'v': 86,\n            'f': \"86\",\n        },\n\"WF\",\n{\n            'v': 55.0,\n            'f': \"55.0\",\n        }],\n [{\n            'v': 67,\n            'f': \"67\",\n        },\n{\n            'v': 13440,\n            'f': \"13440\",\n        },\n{\n            'v': 142,\n            'f': \"142\",\n        },\n{\n            'v': 120,\n            'f': \"120\",\n        },\n\"LS\",\n{\n            'v': 14.0,\n            'f': \"14.0\",\n        },\n{\n            'v': 5.0,\n            'f': \"5.0\",\n        },\n{\n            'v': 5600,\n            'f': \"5600\",\n        },\n{\n            'v': 41.0,\n            'f': \"41.0\",\n        },\n{\n            'v': 1.0,\n            'f': \"1.0\",\n        },\n{\n            'v': 125,\n            'f': \"125\",\n        },\n\"Prim\",\n{\n            'v': 50.0,\n            'f': \"50.0\",\n        }],\n [{\n            'v': 68,\n            'f': \"68\",\n        },\n{\n            'v': 8500,\n            'f': \"8500\",\n        },\n{\n            'v': 484,\n            'f': \"484\",\n        },\n{\n            'v': 284,\n            'f': \"284\",\n        },\n\"Dolo\",\n{\n            'v': 9.0,\n            'f': \"9.0\",\n        },\n{\n            'v': 20.0,\n            'f': \"20.0\",\n        },\n{\n            'v': 4300,\n            'f': \"4300\",\n        },\n{\n            'v': 29.0,\n            'f': \"29.0\",\n        },\n{\n            'v': 6.0,\n            'f': \"6.0\",\n        },\n{\n            'v': 97,\n            'f': \"97\",\n        },\n\"WF\",\n{\n            'v': 48.03,\n            'f': \"48.03\",\n        }],\n [{\n            'v': 69,\n            'f': \"69\",\n        },\n{\n            'v': 809,\n            'f': \"809\",\n        },\n{\n            'v': 21,\n            'f': \"21\",\n        },\n{\n            'v': 19,\n            'f': \"19\",\n        },\n\"Tripol\",\n{\n            'v': 21.9,\n            'f': \"21.9\",\n        },\n{\n            'v': 3.0,\n            'f': \"3.0\",\n        },\n{\n            'v': 5300,\n            'f': \"5300\",\n        },\n{\n            'v': 42.0,\n            'f': \"42.0\",\n        },\n{\n            'v': 1.0,\n            'f': \"1.0\",\n        },\n{\n            'v': 105,\n            'f': \"105\",\n        },\n\"WF\",\n{\n            'v': 45.0,\n            'f': \"45.0\",\n        }],\n [{\n            'v': 70,\n            'f': \"70\",\n        },\n{\n            'v': 1120,\n            'f': \"1120\",\n        },\n{\n            'v': 23,\n            'f': \"23\",\n        },\n{\n            'v': 26,\n            'f': \"26\",\n        },\n\"Dolo\",\n{\n            'v': 10.5,\n            'f': \"10.5\",\n        },\n{\n            'v': 4.0,\n            'f': \"4.0\",\n        },\n{\n            'v': 5500,\n            'f': \"5500\",\n        },\n{\n            'v': 32.0,\n            'f': \"32.0\",\n        },\n{\n            'v': 1.0,\n            'f': \"1.0\",\n        },\n{\n            'v': 104,\n            'f': \"104\",\n        },\n\"Prim\",\n{\n            'v': 60.7,\n            'f': \"60.7\",\n        }],\n [{\n            'v': 71,\n            'f': \"71\",\n        },\n{\n            'v': 340,\n            'f': \"340\",\n        },\n{\n            'v': 7,\n            'f': \"7\",\n        },\n{\n            'v': 4,\n            'f': \"4\",\n        },\n\"Dolo\",\n{\n            'v': 10.0,\n            'f': \"10.0\",\n        },\n{\n            'v': 4.0,\n            'f': \"4.0\",\n        },\n{\n            'v': 5500,\n            'f': \"5500\",\n        },\n{\n            'v': 32.0,\n            'f': \"32.0\",\n        },\n{\n            'v': 1.0,\n            'f': \"1.0\",\n        },\n{\n            'v': 105,\n            'f': \"105\",\n        },\n\"WF\",\n{\n            'v': 45.0,\n            'f': \"45.0\",\n        }],\n [{\n            'v': 72,\n            'f': \"72\",\n        },\n{\n            'v': 150,\n            'f': \"150\",\n        },\n{\n            'v': 7,\n            'f': \"7\",\n        },\n{\n            'v': 4,\n            'f': \"4\",\n        },\n\"Dolo\",\n{\n            'v': 10.0,\n            'f': \"10.0\",\n        },\n{\n            'v': 5.0,\n            'f': \"5.0\",\n        },\n{\n            'v': 5700,\n            'f': \"5700\",\n        },\n{\n            'v': 32.0,\n            'f': \"32.0\",\n        },\n{\n            'v': 1.0,\n            'f': \"1.0\",\n        },\n{\n            'v': 105,\n            'f': \"105\",\n        },\n\"WF\",\n{\n            'v': 50.0,\n            'f': \"50.0\",\n        }],\n [{\n            'v': 73,\n            'f': \"73\",\n        },\n{\n            'v': 400,\n            'f': \"400\",\n        },\n{\n            'v': 9,\n            'f': \"9\",\n        },\n{\n            'v': 10,\n            'f': \"10\",\n        },\n\"Tripol\",\n{\n            'v': 23.7,\n            'f': \"23.7\",\n        },\n{\n            'v': 4.5,\n            'f': \"4.5\",\n        },\n{\n            'v': 5500,\n            'f': \"5500\",\n        },\n{\n            'v': 42.0,\n            'f': \"42.0\",\n        },\n{\n            'v': 0.51,\n            'f': \"0.51\",\n        },\n{\n            'v': 105,\n            'f': \"105\",\n        },\n\"WF\",\n{\n            'v': 55.0,\n            'f': \"55.0\",\n        }],\n [{\n            'v': 74,\n            'f': \"74\",\n        },\n{\n            'v': 400,\n            'f': \"400\",\n        },\n{\n            'v': 15,\n            'f': \"15\",\n        },\n{\n            'v': 8,\n            'f': \"8\",\n        },\n\"Dolo\",\n{\n            'v': 10.0,\n            'f': \"10.0\",\n        },\n{\n            'v': 2.0,\n            'f': \"2.0\",\n        },\n{\n            'v': 5300,\n            'f': \"5300\",\n        },\n{\n            'v': 33.0,\n            'f': \"33.0\",\n        },\n{\n            'v': 2.0,\n            'f': \"2.0\",\n        },\n{\n            'v': 108,\n            'f': \"108\",\n        },\n\"WF\",\n{\n            'v': 66.0,\n            'f': \"66.0\",\n        }],\n [{\n            'v': 75,\n            'f': \"75\",\n        },\n{\n            'v': 4392,\n            'f': \"4392\",\n        },\n{\n            'v': 32,\n            'f': \"32\",\n        },\n{\n            'v': 9,\n            'f': \"9\",\n        },\n\"S\",\n{\n            'v': 19.5,\n            'f': \"19.5\",\n        },\n{\n            'v': 32.0,\n            'f': \"32.0\",\n        },\n{\n            'v': 4900,\n            'f': \"4900\",\n        },\n{\n            'v': 36.0,\n            'f': \"36.0\",\n        },\n{\n            'v': 2.0,\n            'f': \"2.0\",\n        },\n{\n            'v': 105,\n            'f': \"105\",\n        },\n\"WF\",\n{\n            'v': 50.0,\n            'f': \"50.0\",\n        }],\n [{\n            'v': 76,\n            'f': \"76\",\n        },\n{\n            'v': 800,\n            'f': \"800\",\n        },\n{\n            'v': 3,\n            'f': \"3\",\n        },\n{\n            'v': 5,\n            'f': \"5\",\n        },\n\"S\",\n{\n            'v': 37.0,\n            'f': \"37.0\",\n        },\n{\n            'v': 4500.0,\n            'f': \"4500.0\",\n        },\n{\n            'v': 8200,\n            'f': \"8200\",\n        },\n{\n            'v': 37.0,\n            'f': \"37.0\",\n        },\n{\n            'v': 2.0,\n            'f': \"2.0\",\n        },\n{\n            'v': 180,\n            'f': \"180\",\n        },\n\"WF\",\n{\n            'v': 50.0,\n            'f': \"50.0\",\n        }],\n [{\n            'v': 77,\n            'f': \"77\",\n        },\n{\n            'v': 900,\n            'f': \"900\",\n        },\n{\n            'v': 4,\n            'f': \"4\",\n        },\n{\n            'v': 5,\n            'f': \"5\",\n        },\n\"S\",\n{\n            'v': 37.0,\n            'f': \"37.0\",\n        },\n{\n            'v': 4500.0,\n            'f': \"4500.0\",\n        },\n{\n            'v': 8200,\n            'f': \"8200\",\n        },\n{\n            'v': 37.0,\n            'f': \"37.0\",\n        },\n{\n            'v': 2.0,\n            'f': \"2.0\",\n        },\n{\n            'v': 180,\n            'f': \"180\",\n        },\n\"WF\",\n{\n            'v': 50.0,\n            'f': \"50.0\",\n        }],\n [{\n            'v': 78,\n            'f': \"78\",\n        },\n{\n            'v': 1100,\n            'f': \"1100\",\n        },\n{\n            'v': 19,\n            'f': \"19\",\n        },\n{\n            'v': 18,\n            'f': \"18\",\n        },\n\"Dolo\",\n{\n            'v': 15.0,\n            'f': \"15.0\",\n        },\n{\n            'v': 8.0,\n            'f': \"8.0\",\n        },\n{\n            'v': 4852,\n            'f': \"4852\",\n        },\n{\n            'v': 35.0,\n            'f': \"35.0\",\n        },\n{\n            'v': 1.0,\n            'f': \"1.0\",\n        },\n{\n            'v': 98,\n            'f': \"98\",\n        },\n\"WF\",\n{\n            'v': 48.03,\n            'f': \"48.03\",\n        }],\n [{\n            'v': 79,\n            'f': \"79\",\n        },\n{\n            'v': 15699,\n            'f': \"15699\",\n        },\n{\n            'v': 370,\n            'f': \"370\",\n        },\n{\n            'v': 110,\n            'f': \"110\",\n        },\n\"Dolo\",\n{\n            'v': 12.0,\n            'f': \"12.0\",\n        },\n{\n            'v': 62.15,\n            'f': \"62.15\",\n        },\n{\n            'v': 5300,\n            'f': \"5300\",\n        },\n{\n            'v': 35.0,\n            'f': \"35.0\",\n        },\n{\n            'v': 1.0,\n            'f': \"1.0\",\n        },\n{\n            'v': 104,\n            'f': \"104\",\n        },\n\"WF\",\n{\n            'v': 84.0,\n            'f': \"84.0\",\n        }],\n [{\n            'v': 80,\n            'f': \"80\",\n        },\n{\n            'v': 500,\n            'f': \"500\",\n        },\n{\n            'v': 15,\n            'f': \"15\",\n        },\n{\n            'v': 10,\n            'f': \"10\",\n        },\n\"Dolo\",\n{\n            'v': 12.0,\n            'f': \"12.0\",\n        },\n{\n            'v': 62.15,\n            'f': \"62.15\",\n        },\n{\n            'v': 5500,\n            'f': \"5500\",\n        },\n{\n            'v': 35.0,\n            'f': \"35.0\",\n        },\n{\n            'v': 1.0,\n            'f': \"1.0\",\n        },\n{\n            'v': 104,\n            'f': \"104\",\n        },\n\"None\",\n{\n            'v': 30.0,\n            'f': \"30.0\",\n        }],\n [{\n            'v': 81,\n            'f': \"81\",\n        },\n{\n            'v': 480,\n            'f': \"480\",\n        },\n{\n            'v': 16,\n            'f': \"16\",\n        },\n{\n            'v': 9,\n            'f': \"9\",\n        },\n\"Dolo\",\n{\n            'v': 12.0,\n            'f': \"12.0\",\n        },\n{\n            'v': 62.15,\n            'f': \"62.15\",\n        },\n{\n            'v': 5500,\n            'f': \"5500\",\n        },\n{\n            'v': 35.0,\n            'f': \"35.0\",\n        },\n{\n            'v': 1.0,\n            'f': \"1.0\",\n        },\n{\n            'v': 104,\n            'f': \"104\",\n        },\n\"None\",\n{\n            'v': 30.0,\n            'f': \"30.0\",\n        }],\n [{\n            'v': 82,\n            'f': \"82\",\n        },\n{\n            'v': 2320,\n            'f': \"2320\",\n        },\n{\n            'v': 44,\n            'f': \"44\",\n        },\n{\n            'v': 29,\n            'f': \"29\",\n        },\n\"Dolo\",\n{\n            'v': 12.0,\n            'f': \"12.0\",\n        },\n{\n            'v': 62.15,\n            'f': \"62.15\",\n        },\n{\n            'v': 5500,\n            'f': \"5500\",\n        },\n{\n            'v': 35.0,\n            'f': \"35.0\",\n        },\n{\n            'v': 1.0,\n            'f': \"1.0\",\n        },\n{\n            'v': 104,\n            'f': \"104\",\n        },\n\"None\",\n{\n            'v': 30.0,\n            'f': \"30.0\",\n        }],\n [{\n            'v': 83,\n            'f': \"83\",\n        },\n{\n            'v': 49900,\n            'f': \"49900\",\n        },\n{\n            'v': 390,\n            'f': \"390\",\n        },\n{\n            'v': 503,\n            'f': \"503\",\n        },\n\"LS\",\n{\n            'v': 4.0,\n            'f': \"4.0\",\n        },\n{\n            'v': 19.0,\n            'f': \"19.0\",\n        },\n{\n            'v': 6700,\n            'f': \"6700\",\n        },\n{\n            'v': 39.0,\n            'f': \"39.0\",\n        },\n{\n            'v': 1.0,\n            'f': \"1.0\",\n        },\n{\n            'v': 135,\n            'f': \"135\",\n        },\n\"WF\",\n{\n            'v': 78.0,\n            'f': \"78.0\",\n        }],\n [{\n            'v': 84,\n            'f': \"84\",\n        },\n{\n            'v': 5000,\n            'f': \"5000\",\n        },\n{\n            'v': 156,\n            'f': \"156\",\n        },\n{\n            'v': 101,\n            'f': \"101\",\n        },\n\"LS\",\n{\n            'v': 17.0,\n            'f': \"17.0\",\n        },\n{\n            'v': 75.0,\n            'f': \"75.0\",\n        },\n{\n            'v': 4950,\n            'f': \"4950\",\n        },\n{\n            'v': 38.0,\n            'f': \"38.0\",\n        },\n{\n            'v': 2.0,\n            'f': \"2.0\",\n        },\n{\n            'v': 117,\n            'f': \"117\",\n        },\n\"WF\",\n{\n            'v': 70.0,\n            'f': \"70.0\",\n        }],\n [{\n            'v': 85,\n            'f': \"85\",\n        },\n{\n            'v': 21205,\n            'f': \"21205\",\n        },\n{\n            'v': 637,\n            'f': \"637\",\n        },\n{\n            'v': 389,\n            'f': \"389\",\n        },\n\"Dolo\",\n{\n            'v': 12.0,\n            'f': \"12.0\",\n        },\n{\n            'v': 32.0,\n            'f': \"32.0\",\n        },\n{\n            'v': 4100,\n            'f': \"4100\",\n        },\n{\n            'v': 35.0,\n            'f': \"35.0\",\n        },\n{\n            'v': 1.0,\n            'f': \"1.0\",\n        },\n{\n            'v': 95,\n            'f': \"95\",\n        },\n\"WF\",\n{\n            'v': 80.0,\n            'f': \"80.0\",\n        }],\n [{\n            'v': 86,\n            'f': \"86\",\n        },\n{\n            'v': 1345,\n            'f': \"1345\",\n        },\n{\n            'v': 33,\n            'f': \"33\",\n        },\n{\n            'v': 39,\n            'f': \"39\",\n        },\n\"S\",\n{\n            'v': 9.9,\n            'f': \"9.9\",\n        },\n{\n            'v': 31.0,\n            'f': \"31.0\",\n        },\n{\n            'v': 5000,\n            'f': \"5000\",\n        },\n{\n            'v': 35.0,\n            'f': \"35.0\",\n        },\n{\n            'v': 1.0,\n            'f': \"1.0\",\n        },\n{\n            'v': 178,\n            'f': \"178\",\n        },\n\"WF\",\n{\n            'v': 48.03,\n            'f': \"48.03\",\n        }],\n [{\n            'v': 87,\n            'f': \"87\",\n        },\n{\n            'v': 790,\n            'f': \"790\",\n        },\n{\n            'v': 16,\n            'f': \"16\",\n        },\n{\n            'v': 17,\n            'f': \"17\",\n        },\n\"S\",\n{\n            'v': 10.3,\n            'f': \"10.3\",\n        },\n{\n            'v': 4.0,\n            'f': \"4.0\",\n        },\n{\n            'v': 5400,\n            'f': \"5400\",\n        },\n{\n            'v': 35.0,\n            'f': \"35.0\",\n        },\n{\n            'v': 1.0,\n            'f': \"1.0\",\n        },\n{\n            'v': 181,\n            'f': \"181\",\n        },\n\"WF\",\n{\n            'v': 48.03,\n            'f': \"48.03\",\n        }],\n [{\n            'v': 88,\n            'f': \"88\",\n        },\n{\n            'v': 120,\n            'f': \"120\",\n        },\n{\n            'v': 11,\n            'f': \"11\",\n        },\n{\n            'v': 7,\n            'f': \"7\",\n        },\n\"S\",\n{\n            'v': 7.0,\n            'f': \"7.0\",\n        },\n{\n            'v': 10.0,\n            'f': \"10.0\",\n        },\n{\n            'v': 7000,\n            'f': \"7000\",\n        },\n{\n            'v': 35.0,\n            'f': \"35.0\",\n        },\n{\n            'v': 4.313711378,\n            'f': \"4.313711378\",\n        },\n{\n            'v': 140,\n            'f': \"140\",\n        },\n\"WF\",\n{\n            'v': 48.03,\n            'f': \"48.03\",\n        }],\n [{\n            'v': 89,\n            'f': \"89\",\n        },\n{\n            'v': 1400,\n            'f': \"1400\",\n        },\n{\n            'v': 12,\n            'f': \"12\",\n        },\n{\n            'v': 22,\n            'f': \"22\",\n        },\n\"S\",\n{\n            'v': 10.0,\n            'f': \"10.0\",\n        },\n{\n            'v': 20.0,\n            'f': \"20.0\",\n        },\n{\n            'v': 6000,\n            'f': \"6000\",\n        },\n{\n            'v': 35.0,\n            'f': \"35.0\",\n        },\n{\n            'v': 4.313711378,\n            'f': \"4.313711378\",\n        },\n{\n            'v': 163,\n            'f': \"163\",\n        },\n\"WF\",\n{\n            'v': 48.03,\n            'f': \"48.03\",\n        }],\n [{\n            'v': 90,\n            'f': \"90\",\n        },\n{\n            'v': 810,\n            'f': \"810\",\n        },\n{\n            'v': 12,\n            'f': \"12\",\n        },\n{\n            'v': 18,\n            'f': \"18\",\n        },\n\"S\",\n{\n            'v': 10.0,\n            'f': \"10.0\",\n        },\n{\n            'v': 5.0,\n            'f': \"5.0\",\n        },\n{\n            'v': 6400,\n            'f': \"6400\",\n        },\n{\n            'v': 35.0,\n            'f': \"35.0\",\n        },\n{\n            'v': 1.0,\n            'f': \"1.0\",\n        },\n{\n            'v': 170,\n            'f': \"170\",\n        },\n\"WF\",\n{\n            'v': 48.03,\n            'f': \"48.03\",\n        }],\n [{\n            'v': 91,\n            'f': \"91\",\n        },\n{\n            'v': 3400,\n            'f': \"3400\",\n        },\n{\n            'v': 85,\n            'f': \"85\",\n        },\n{\n            'v': 49,\n            'f': \"49\",\n        },\n\"S\",\n{\n            'v': 13.0,\n            'f': \"13.0\",\n        },\n{\n            'v': 44.0,\n            'f': \"44.0\",\n        },\n{\n            'v': 9400,\n            'f': \"9400\",\n        },\n{\n            'v': 38.0,\n            'f': \"38.0\",\n        },\n{\n            'v': 1.0,\n            'f': \"1.0\",\n        },\n{\n            'v': 148,\n            'f': \"148\",\n        },\n\"WF\",\n{\n            'v': 48.03,\n            'f': \"48.03\",\n        }],\n [{\n            'v': 92,\n            'f': \"92\",\n        },\n{\n            'v': 700,\n            'f': \"700\",\n        },\n{\n            'v': 29,\n            'f': \"29\",\n        },\n{\n            'v': 12,\n            'f': \"12\",\n        },\n\"S\",\n{\n            'v': 14.0,\n            'f': \"14.0\",\n        },\n{\n            'v': 50.0,\n            'f': \"50.0\",\n        },\n{\n            'v': 9400,\n            'f': \"9400\",\n        },\n{\n            'v': 38.0,\n            'f': \"38.0\",\n        },\n{\n            'v': 1.0,\n            'f': \"1.0\",\n        },\n{\n            'v': 150,\n            'f': \"150\",\n        },\n\"WF\",\n{\n            'v': 48.03,\n            'f': \"48.03\",\n        }],\n [{\n            'v': 93,\n            'f': \"93\",\n        },\n{\n            'v': 2291,\n            'f': \"2291\",\n        },\n{\n            'v': 11,\n            'f': \"11\",\n        },\n{\n            'v': 1,\n            'f': \"1\",\n        },\n\"Congl\",\n{\n            'v': 12.8,\n            'f': \"12.8\",\n        },\n{\n            'v': 55.0,\n            'f': \"55.0\",\n        },\n{\n            'v': 5700,\n            'f': \"5700\",\n        },\n{\n            'v': 44.0,\n            'f': \"44.0\",\n        },\n{\n            'v': 0.39,\n            'f': \"0.39\",\n        },\n{\n            'v': 154,\n            'f': \"154\",\n        },\n\"WF\",\n{\n            'v': 60.0,\n            'f': \"60.0\",\n        }],\n [{\n            'v': 94,\n            'f': \"94\",\n        },\n{\n            'v': 10,\n            'f': \"10\",\n        },\n{\n            'v': 2,\n            'f': \"2\",\n        },\n{\n            'v': 3,\n            'f': \"3\",\n        },\n\"LS\",\n{\n            'v': 25.0,\n            'f': \"25.0\",\n        },\n{\n            'v': 85.0,\n            'f': \"85.0\",\n        },\n{\n            'v': 2900,\n            'f': \"2900\",\n        },\n{\n            'v': 39.6,\n            'f': \"39.6\",\n        },\n{\n            'v': 3.0,\n            'f': \"3.0\",\n        },\n{\n            'v': 99,\n            'f': \"99\",\n        },\n\"WF\",\n{\n            'v': 35.0,\n            'f': \"35.0\",\n        }],\n [{\n            'v': 95,\n            'f': \"95\",\n        },\n{\n            'v': 1953,\n            'f': \"1953\",\n        },\n{\n            'v': 8,\n            'f': \"8\",\n        },\n{\n            'v': 4,\n            'f': \"4\",\n        },\n\"S\",\n{\n            'v': 23.0,\n            'f': \"23.0\",\n        },\n{\n            'v': 30.0,\n            'f': \"30.0\",\n        },\n{\n            'v': 2680,\n            'f': \"2680\",\n        },\n{\n            'v': 40.0,\n            'f': \"40.0\",\n        },\n{\n            'v': 1.0,\n            'f': \"1.0\",\n        },\n{\n            'v': 82,\n            'f': \"82\",\n        },\n\"Prim\",\n{\n            'v': 49.0,\n            'f': \"49.0\",\n        }],\n [{\n            'v': 96,\n            'f': \"96\",\n        },\n{\n            'v': 4437,\n            'f': \"4437\",\n        },\n{\n            'v': 157,\n            'f': \"157\",\n        },\n{\n            'v': 93,\n            'f': \"93\",\n        },\n\"Dolo\",\n{\n            'v': 7.0,\n            'f': \"7.0\",\n        },\n{\n            'v': 4.0,\n            'f': \"4.0\",\n        },\n{\n            'v': 5800,\n            'f': \"5800\",\n        },\n{\n            'v': 30.0,\n            'f': \"30.0\",\n        },\n{\n            'v': 3.0,\n            'f': \"3.0\",\n        },\n{\n            'v': 109,\n            'f': \"109\",\n        },\n\"WF\",\n{\n            'v': 50.0,\n            'f': \"50.0\",\n        }],\n [{\n            'v': 97,\n            'f': \"97\",\n        },\n{\n            'v': 830,\n            'f': \"830\",\n        },\n{\n            'v': 51,\n            'f': \"51\",\n        },\n{\n            'v': 38,\n            'f': \"38\",\n        },\n\"Dolo\",\n{\n            'v': 10.0,\n            'f': \"10.0\",\n        },\n{\n            'v': 7.0,\n            'f': \"7.0\",\n        },\n{\n            'v': 5200,\n            'f': \"5200\",\n        },\n{\n            'v': 29.0,\n            'f': \"29.0\",\n        },\n{\n            'v': 3.0,\n            'f': \"3.0\",\n        },\n{\n            'v': 109,\n            'f': \"109\",\n        },\n\"WF\",\n{\n            'v': 55.0,\n            'f': \"55.0\",\n        }],\n [{\n            'v': 98,\n            'f': \"98\",\n        },\n{\n            'v': 2870,\n            'f': \"2870\",\n        },\n{\n            'v': 230,\n            'f': \"230\",\n        },\n{\n            'v': 92,\n            'f': \"92\",\n        },\n\"Dolo\",\n{\n            'v': 14.0,\n            'f': \"14.0\",\n        },\n{\n            'v': 5.0,\n            'f': \"5.0\",\n        },\n{\n            'v': 4800,\n            'f': \"4800\",\n        },\n{\n            'v': 32.0,\n            'f': \"32.0\",\n        },\n{\n            'v': 2.3,\n            'f': \"2.3\",\n        },\n{\n            'v': 102,\n            'f': \"102\",\n        },\n\"WF\",\n{\n            'v': 50.0,\n            'f': \"50.0\",\n        }],\n [{\n            'v': 99,\n            'f': \"99\",\n        },\n{\n            'v': 2684,\n            'f': \"2684\",\n        },\n{\n            'v': 107,\n            'f': \"107\",\n        },\n{\n            'v': 89,\n            'f': \"89\",\n        },\n\"LS\",\n{\n            'v': 13.0,\n            'f': \"13.0\",\n        },\n{\n            'v': 6.0,\n            'f': \"6.0\",\n        },\n{\n            'v': 6800,\n            'f': \"6800\",\n        },\n{\n            'v': 40.0,\n            'f': \"40.0\",\n        },\n{\n            'v': 0.7,\n            'f': \"0.7\",\n        },\n{\n            'v': 130,\n            'f': \"130\",\n        },\n\"WF\",\n{\n            'v': 46.0,\n            'f': \"46.0\",\n        }],\n [{\n            'v': 100,\n            'f': \"100\",\n        },\n{\n            'v': 7100,\n            'f': \"7100\",\n        },\n{\n            'v': 28,\n            'f': \"28\",\n        },\n{\n            'v': 29,\n            'f': \"29\",\n        },\n\"S\",\n{\n            'v': 22.0,\n            'f': \"22.0\",\n        },\n{\n            'v': 20.0,\n            'f': \"20.0\",\n        },\n{\n            'v': 4500,\n            'f': \"4500\",\n        },\n{\n            'v': 41.0,\n            'f': \"41.0\",\n        },\n{\n            'v': 1.1,\n            'f': \"1.1\",\n        },\n{\n            'v': 97,\n            'f': \"97\",\n        },\n\"WF\",\n{\n            'v': 40.0,\n            'f': \"40.0\",\n        }],\n [{\n            'v': 101,\n            'f': \"101\",\n        },\n{\n            'v': 1143,\n            'f': \"1143\",\n        },\n{\n            'v': 29,\n            'f': \"29\",\n        },\n{\n            'v': 26,\n            'f': \"26\",\n        },\n\"Dolo\",\n{\n            'v': 10.0,\n            'f': \"10.0\",\n        },\n{\n            'v': 3.0,\n            'f': \"3.0\",\n        },\n{\n            'v': 5400,\n            'f': \"5400\",\n        },\n{\n            'v': 30.0,\n            'f': \"30.0\",\n        },\n{\n            'v': 3.0,\n            'f': \"3.0\",\n        },\n{\n            'v': 101,\n            'f': \"101\",\n        },\n\"WF\",\n{\n            'v': 55.0,\n            'f': \"55.0\",\n        }],\n [{\n            'v': 102,\n            'f': \"102\",\n        },\n{\n            'v': 1179,\n            'f': \"1179\",\n        },\n{\n            'v': 148,\n            'f': \"148\",\n        },\n{\n            'v': 110,\n            'f': \"110\",\n        },\n\"Dolo\",\n{\n            'v': 12.0,\n            'f': \"12.0\",\n        },\n{\n            'v': 2.0,\n            'f': \"2.0\",\n        },\n{\n            'v': 4900,\n            'f': \"4900\",\n        },\n{\n            'v': 34.0,\n            'f': \"34.0\",\n        },\n{\n            'v': 1.4,\n            'f': \"1.4\",\n        },\n{\n            'v': 108,\n            'f': \"108\",\n        },\n\"WF\",\n{\n            'v': 45.0,\n            'f': \"45.0\",\n        }],\n [{\n            'v': 103,\n            'f': \"103\",\n        },\n{\n            'v': 1184,\n            'f': \"1184\",\n        },\n{\n            'v': 187,\n            'f': \"187\",\n        },\n{\n            'v': 38,\n            'f': \"38\",\n        },\n\"Dolo\",\n{\n            'v': 10.0,\n            'f': \"10.0\",\n        },\n{\n            'v': 2.0,\n            'f': \"2.0\",\n        },\n{\n            'v': 4850,\n            'f': \"4850\",\n        },\n{\n            'v': 32.0,\n            'f': \"32.0\",\n        },\n{\n            'v': 1.4,\n            'f': \"1.4\",\n        },\n{\n            'v': 108,\n            'f': \"108\",\n        },\n\"WF\",\n{\n            'v': 30.0,\n            'f': \"30.0\",\n        }],\n [{\n            'v': 104,\n            'f': \"104\",\n        },\n{\n            'v': 1326,\n            'f': \"1326\",\n        },\n{\n            'v': 11,\n            'f': \"11\",\n        },\n{\n            'v': 5,\n            'f': \"5\",\n        },\n\"Tripol\",\n{\n            'v': 18.0,\n            'f': \"18.0\",\n        },\n{\n            'v': 2.0,\n            'f': \"2.0\",\n        },\n{\n            'v': 5400,\n            'f': \"5400\",\n        },\n{\n            'v': 42.0,\n            'f': \"42.0\",\n        },\n{\n            'v': 0.4,\n            'f': \"0.4\",\n        },\n{\n            'v': 104,\n            'f': \"104\",\n        },\n\"GI\",\n{\n            'v': 60.0,\n            'f': \"60.0\",\n        }],\n [{\n            'v': 105,\n            'f': \"105\",\n        },\n{\n            'v': 1155,\n            'f': \"1155\",\n        },\n{\n            'v': 26,\n            'f': \"26\",\n        },\n{\n            'v': 16,\n            'f': \"16\",\n        },\n\"Tripol\",\n{\n            'v': 22.0,\n            'f': \"22.0\",\n        },\n{\n            'v': 5.0,\n            'f': \"5.0\",\n        },\n{\n            'v': 5300,\n            'f': \"5300\",\n        },\n{\n            'v': 44.0,\n            'f': \"44.0\",\n        },\n{\n            'v': 0.4,\n            'f': \"0.4\",\n        },\n{\n            'v': 104,\n            'f': \"104\",\n        },\n\"GI\",\n{\n            'v': 49.0,\n            'f': \"49.0\",\n        }],\n [{\n            'v': 106,\n            'f': \"106\",\n        },\n{\n            'v': 465,\n            'f': \"465\",\n        },\n{\n            'v': 30,\n            'f': \"30\",\n        },\n{\n            'v': 15,\n            'f': \"15\",\n        },\n\"Dolo\",\n{\n            'v': 10.0,\n            'f': \"10.0\",\n        },\n{\n            'v': 4.0,\n            'f': \"4.0\",\n        },\n{\n            'v': 4200,\n            'f': \"4200\",\n        },\n{\n            'v': 34.0,\n            'f': \"34.0\",\n        },\n{\n            'v': 1.5,\n            'f': \"1.5\",\n        },\n{\n            'v': 91,\n            'f': \"91\",\n        },\n\"WF\",\n{\n            'v': 40.0,\n            'f': \"40.0\",\n        }],\n [{\n            'v': 107,\n            'f': \"107\",\n        },\n{\n            'v': 1280,\n            'f': \"1280\",\n        },\n{\n            'v': 25,\n            'f': \"25\",\n        },\n{\n            'v': 20,\n            'f': \"20\",\n        },\n\"Tripol\",\n{\n            'v': 22.0,\n            'f': \"22.0\",\n        },\n{\n            'v': 5.0,\n            'f': \"5.0\",\n        },\n{\n            'v': 7500,\n            'f': \"7500\",\n        },\n{\n            'v': 40.0,\n            'f': \"40.0\",\n        },\n{\n            'v': 0.5,\n            'f': \"0.5\",\n        },\n{\n            'v': 123,\n            'f': \"123\",\n        },\n\"WF\",\n{\n            'v': 38.0,\n            'f': \"38.0\",\n        }],\n [{\n            'v': 108,\n            'f': \"108\",\n        },\n{\n            'v': 3300,\n            'f': \"3300\",\n        },\n{\n            'v': 134,\n            'f': \"134\",\n        },\n{\n            'v': 83,\n            'f': \"83\",\n        },\n\"Dolo\",\n{\n            'v': 15.0,\n            'f': \"15.0\",\n        },\n{\n            'v': 15.0,\n            'f': \"15.0\",\n        },\n{\n            'v': 4200,\n            'f': \"4200\",\n        },\n{\n            'v': 35.0,\n            'f': \"35.0\",\n        },\n{\n            'v': 0.9,\n            'f': \"0.9\",\n        },\n{\n            'v': 102,\n            'f': \"102\",\n        },\n\"WF\",\n{\n            'v': 35.0,\n            'f': \"35.0\",\n        }],\n [{\n            'v': 109,\n            'f': \"109\",\n        },\n{\n            'v': 2090,\n            'f': \"2090\",\n        },\n{\n            'v': 71,\n            'f': \"71\",\n        },\n{\n            'v': 38,\n            'f': \"38\",\n        },\n\"Tripol\",\n{\n            'v': 21.0,\n            'f': \"21.0\",\n        },\n{\n            'v': 4.0,\n            'f': \"4.0\",\n        },\n{\n            'v': 5200,\n            'f': \"5200\",\n        },\n{\n            'v': 43.0,\n            'f': \"43.0\",\n        },\n{\n            'v': 0.6,\n            'f': \"0.6\",\n        },\n{\n            'v': 104,\n            'f': \"104\",\n        },\n\"GI\",\n{\n            'v': 43.0,\n            'f': \"43.0\",\n        }],\n [{\n            'v': 110,\n            'f': \"110\",\n        },\n{\n            'v': 12000,\n            'f': \"12000\",\n        },\n{\n            'v': 150,\n            'f': \"150\",\n        },\n{\n            'v': 135,\n            'f': \"135\",\n        },\n\"LS\",\n{\n            'v': 20.0,\n            'f': \"20.0\",\n        },\n{\n            'v': 12.0,\n            'f': \"12.0\",\n        },\n{\n            'v': 6300,\n            'f': \"6300\",\n        },\n{\n            'v': 39.0,\n            'f': \"39.0\",\n        },\n{\n            'v': 1.0,\n            'f': \"1.0\",\n        },\n{\n            'v': 125,\n            'f': \"125\",\n        },\n\"WF\",\n{\n            'v': 89.0,\n            'f': \"89.0\",\n        }],\n [{\n            'v': 111,\n            'f': \"111\",\n        },\n{\n            'v': 1400,\n            'f': \"1400\",\n        },\n{\n            'v': 25,\n            'f': \"25\",\n        },\n{\n            'v': 26,\n            'f': \"26\",\n        },\n\"LS\",\n{\n            'v': 10.0,\n            'f': \"10.0\",\n        },\n{\n            'v': 70.0,\n            'f': \"70.0\",\n        },\n{\n            'v': 6600,\n            'f': \"6600\",\n        },\n{\n            'v': 43.0,\n            'f': \"43.0\",\n        },\n{\n            'v': 0.4,\n            'f': \"0.4\",\n        },\n{\n            'v': 125,\n            'f': \"125\",\n        },\n\"WF\",\n{\n            'v': 39.0,\n            'f': \"39.0\",\n        }],\n [{\n            'v': 112,\n            'f': \"112\",\n        },\n{\n            'v': 246,\n            'f': \"246\",\n        },\n{\n            'v': 22,\n            'f': \"22\",\n        },\n{\n            'v': 13,\n            'f': \"13\",\n        },\n\"Dolo\",\n{\n            'v': 10.0,\n            'f': \"10.0\",\n        },\n{\n            'v': 5.0,\n            'f': \"5.0\",\n        },\n{\n            'v': 4950,\n            'f': \"4950\",\n        },\n{\n            'v': 31.0,\n            'f': \"31.0\",\n        },\n{\n            'v': 1.8,\n            'f': \"1.8\",\n        },\n{\n            'v': 105,\n            'f': \"105\",\n        },\n\"WF\",\n{\n            'v': 40.0,\n            'f': \"40.0\",\n        }],\n [{\n            'v': 113,\n            'f': \"113\",\n        },\n{\n            'v': 6412,\n            'f': \"6412\",\n        },\n{\n            'v': 175,\n            'f': \"175\",\n        },\n{\n            'v': 119,\n            'f': \"119\",\n        },\n\"Dolo\",\n{\n            'v': 10.0,\n            'f': \"10.0\",\n        },\n{\n            'v': 2.0,\n            'f': \"2.0\",\n        },\n{\n            'v': 4900,\n            'f': \"4900\",\n        },\n{\n            'v': 31.0,\n            'f': \"31.0\",\n        },\n{\n            'v': 1.8,\n            'f': \"1.8\",\n        },\n{\n            'v': 105,\n            'f': \"105\",\n        },\n\"WF\",\n{\n            'v': 48.0,\n            'f': \"48.0\",\n        }],\n [{\n            'v': 114,\n            'f': \"114\",\n        },\n{\n            'v': 1600,\n            'f': \"1600\",\n        },\n{\n            'v': 60,\n            'f': \"60\",\n        },\n{\n            'v': 52,\n            'f': \"52\",\n        },\n\"Dolo\",\n{\n            'v': 10.0,\n            'f': \"10.0\",\n        },\n{\n            'v': 4.0,\n            'f': \"4.0\",\n        },\n{\n            'v': 4950,\n            'f': \"4950\",\n        },\n{\n            'v': 31.0,\n            'f': \"31.0\",\n        },\n{\n            'v': 1.8,\n            'f': \"1.8\",\n        },\n{\n            'v': 105,\n            'f': \"105\",\n        },\n\"WF\",\n{\n            'v': 38.0,\n            'f': \"38.0\",\n        }],\n [{\n            'v': 115,\n            'f': \"115\",\n        },\n{\n            'v': 1240,\n            'f': \"1240\",\n        },\n{\n            'v': 39,\n            'f': \"39\",\n        },\n{\n            'v': 23,\n            'f': \"23\",\n        },\n\"Dolo\",\n{\n            'v': 10.0,\n            'f': \"10.0\",\n        },\n{\n            'v': 4.0,\n            'f': \"4.0\",\n        },\n{\n            'v': 5000,\n            'f': \"5000\",\n        },\n{\n            'v': 31.0,\n            'f': \"31.0\",\n        },\n{\n            'v': 1.6,\n            'f': \"1.6\",\n        },\n{\n            'v': 108,\n            'f': \"108\",\n        },\n\"WF\",\n{\n            'v': 47.0,\n            'f': \"47.0\",\n        }],\n [{\n            'v': 116,\n            'f': \"116\",\n        },\n{\n            'v': 1235,\n            'f': \"1235\",\n        },\n{\n            'v': 53,\n            'f': \"53\",\n        },\n{\n            'v': 37,\n            'f': \"37\",\n        },\n\"Dolo\",\n{\n            'v': 11.0,\n            'f': \"11.0\",\n        },\n{\n            'v': 4.0,\n            'f': \"4.0\",\n        },\n{\n            'v': 5040,\n            'f': \"5040\",\n        },\n{\n            'v': 34.0,\n            'f': \"34.0\",\n        },\n{\n            'v': 1.5,\n            'f': \"1.5\",\n        },\n{\n            'v': 105,\n            'f': \"105\",\n        },\n\"WF\",\n{\n            'v': 47.0,\n            'f': \"47.0\",\n        }],\n [{\n            'v': 117,\n            'f': \"117\",\n        },\n{\n            'v': 1048,\n            'f': \"1048\",\n        },\n{\n            'v': 38,\n            'f': \"38\",\n        },\n{\n            'v': 30,\n            'f': \"30\",\n        },\n\"Dolo\",\n{\n            'v': 10.0,\n            'f': \"10.0\",\n        },\n{\n            'v': 2.0,\n            'f': \"2.0\",\n        },\n{\n            'v': 4950,\n            'f': \"4950\",\n        },\n{\n            'v': 32.0,\n            'f': \"32.0\",\n        },\n{\n            'v': 2.0,\n            'f': \"2.0\",\n        },\n{\n            'v': 105,\n            'f': \"105\",\n        },\n\"WF\",\n{\n            'v': 47.0,\n            'f': \"47.0\",\n        }],\n [{\n            'v': 118,\n            'f': \"118\",\n        },\n{\n            'v': 5700,\n            'f': \"5700\",\n        },\n{\n            'v': 190,\n            'f': \"190\",\n        },\n{\n            'v': 167,\n            'f': \"167\",\n        },\n\"Dolo\",\n{\n            'v': 12.0,\n            'f': \"12.0\",\n        },\n{\n            'v': 5.0,\n            'f': \"5.0\",\n        },\n{\n            'v': 4950,\n            'f': \"4950\",\n        },\n{\n            'v': 31.0,\n            'f': \"31.0\",\n        },\n{\n            'v': 1.8,\n            'f': \"1.8\",\n        },\n{\n            'v': 105,\n            'f': \"105\",\n        },\n\"WF\",\n{\n            'v': 40.0,\n            'f': \"40.0\",\n        }],\n [{\n            'v': 119,\n            'f': \"119\",\n        },\n{\n            'v': 177,\n            'f': \"177\",\n        },\n{\n            'v': 6,\n            'f': \"6\",\n        },\n{\n            'v': 3,\n            'f': \"3\",\n        },\n\"Dolo\",\n{\n            'v': 10.0,\n            'f': \"10.0\",\n        },\n{\n            'v': 4.0,\n            'f': \"4.0\",\n        },\n{\n            'v': 5000,\n            'f': \"5000\",\n        },\n{\n            'v': 31.0,\n            'f': \"31.0\",\n        },\n{\n            'v': 1.6,\n            'f': \"1.6\",\n        },\n{\n            'v': 108,\n            'f': \"108\",\n        },\n\"WF\",\n{\n            'v': 47.0,\n            'f': \"47.0\",\n        }],\n [{\n            'v': 120,\n            'f': \"120\",\n        },\n{\n            'v': 1561,\n            'f': \"1561\",\n        },\n{\n            'v': 71,\n            'f': \"71\",\n        },\n{\n            'v': 48,\n            'f': \"48\",\n        },\n\"Dolo\",\n{\n            'v': 9.0,\n            'f': \"9.0\",\n        },\n{\n            'v': 4.0,\n            'f': \"4.0\",\n        },\n{\n            'v': 4900,\n            'f': \"4900\",\n        },\n{\n            'v': 32.0,\n            'f': \"32.0\",\n        },\n{\n            'v': 2.0,\n            'f': \"2.0\",\n        },\n{\n            'v': 105,\n            'f': \"105\",\n        },\n\"WF\",\n{\n            'v': 42.0,\n            'f': \"42.0\",\n        }],\n [{\n            'v': 121,\n            'f': \"121\",\n        },\n{\n            'v': 4720,\n            'f': \"4720\",\n        },\n{\n            'v': 104,\n            'f': \"104\",\n        },\n{\n            'v': 56,\n            'f': \"56\",\n        },\n\"Dolo\",\n{\n            'v': 7.0,\n            'f': \"7.0\",\n        },\n{\n            'v': 15.0,\n            'f': \"15.0\",\n        },\n{\n            'v': 8200,\n            'f': \"8200\",\n        },\n{\n            'v': 35.0,\n            'f': \"35.0\",\n        },\n{\n            'v': 1.1,\n            'f': \"1.1\",\n        },\n{\n            'v': 120,\n            'f': \"120\",\n        },\n\"WF\",\n{\n            'v': 48.03,\n            'f': \"48.03\",\n        }],\n [{\n            'v': 122,\n            'f': \"122\",\n        },\n{\n            'v': 1160,\n            'f': \"1160\",\n        },\n{\n            'v': 87,\n            'f': \"87\",\n        },\n{\n            'v': 73,\n            'f': \"73\",\n        },\n\"Dolo\",\n{\n            'v': 11.0,\n            'f': \"11.0\",\n        },\n{\n            'v': 4.0,\n            'f': \"4.0\",\n        },\n{\n            'v': 4900,\n            'f': \"4900\",\n        },\n{\n            'v': 34.0,\n            'f': \"34.0\",\n        },\n{\n            'v': 2.3,\n            'f': \"2.3\",\n        },\n{\n            'v': 98,\n            'f': \"98\",\n        },\n\"WF\",\n{\n            'v': 50.0,\n            'f': \"50.0\",\n        }],\n [{\n            'v': 123,\n            'f': \"123\",\n        },\n{\n            'v': 1700,\n            'f': \"1700\",\n        },\n{\n            'v': 52,\n            'f': \"52\",\n        },\n{\n            'v': 29,\n            'f': \"29\",\n        },\n\"Dolo\",\n{\n            'v': 7.0,\n            'f': \"7.0\",\n        },\n{\n            'v': 2.0,\n            'f': \"2.0\",\n        },\n{\n            'v': 7850,\n            'f': \"7850\",\n        },\n{\n            'v': 28.0,\n            'f': \"28.0\",\n        },\n{\n            'v': 1.9,\n            'f': \"1.9\",\n        },\n{\n            'v': 134,\n            'f': \"134\",\n        },\n\"WF\",\n{\n            'v': 75.0,\n            'f': \"75.0\",\n        }],\n [{\n            'v': 124,\n            'f': \"124\",\n        },\n{\n            'v': 2154,\n            'f': \"2154\",\n        },\n{\n            'v': 207,\n            'f': \"207\",\n        },\n{\n            'v': 168,\n            'f': \"168\",\n        },\n\"Dolo\",\n{\n            'v': 11.0,\n            'f': \"11.0\",\n        },\n{\n            'v': 8.0,\n            'f': \"8.0\",\n        },\n{\n            'v': 5250,\n            'f': \"5250\",\n        },\n{\n            'v': 34.0,\n            'f': \"34.0\",\n        },\n{\n            'v': 1.2,\n            'f': \"1.2\",\n        },\n{\n            'v': 105,\n            'f': \"105\",\n        },\n\"WF\",\n{\n            'v': 55.0,\n            'f': \"55.0\",\n        }],\n [{\n            'v': 125,\n            'f': \"125\",\n        },\n{\n            'v': 27848,\n            'f': \"27848\",\n        },\n{\n            'v': 1026,\n            'f': \"1026\",\n        },\n{\n            'v': 590,\n            'f': \"590\",\n        },\n\"Dolo\",\n{\n            'v': 12.0,\n            'f': \"12.0\",\n        },\n{\n            'v': 8.0,\n            'f': \"8.0\",\n        },\n{\n            'v': 5200,\n            'f': \"5200\",\n        },\n{\n            'v': 33.0,\n            'f': \"33.0\",\n        },\n{\n            'v': 1.2,\n            'f': \"1.2\",\n        },\n{\n            'v': 105,\n            'f': \"105\",\n        },\n\"WF\",\n{\n            'v': 51.0,\n            'f': \"51.0\",\n        }],\n [{\n            'v': 126,\n            'f': \"126\",\n        },\n{\n            'v': 7800,\n            'f': \"7800\",\n        },\n{\n            'v': 323,\n            'f': \"323\",\n        },\n{\n            'v': 294,\n            'f': \"294\",\n        },\n\"Dolo\",\n{\n            'v': 10.0,\n            'f': \"10.0\",\n        },\n{\n            'v': 5.0,\n            'f': \"5.0\",\n        },\n{\n            'v': 5100,\n            'f': \"5100\",\n        },\n{\n            'v': 34.0,\n            'f': \"34.0\",\n        },\n{\n            'v': 1.3,\n            'f': \"1.3\",\n        },\n{\n            'v': 110,\n            'f': \"110\",\n        },\n\"WF\",\n{\n            'v': 49.0,\n            'f': \"49.0\",\n        }],\n [{\n            'v': 127,\n            'f': \"127\",\n        },\n{\n            'v': 8020,\n            'f': \"8020\",\n        },\n{\n            'v': 327,\n            'f': \"327\",\n        },\n{\n            'v': 237,\n            'f': \"237\",\n        },\n\"Dolo\",\n{\n            'v': 9.0,\n            'f': \"9.0\",\n        },\n{\n            'v': 1.5,\n            'f': \"1.5\",\n        },\n{\n            'v': 5100,\n            'f': \"5100\",\n        },\n{\n            'v': 32.0,\n            'f': \"32.0\",\n        },\n{\n            'v': 2.0,\n            'f': \"2.0\",\n        },\n{\n            'v': 105,\n            'f': \"105\",\n        },\n\"WF\",\n{\n            'v': 56.0,\n            'f': \"56.0\",\n        }],\n [{\n            'v': 128,\n            'f': \"128\",\n        },\n{\n            'v': 360,\n            'f': \"360\",\n        },\n{\n            'v': 16,\n            'f': \"16\",\n        },\n{\n            'v': 9,\n            'f': \"9\",\n        },\n\"Dolo\",\n{\n            'v': 12.0,\n            'f': \"12.0\",\n        },\n{\n            'v': 10.0,\n            'f': \"10.0\",\n        },\n{\n            'v': 5000,\n            'f': \"5000\",\n        },\n{\n            'v': 34.0,\n            'f': \"34.0\",\n        },\n{\n            'v': 0.9,\n            'f': \"0.9\",\n        },\n{\n            'v': 102,\n            'f': \"102\",\n        },\n\"WF\",\n{\n            'v': 65.0,\n            'f': \"65.0\",\n        }],\n [{\n            'v': 129,\n            'f': \"129\",\n        },\n{\n            'v': 240,\n            'f': \"240\",\n        },\n{\n            'v': 1,\n            'f': \"1\",\n        },\n{\n            'v': 1,\n            'f': \"1\",\n        },\n\"Dolo\",\n{\n            'v': 10.0,\n            'f': \"10.0\",\n        },\n{\n            'v': 3.0,\n            'f': \"3.0\",\n        },\n{\n            'v': 4900,\n            'f': \"4900\",\n        },\n{\n            'v': 34.0,\n            'f': \"34.0\",\n        },\n{\n            'v': 2.3,\n            'f': \"2.3\",\n        },\n{\n            'v': 98,\n            'f': \"98\",\n        },\n\"WF\",\n{\n            'v': 50.0,\n            'f': \"50.0\",\n        }],\n [{\n            'v': 130,\n            'f': \"130\",\n        },\n{\n            'v': 20,\n            'f': \"20\",\n        },\n{\n            'v': 4,\n            'f': \"4\",\n        },\n{\n            'v': 4,\n            'f': \"4\",\n        },\n\"S\",\n{\n            'v': 10.0,\n            'f': \"10.0\",\n        },\n{\n            'v': 67.0,\n            'f': \"67.0\",\n        },\n{\n            'v': 7060,\n            'f': \"7060\",\n        },\n{\n            'v': 38.0,\n            'f': \"38.0\",\n        },\n{\n            'v': 0.7,\n            'f': \"0.7\",\n        },\n{\n            'v': 140,\n            'f': \"140\",\n        },\n\"WF\",\n{\n            'v': 48.03,\n            'f': \"48.03\",\n        }],\n [{\n            'v': 131,\n            'f': \"131\",\n        },\n{\n            'v': 41,\n            'f': \"41\",\n        },\n{\n            'v': 9,\n            'f': \"9\",\n        },\n{\n            'v': 4,\n            'f': \"4\",\n        },\n\"S\",\n{\n            'v': 12.0,\n            'f': \"12.0\",\n        },\n{\n            'v': 4.0,\n            'f': \"4.0\",\n        },\n{\n            'v': 2500,\n            'f': \"2500\",\n        },\n{\n            'v': 48.0,\n            'f': \"48.0\",\n        },\n{\n            'v': 2.5,\n            'f': \"2.5\",\n        },\n{\n            'v': 80,\n            'f': \"80\",\n        },\n\"WF\",\n{\n            'v': 70.0,\n            'f': \"70.0\",\n        }],\n [{\n            'v': 132,\n            'f': \"132\",\n        },\n{\n            'v': 11000,\n            'f': \"11000\",\n        },\n{\n            'v': 126,\n            'f': \"126\",\n        },\n{\n            'v': 118,\n            'f': \"118\",\n        },\n\"LS\",\n{\n            'v': 12.0,\n            'f': \"12.0\",\n        },\n{\n            'v': 5.0,\n            'f': \"5.0\",\n        },\n{\n            'v': 5700,\n            'f': \"5700\",\n        },\n{\n            'v': 42.0,\n            'f': \"42.0\",\n        },\n{\n            'v': 0.6,\n            'f': \"0.6\",\n        },\n{\n            'v': 129,\n            'f': \"129\",\n        },\n\"WF\",\n{\n            'v': 80.0,\n            'f': \"80.0\",\n        }],\n [{\n            'v': 133,\n            'f': \"133\",\n        },\n{\n            'v': 13000,\n            'f': \"13000\",\n        },\n{\n            'v': 138,\n            'f': \"138\",\n        },\n{\n            'v': 107,\n            'f': \"107\",\n        },\n\"LS\",\n{\n            'v': 14.0,\n            'f': \"14.0\",\n        },\n{\n            'v': 5.0,\n            'f': \"5.0\",\n        },\n{\n            'v': 5600,\n            'f': \"5600\",\n        },\n{\n            'v': 41.0,\n            'f': \"41.0\",\n        },\n{\n            'v': 0.6,\n            'f': \"0.6\",\n        },\n{\n            'v': 125,\n            'f': \"125\",\n        },\n\"WF\",\n{\n            'v': 80.0,\n            'f': \"80.0\",\n        }],\n [{\n            'v': 134,\n            'f': \"134\",\n        },\n{\n            'v': 1280,\n            'f': \"1280\",\n        },\n{\n            'v': 8,\n            'f': \"8\",\n        },\n{\n            'v': 4,\n            'f': \"4\",\n        },\n\"S\",\n{\n            'v': 26.0,\n            'f': \"26.0\",\n        },\n{\n            'v': 50.0,\n            'f': \"50.0\",\n        },\n{\n            'v': 10500,\n            'f': \"10500\",\n        },\n{\n            'v': 39.0,\n            'f': \"39.0\",\n        },\n{\n            'v': 0.34,\n            'f': \"0.34\",\n        },\n{\n            'v': 250,\n            'f': \"250\",\n        },\n\"WF\",\n{\n            'v': 17.0,\n            'f': \"17.0\",\n        }],\n [{\n            'v': 135,\n            'f': \"135\",\n        },\n{\n            'v': 700,\n            'f': \"700\",\n        },\n{\n            'v': 38,\n            'f': \"38\",\n        },\n{\n            'v': 15,\n            'f': \"15\",\n        },\n\"Dolo\",\n{\n            'v': 16.9,\n            'f': \"16.9\",\n        },\n{\n            'v': 5.6,\n            'f': \"5.6\",\n        },\n{\n            'v': 3100,\n            'f': \"3100\",\n        },\n{\n            'v': 37.0,\n            'f': \"37.0\",\n        },\n{\n            'v': 2.1,\n            'f': \"2.1\",\n        },\n{\n            'v': 100,\n            'f': \"100\",\n        },\n\"WF\",\n{\n            'v': 45.0,\n            'f': \"45.0\",\n        }],\n [{\n            'v': 136,\n            'f': \"136\",\n        },\n{\n            'v': 560,\n            'f': \"560\",\n        },\n{\n            'v': 31,\n            'f': \"31\",\n        },\n{\n            'v': 8,\n            'f': \"8\",\n        },\n\"Dolo\",\n{\n            'v': 15.1,\n            'f': \"15.1\",\n        },\n{\n            'v': 6.1,\n            'f': \"6.1\",\n        },\n{\n            'v': 3400,\n            'f': \"3400\",\n        },\n{\n            'v': 37.0,\n            'f': \"37.0\",\n        },\n{\n            'v': 2.6,\n            'f': \"2.6\",\n        },\n{\n            'v': 105,\n            'f': \"105\",\n        },\n\"WF\",\n{\n            'v': 45.0,\n            'f': \"45.0\",\n        }],\n [{\n            'v': 137,\n            'f': \"137\",\n        },\n{\n            'v': 1431,\n            'f': \"1431\",\n        },\n{\n            'v': 9,\n            'f': \"9\",\n        },\n{\n            'v': 5,\n            'f': \"5\",\n        },\n\"LS\",\n{\n            'v': 11.5,\n            'f': \"11.5\",\n        },\n{\n            'v': 140.0,\n            'f': \"140.0\",\n        },\n{\n            'v': 6400,\n            'f': \"6400\",\n        },\n{\n            'v': 44.0,\n            'f': \"44.0\",\n        },\n{\n            'v': 1.61,\n            'f': \"1.61\",\n        },\n{\n            'v': 131,\n            'f': \"131\",\n        },\n\"WF\",\n{\n            'v': 57.0,\n            'f': \"57.0\",\n        }],\n [{\n            'v': 138,\n            'f': \"138\",\n        },\n{\n            'v': 2010,\n            'f': \"2010\",\n        },\n{\n            'v': 5,\n            'f': \"5\",\n        },\n{\n            'v': 6,\n            'f': \"6\",\n        },\n\"S\",\n{\n            'v': 18.1,\n            'f': \"18.1\",\n        },\n{\n            'v': 48.0,\n            'f': \"48.0\",\n        },\n{\n            'v': 6500,\n            'f': \"6500\",\n        },\n{\n            'v': 44.0,\n            'f': \"44.0\",\n        },\n{\n            'v': 2.0,\n            'f': \"2.0\",\n        },\n{\n            'v': 142,\n            'f': \"142\",\n        },\n\"Prim\",\n{\n            'v': 43.0,\n            'f': \"43.0\",\n        }],\n [{\n            'v': 139,\n            'f': \"139\",\n        },\n{\n            'v': 160,\n            'f': \"160\",\n        },\n{\n            'v': 12,\n            'f': \"12\",\n        },\n{\n            'v': 4,\n            'f': \"4\",\n        },\n\"Dolo\",\n{\n            'v': 10.0,\n            'f': \"10.0\",\n        },\n{\n            'v': 6.0,\n            'f': \"6.0\",\n        },\n{\n            'v': 5400,\n            'f': \"5400\",\n        },\n{\n            'v': 33.0,\n            'f': \"33.0\",\n        },\n{\n            'v': 2.0,\n            'f': \"2.0\",\n        },\n{\n            'v': 108,\n            'f': \"108\",\n        },\n\"WF\",\n{\n            'v': 80.0,\n            'f': \"80.0\",\n        }],\n [{\n            'v': 140,\n            'f': \"140\",\n        },\n{\n            'v': 347,\n            'f': \"347\",\n        },\n{\n            'v': 20,\n            'f': \"20\",\n        },\n{\n            'v': 1,\n            'f': \"1\",\n        },\n\"S\",\n{\n            'v': 26.0,\n            'f': \"26.0\",\n        },\n{\n            'v': 770.0,\n            'f': \"770.0\",\n        },\n{\n            'v': 10400,\n            'f': \"10400\",\n        },\n{\n            'v': 37.0,\n            'f': \"37.0\",\n        },\n{\n            'v': 0.5,\n            'f': \"0.5\",\n        },\n{\n            'v': 205,\n            'f': \"205\",\n        },\n\"Prim\",\n{\n            'v': 62.0,\n            'f': \"62.0\",\n        }],\n [{\n            'v': 141,\n            'f': \"141\",\n        },\n{\n            'v': 44,\n            'f': \"44\",\n        },\n{\n            'v': 1,\n            'f': \"1\",\n        },\n{\n            'v': 1,\n            'f': \"1\",\n        },\n\"S\",\n{\n            'v': 24.0,\n            'f': \"24.0\",\n        },\n{\n            'v': 252.0,\n            'f': \"252.0\",\n        },\n{\n            'v': 9800,\n            'f': \"9800\",\n        },\n{\n            'v': 38.0,\n            'f': \"38.0\",\n        },\n{\n            'v': 0.35,\n            'f': \"0.35\",\n        },\n{\n            'v': 192,\n            'f': \"192\",\n        },\n\"Prim\",\n{\n            'v': 45.0,\n            'f': \"45.0\",\n        }],\n [{\n            'v': 142,\n            'f': \"142\",\n        },\n{\n            'v': 298,\n            'f': \"298\",\n        },\n{\n            'v': 4,\n            'f': \"4\",\n        },\n{\n            'v': 2,\n            'f': \"2\",\n        },\n\"S\",\n{\n            'v': 24.0,\n            'f': \"24.0\",\n        },\n{\n            'v': 245.0,\n            'f': \"245.0\",\n        },\n{\n            'v': 9950,\n            'f': \"9950\",\n        },\n{\n            'v': 38.0,\n            'f': \"38.0\",\n        },\n{\n            'v': 0.35,\n            'f': \"0.35\",\n        },\n{\n            'v': 190,\n            'f': \"190\",\n        },\n\"Prim\",\n{\n            'v': 44.0,\n            'f': \"44.0\",\n        }],\n [{\n            'v': 143,\n            'f': \"143\",\n        },\n{\n            'v': 102,\n            'f': \"102\",\n        },\n{\n            'v': 1,\n            'f': \"1\",\n        },\n{\n            'v': 1,\n            'f': \"1\",\n        },\n\"S\",\n{\n            'v': 26.0,\n            'f': \"26.0\",\n        },\n{\n            'v': 162.0,\n            'f': \"162.0\",\n        },\n{\n            'v': 11400,\n            'f': \"11400\",\n        },\n{\n            'v': 38.5,\n            'f': \"38.5\",\n        },\n{\n            'v': 0.3,\n            'f': \"0.3\",\n        },\n{\n            'v': 192,\n            'f': \"192\",\n        },\n\"Prim\",\n{\n            'v': 45.0,\n            'f': \"45.0\",\n        }],\n [{\n            'v': 144,\n            'f': \"144\",\n        },\n{\n            'v': 91,\n            'f': \"91\",\n        },\n{\n            'v': 1,\n            'f': \"1\",\n        },\n{\n            'v': 1,\n            'f': \"1\",\n        },\n\"S\",\n{\n            'v': 29.0,\n            'f': \"29.0\",\n        },\n{\n            'v': 500.0,\n            'f': \"500.0\",\n        },\n{\n            'v': 8000,\n            'f': \"8000\",\n        },\n{\n            'v': 36.0,\n            'f': \"36.0\",\n        },\n{\n            'v': 0.5,\n            'f': \"0.5\",\n        },\n{\n            'v': 190,\n            'f': \"190\",\n        },\n\"Prim\",\n{\n            'v': 48.0,\n            'f': \"48.0\",\n        }],\n [{\n            'v': 145,\n            'f': \"145\",\n        },\n{\n            'v': 235,\n            'f': \"235\",\n        },\n{\n            'v': 5,\n            'f': \"5\",\n        },\n{\n            'v': 4,\n            'f': \"4\",\n        },\n\"S\",\n{\n            'v': 30.0,\n            'f': \"30.0\",\n        },\n{\n            'v': 750.0,\n            'f': \"750.0\",\n        },\n{\n            'v': 5800,\n            'f': \"5800\",\n        },\n{\n            'v': 38.0,\n            'f': \"38.0\",\n        },\n{\n            'v': 2.4,\n            'f': \"2.4\",\n        },\n{\n            'v': 165,\n            'f': \"165\",\n        },\n\"WF\",\n{\n            'v': 30.0,\n            'f': \"30.0\",\n        }],\n [{\n            'v': 146,\n            'f': \"146\",\n        },\n{\n            'v': 1400,\n            'f': \"1400\",\n        },\n{\n            'v': 14,\n            'f': \"14\",\n        },\n{\n            'v': 9,\n            'f': \"9\",\n        },\n\"LS\",\n{\n            'v': 9.2,\n            'f': \"9.2\",\n        },\n{\n            'v': 100.0,\n            'f': \"100.0\",\n        },\n{\n            'v': 9800,\n            'f': \"9800\",\n        },\n{\n            'v': 43.5,\n            'f': \"43.5\",\n        },\n{\n            'v': 1.0,\n            'f': \"1.0\",\n        },\n{\n            'v': 151,\n            'f': \"151\",\n        },\n\"WF\",\n{\n            'v': 35.0,\n            'f': \"35.0\",\n        }],\n [{\n            'v': 147,\n            'f': \"147\",\n        },\n{\n            'v': 825,\n            'f': \"825\",\n        },\n{\n            'v': 33,\n            'f': \"33\",\n        },\n{\n            'v': 32,\n            'f': \"32\",\n        },\n\"Dolo\",\n{\n            'v': 8.4,\n            'f': \"8.4\",\n        },\n{\n            'v': 1.5,\n            'f': \"1.5\",\n        },\n{\n            'v': 5200,\n            'f': \"5200\",\n        },\n{\n            'v': 32.0,\n            'f': \"32.0\",\n        },\n{\n            'v': 1.46,\n            'f': \"1.46\",\n        },\n{\n            'v': 107,\n            'f': \"107\",\n        },\n\"WF\",\n{\n            'v': 48.03,\n            'f': \"48.03\",\n        }],\n [{\n            'v': 148,\n            'f': \"148\",\n        },\n{\n            'v': 16300,\n            'f': \"16300\",\n        },\n{\n            'v': 816,\n            'f': \"816\",\n        },\n{\n            'v': 816,\n            'f': \"816\",\n        },\n\"S\",\n{\n            'v': 16.0,\n            'f': \"16.0\",\n        },\n{\n            'v': 37.0,\n            'f': \"37.0\",\n        },\n{\n            'v': 2600,\n            'f': \"2600\",\n        },\n{\n            'v': 36.0,\n            'f': \"36.0\",\n        },\n{\n            'v': 1.6,\n            'f': \"1.6\",\n        },\n{\n            'v': 83,\n            'f': \"83\",\n        },\n\"WF\",\n{\n            'v': 26.5,\n            'f': \"26.5\",\n        }],\n [{\n            'v': 149,\n            'f': \"149\",\n        },\n{\n            'v': 11000,\n            'f': \"11000\",\n        },\n{\n            'v': 92,\n            'f': \"92\",\n        },\n{\n            'v': 82,\n            'f': \"82\",\n        },\n\"S\",\n{\n            'v': 16.0,\n            'f': \"16.0\",\n        },\n{\n            'v': 50.0,\n            'f': \"50.0\",\n        },\n{\n            'v': 6200,\n            'f': \"6200\",\n        },\n{\n            'v': 40.0,\n            'f': \"40.0\",\n        },\n{\n            'v': 1.0,\n            'f': \"1.0\",\n        },\n{\n            'v': 145,\n            'f': \"145\",\n        },\n\"WF\",\n{\n            'v': 37.0,\n            'f': \"37.0\",\n        }],\n [{\n            'v': 150,\n            'f': \"150\",\n        },\n{\n            'v': 21000,\n            'f': \"21000\",\n        },\n{\n            'v': 230,\n            'f': \"230\",\n        },\n{\n            'v': 163,\n            'f': \"163\",\n        },\n\"S\",\n{\n            'v': 16.0,\n            'f': \"16.0\",\n        },\n{\n            'v': 50.0,\n            'f': \"50.0\",\n        },\n{\n            'v': 6200,\n            'f': \"6200\",\n        },\n{\n            'v': 40.0,\n            'f': \"40.0\",\n        },\n{\n            'v': 1.0,\n            'f': \"1.0\",\n        },\n{\n            'v': 145,\n            'f': \"145\",\n        },\n\"WF\",\n{\n            'v': 37.0,\n            'f': \"37.0\",\n        }],\n [{\n            'v': 151,\n            'f': \"151\",\n        },\n{\n            'v': 7000,\n            'f': \"7000\",\n        },\n{\n            'v': 72,\n            'f': \"72\",\n        },\n{\n            'v': 62,\n            'f': \"62\",\n        },\n\"S\",\n{\n            'v': 16.0,\n            'f': \"16.0\",\n        },\n{\n            'v': 35.0,\n            'f': \"35.0\",\n        },\n{\n            'v': 6200,\n            'f': \"6200\",\n        },\n{\n            'v': 40.0,\n            'f': \"40.0\",\n        },\n{\n            'v': 1.0,\n            'f': \"1.0\",\n        },\n{\n            'v': 145,\n            'f': \"145\",\n        },\n\"WF\",\n{\n            'v': 37.0,\n            'f': \"37.0\",\n        }],\n [{\n            'v': 152,\n            'f': \"152\",\n        },\n{\n            'v': 330,\n            'f': \"330\",\n        },\n{\n            'v': 16,\n            'f': \"16\",\n        },\n{\n            'v': 9,\n            'f': \"9\",\n        },\n\"Dolo\",\n{\n            'v': 11.6,\n            'f': \"11.6\",\n        },\n{\n            'v': 32.0,\n            'f': \"32.0\",\n        },\n{\n            'v': 4200,\n            'f': \"4200\",\n        },\n{\n            'v': 35.0,\n            'f': \"35.0\",\n        },\n{\n            'v': 4.313711378,\n            'f': \"4.313711378\",\n        },\n{\n            'v': 105,\n            'f': \"105\",\n        },\n\"WF\",\n{\n            'v': 48.03,\n            'f': \"48.03\",\n        }],\n [{\n            'v': 153,\n            'f': \"153\",\n        },\n{\n            'v': 2084,\n            'f': \"2084\",\n        },\n{\n            'v': 44,\n            'f': \"44\",\n        },\n{\n            'v': 23,\n            'f': \"23\",\n        },\n\"Tripol\",\n{\n            'v': 22.0,\n            'f': \"22.0\",\n        },\n{\n            'v': 4.0,\n            'f': \"4.0\",\n        },\n{\n            'v': 5500,\n            'f': \"5500\",\n        },\n{\n            'v': 40.0,\n            'f': \"40.0\",\n        },\n{\n            'v': 4.313711378,\n            'f': \"4.313711378\",\n        },\n{\n            'v': 101,\n            'f': \"101\",\n        },\n\"WF\",\n{\n            'v': 48.03,\n            'f': \"48.03\",\n        }],\n [{\n            'v': 154,\n            'f': \"154\",\n        },\n{\n            'v': 1923,\n            'f': \"1923\",\n        },\n{\n            'v': 96,\n            'f': \"96\",\n        },\n{\n            'v': 64,\n            'f': \"64\",\n        },\n\"Dolo\",\n{\n            'v': 8.6,\n            'f': \"8.6\",\n        },\n{\n            'v': 2.0,\n            'f': \"2.0\",\n        },\n{\n            'v': 4500,\n            'f': \"4500\",\n        },\n{\n            'v': 33.0,\n            'f': \"33.0\",\n        },\n{\n            'v': 1.0,\n            'f': \"1.0\",\n        },\n{\n            'v': 106,\n            'f': \"106\",\n        },\n\"WF\",\n{\n            'v': 48.03,\n            'f': \"48.03\",\n        }],\n [{\n            'v': 155,\n            'f': \"155\",\n        },\n{\n            'v': 640,\n            'f': \"640\",\n        },\n{\n            'v': 49,\n            'f': \"49\",\n        },\n{\n            'v': 27,\n            'f': \"27\",\n        },\n\"Dolo\",\n{\n            'v': 13.0,\n            'f': \"13.0\",\n        },\n{\n            'v': 6.0,\n            'f': \"6.0\",\n        },\n{\n            'v': 5100,\n            'f': \"5100\",\n        },\n{\n            'v': 33.0,\n            'f': \"33.0\",\n        },\n{\n            'v': 1.0,\n            'f': \"1.0\",\n        },\n{\n            'v': 110,\n            'f': \"110\",\n        },\n\"WF\",\n{\n            'v': 54.4,\n            'f': \"54.4\",\n        }],\n [{\n            'v': 156,\n            'f': \"156\",\n        },\n{\n            'v': 30483,\n            'f': \"30483\",\n        },\n{\n            'v': 43,\n            'f': \"43\",\n        },\n{\n            'v': 5,\n            'f': \"5\",\n        },\n\"Dolo\",\n{\n            'v': 16.3,\n            'f': \"16.3\",\n        },\n{\n            'v': 7.5,\n            'f': \"7.5\",\n        },\n{\n            'v': 4600,\n            'f': \"4600\",\n        },\n{\n            'v': 30.0,\n            'f': \"30.0\",\n        },\n{\n            'v': 3.0,\n            'f': \"3.0\",\n        },\n{\n            'v': 149,\n            'f': \"149\",\n        },\n\"WF\",\n{\n            'v': 45.0,\n            'f': \"45.0\",\n        }],\n [{\n            'v': 157,\n            'f': \"157\",\n        },\n{\n            'v': 300,\n            'f': \"300\",\n        },\n{\n            'v': 5,\n            'f': \"5\",\n        },\n{\n            'v': 1,\n            'f': \"1\",\n        },\n\"LS\",\n{\n            'v': 8.5,\n            'f': \"8.5\",\n        },\n{\n            'v': 54.0,\n            'f': \"54.0\",\n        },\n{\n            'v': 8300,\n            'f': \"8300\",\n        },\n{\n            'v': 41.0,\n            'f': \"41.0\",\n        },\n{\n            'v': 0.4,\n            'f': \"0.4\",\n        },\n{\n            'v': 225,\n            'f': \"225\",\n        },\n\"WF\",\n{\n            'v': 30.0,\n            'f': \"30.0\",\n        }],\n [{\n            'v': 158,\n            'f': \"158\",\n        },\n{\n            'v': 17280,\n            'f': \"17280\",\n        },\n{\n            'v': 320,\n            'f': \"320\",\n        },\n{\n            'v': 170,\n            'f': \"170\",\n        },\n\"LS\",\n{\n            'v': 15.0,\n            'f': \"15.0\",\n        },\n{\n            'v': 10.0,\n            'f': \"10.0\",\n        },\n{\n            'v': 4655,\n            'f': \"4655\",\n        },\n{\n            'v': 28.0,\n            'f': \"28.0\",\n        },\n{\n            'v': 3.0,\n            'f': \"3.0\",\n        },\n{\n            'v': 140,\n            'f': \"140\",\n        },\n\"WF\",\n{\n            'v': 45.0,\n            'f': \"45.0\",\n        }],\n [{\n            'v': 159,\n            'f': \"159\",\n        },\n{\n            'v': 80,\n            'f': \"80\",\n        },\n{\n            'v': 4,\n            'f': \"4\",\n        },\n{\n            'v': 1,\n            'f': \"1\",\n        },\n\"LS\",\n{\n            'v': 12.0,\n            'f': \"12.0\",\n        },\n{\n            'v': 50.0,\n            'f': \"50.0\",\n        },\n{\n            'v': 8200,\n            'f': \"8200\",\n        },\n{\n            'v': 41.5,\n            'f': \"41.5\",\n        },\n{\n            'v': 0.65,\n            'f': \"0.65\",\n        },\n{\n            'v': 206,\n            'f': \"206\",\n        },\n\"HC\",\n{\n            'v': 48.03,\n            'f': \"48.03\",\n        }],\n [{\n            'v': 160,\n            'f': \"160\",\n        },\n{\n            'v': 6625,\n            'f': \"6625\",\n        },\n{\n            'v': 33,\n            'f': \"33\",\n        },\n{\n            'v': 15,\n            'f': \"15\",\n        },\n\"S\",\n{\n            'v': 13.0,\n            'f': \"13.0\",\n        },\n{\n            'v': 500.0,\n            'f': \"500.0\",\n        },\n{\n            'v': 4900,\n            'f': \"4900\",\n        },\n{\n            'v': 42.0,\n            'f': \"42.0\",\n        },\n{\n            'v': 1.14,\n            'f': \"1.14\",\n        },\n{\n            'v': 133,\n            'f': \"133\",\n        },\n\"WF\",\n{\n            'v': 38.0,\n            'f': \"38.0\",\n        }],\n [{\n            'v': 161,\n            'f': \"161\",\n        },\n{\n            'v': 80,\n            'f': \"80\",\n        },\n{\n            'v': 6,\n            'f': \"6\",\n        },\n{\n            'v': 2,\n            'f': \"2\",\n        },\n\"S\",\n{\n            'v': 16.0,\n            'f': \"16.0\",\n        },\n{\n            'v': 20.0,\n            'f': \"20.0\",\n        },\n{\n            'v': 5300,\n            'f': \"5300\",\n        },\n{\n            'v': 41.0,\n            'f': \"41.0\",\n        },\n{\n            'v': 1.0,\n            'f': \"1.0\",\n        },\n{\n            'v': 128,\n            'f': \"128\",\n        },\n\"WF\",\n{\n            'v': 48.03,\n            'f': \"48.03\",\n        }],\n [{\n            'v': 162,\n            'f': \"162\",\n        },\n{\n            'v': 1600,\n            'f': \"1600\",\n        },\n{\n            'v': 20,\n            'f': \"20\",\n        },\n{\n            'v': 8,\n            'f': \"8\",\n        },\n\"Dolo\",\n{\n            'v': 14.0,\n            'f': \"14.0\",\n        },\n{\n            'v': 155.0,\n            'f': \"155.0\",\n        },\n{\n            'v': 8500,\n            'f': \"8500\",\n        },\n{\n            'v': 39.0,\n            'f': \"39.0\",\n        },\n{\n            'v': 0.3,\n            'f': \"0.3\",\n        },\n{\n            'v': 198,\n            'f': \"198\",\n        },\n\"WF\",\n{\n            'v': 40.0,\n            'f': \"40.0\",\n        }],\n [{\n            'v': 163,\n            'f': \"163\",\n        },\n{\n            'v': 320,\n            'f': \"320\",\n        },\n{\n            'v': 2,\n            'f': \"2\",\n        },\n{\n            'v': 2,\n            'f': \"2\",\n        },\n\"S\",\n{\n            'v': 13.0,\n            'f': \"13.0\",\n        },\n{\n            'v': 500.0,\n            'f': \"500.0\",\n        },\n{\n            'v': 4000,\n            'f': \"4000\",\n        },\n{\n            'v': 42.0,\n            'f': \"42.0\",\n        },\n{\n            'v': 1.14,\n            'f': \"1.14\",\n        },\n{\n            'v': 133,\n            'f': \"133\",\n        },\n\"WF\",\n{\n            'v': 40.0,\n            'f': \"40.0\",\n        }],\n [{\n            'v': 164,\n            'f': \"164\",\n        },\n{\n            'v': 480,\n            'f': \"480\",\n        },\n{\n            'v': 6,\n            'f': \"6\",\n        },\n{\n            'v': 2,\n            'f': \"2\",\n        },\n\"S\",\n{\n            'v': 13.0,\n            'f': \"13.0\",\n        },\n{\n            'v': 500.0,\n            'f': \"500.0\",\n        },\n{\n            'v': 5140,\n            'f': \"5140\",\n        },\n{\n            'v': 42.0,\n            'f': \"42.0\",\n        },\n{\n            'v': 1.14,\n            'f': \"1.14\",\n        },\n{\n            'v': 133,\n            'f': \"133\",\n        },\n\"WF\",\n{\n            'v': 38.0,\n            'f': \"38.0\",\n        }],\n [{\n            'v': 165,\n            'f': \"165\",\n        },\n{\n            'v': 480,\n            'f': \"480\",\n        },\n{\n            'v': 4,\n            'f': \"4\",\n        },\n{\n            'v': 1,\n            'f': \"1\",\n        },\n\"S\",\n{\n            'v': 13.0,\n            'f': \"13.0\",\n        },\n{\n            'v': 500.0,\n            'f': \"500.0\",\n        },\n{\n            'v': 5075,\n            'f': \"5075\",\n        },\n{\n            'v': 42.0,\n            'f': \"42.0\",\n        },\n{\n            'v': 1.14,\n            'f': \"1.14\",\n        },\n{\n            'v': 133,\n            'f': \"133\",\n        },\n\"WF\",\n{\n            'v': 36.0,\n            'f': \"36.0\",\n        }],\n [{\n            'v': 166,\n            'f': \"166\",\n        },\n{\n            'v': 1280,\n            'f': \"1280\",\n        },\n{\n            'v': 5,\n            'f': \"5\",\n        },\n{\n            'v': 2,\n            'f': \"2\",\n        },\n\"S\",\n{\n            'v': 13.0,\n            'f': \"13.0\",\n        },\n{\n            'v': 500.0,\n            'f': \"500.0\",\n        },\n{\n            'v': 5000,\n            'f': \"5000\",\n        },\n{\n            'v': 42.0,\n            'f': \"42.0\",\n        },\n{\n            'v': 1.14,\n            'f': \"1.14\",\n        },\n{\n            'v': 133,\n            'f': \"133\",\n        },\n\"WF\",\n{\n            'v': 38.0,\n            'f': \"38.0\",\n        }],\n [{\n            'v': 167,\n            'f': \"167\",\n        },\n{\n            'v': 2890,\n            'f': \"2890\",\n        },\n{\n            'v': 104,\n            'f': \"104\",\n        },\n{\n            'v': 10,\n            'f': \"10\",\n        },\n\"LS\",\n{\n            'v': 1.06,\n            'f': \"1.06\",\n        },\n{\n            'v': 1000.0,\n            'f': \"1000.0\",\n        },\n{\n            'v': 6700,\n            'f': \"6700\",\n        },\n{\n            'v': 18.0,\n            'f': \"18.0\",\n        },\n{\n            'v': 22.0,\n            'f': \"22.0\",\n        },\n{\n            'v': 237,\n            'f': \"237\",\n        },\n\"Prim\",\n{\n            'v': 48.03,\n            'f': \"48.03\",\n        }],\n [{\n            'v': 168,\n            'f': \"168\",\n        },\n{\n            'v': 200,\n            'f': \"200\",\n        },\n{\n            'v': 5,\n            'f': \"5\",\n        },\n{\n            'v': 1,\n            'f': \"1\",\n        },\n\"Dolo\",\n{\n            'v': 2.5,\n            'f': \"2.5\",\n        },\n{\n            'v': 1000.0,\n            'f': \"1000.0\",\n        },\n{\n            'v': 7400,\n            'f': \"7400\",\n        },\n{\n            'v': 16.0,\n            'f': \"16.0\",\n        },\n{\n            'v': 92.0,\n            'f': \"92.0\",\n        },\n{\n            'v': 248,\n            'f': \"248\",\n        },\n\"Prim\",\n{\n            'v': 48.03,\n            'f': \"48.03\",\n        }],\n [{\n            'v': 169,\n            'f': \"169\",\n        },\n{\n            'v': 1013,\n            'f': \"1013\",\n        },\n{\n            'v': 77,\n            'f': \"77\",\n        },\n{\n            'v': 60,\n            'f': \"60\",\n        },\n\"S\",\n{\n            'v': 22.0,\n            'f': \"22.0\",\n        },\n{\n            'v': 110.0,\n            'f': \"110.0\",\n        },\n{\n            'v': 3000,\n            'f': \"3000\",\n        },\n{\n            'v': 42.0,\n            'f': \"42.0\",\n        },\n{\n            'v': 1.0,\n            'f': \"1.0\",\n        },\n{\n            'v': 147,\n            'f': \"147\",\n        },\n\"Prim\",\n{\n            'v': 48.03,\n            'f': \"48.03\",\n        }]],\n        columns: [[\"number\", \"index\"], [\"number\", \"Area\"], [\"number\", \"Prod_well\"], [\"number\", \"Inj_well\"], [\"string\", \"Form\"], [\"number\", \"Por\"], [\"number\", \"Perm\"], [\"number\", \"Depth\"], [\"number\", \"API\"], [\"number\", \"Visc\"], [\"number\", \"Temp\"], [\"string\", \"Prev_prod\"], [\"number\", \"Sat_start\"]],\n        columnOptions: [{\"width\": \"1px\", \"className\": \"index_column\"}],\n        rowsPerPage: 25,\n        helpUrl: \"https://colab.research.google.com/notebooks/data_table.ipynb\",\n        suppressOutputScrolling: true,\n        minimumWidth: undefined,\n      });\n    ",
            "text/plain": [
              "<google.colab.data_table.DataTable object>"
            ],
            "text/html": [
              "<div>\n",
              "<style scoped>\n",
              "    .dataframe tbody tr th:only-of-type {\n",
              "        vertical-align: middle;\n",
              "    }\n",
              "\n",
              "    .dataframe tbody tr th {\n",
              "        vertical-align: top;\n",
              "    }\n",
              "\n",
              "    .dataframe thead th {\n",
              "        text-align: right;\n",
              "    }\n",
              "</style>\n",
              "<table border=\"1\" class=\"dataframe\">\n",
              "  <thead>\n",
              "    <tr style=\"text-align: right;\">\n",
              "      <th></th>\n",
              "      <th>Area</th>\n",
              "      <th>Prod_well</th>\n",
              "      <th>Inj_well</th>\n",
              "      <th>Form</th>\n",
              "      <th>Por</th>\n",
              "      <th>Perm</th>\n",
              "      <th>Depth</th>\n",
              "      <th>API</th>\n",
              "      <th>Visc</th>\n",
              "      <th>Temp</th>\n",
              "      <th>Prev_prod</th>\n",
              "      <th>Sat_start</th>\n",
              "    </tr>\n",
              "  </thead>\n",
              "  <tbody>\n",
              "    <tr>\n",
              "      <th>0</th>\n",
              "      <td>5800</td>\n",
              "      <td>79</td>\n",
              "      <td>40</td>\n",
              "      <td>S</td>\n",
              "      <td>20.00</td>\n",
              "      <td>30.0</td>\n",
              "      <td>5000</td>\n",
              "      <td>43.0</td>\n",
              "      <td>0.60</td>\n",
              "      <td>120</td>\n",
              "      <td>WF</td>\n",
              "      <td>39.00</td>\n",
              "    </tr>\n",
              "    <tr>\n",
              "      <th>1</th>\n",
              "      <td>570</td>\n",
              "      <td>42</td>\n",
              "      <td>26</td>\n",
              "      <td>S</td>\n",
              "      <td>17.00</td>\n",
              "      <td>25.0</td>\n",
              "      <td>1750</td>\n",
              "      <td>39.0</td>\n",
              "      <td>0.60</td>\n",
              "      <td>105</td>\n",
              "      <td>Prim</td>\n",
              "      <td>32.00</td>\n",
              "    </tr>\n",
              "    <tr>\n",
              "      <th>2</th>\n",
              "      <td>1325</td>\n",
              "      <td>48</td>\n",
              "      <td>32</td>\n",
              "      <td>S</td>\n",
              "      <td>18.00</td>\n",
              "      <td>30.0</td>\n",
              "      <td>2200</td>\n",
              "      <td>39.0</td>\n",
              "      <td>0.60</td>\n",
              "      <td>112</td>\n",
              "      <td>Prim</td>\n",
              "      <td>32.00</td>\n",
              "    </tr>\n",
              "    <tr>\n",
              "      <th>3</th>\n",
              "      <td>3500</td>\n",
              "      <td>174</td>\n",
              "      <td>153</td>\n",
              "      <td>S</td>\n",
              "      <td>18.00</td>\n",
              "      <td>75.0</td>\n",
              "      <td>1900</td>\n",
              "      <td>37.0</td>\n",
              "      <td>0.60</td>\n",
              "      <td>105</td>\n",
              "      <td>WF</td>\n",
              "      <td>39.00</td>\n",
              "    </tr>\n",
              "    <tr>\n",
              "      <th>4</th>\n",
              "      <td>6000</td>\n",
              "      <td>321</td>\n",
              "      <td>279</td>\n",
              "      <td>S</td>\n",
              "      <td>18.00</td>\n",
              "      <td>75.0</td>\n",
              "      <td>1900</td>\n",
              "      <td>37.0</td>\n",
              "      <td>0.60</td>\n",
              "      <td>105</td>\n",
              "      <td>WF</td>\n",
              "      <td>39.00</td>\n",
              "    </tr>\n",
              "    <tr>\n",
              "      <th>...</th>\n",
              "      <td>...</td>\n",
              "      <td>...</td>\n",
              "      <td>...</td>\n",
              "      <td>...</td>\n",
              "      <td>...</td>\n",
              "      <td>...</td>\n",
              "      <td>...</td>\n",
              "      <td>...</td>\n",
              "      <td>...</td>\n",
              "      <td>...</td>\n",
              "      <td>...</td>\n",
              "      <td>...</td>\n",
              "    </tr>\n",
              "    <tr>\n",
              "      <th>165</th>\n",
              "      <td>480</td>\n",
              "      <td>4</td>\n",
              "      <td>1</td>\n",
              "      <td>S</td>\n",
              "      <td>13.00</td>\n",
              "      <td>500.0</td>\n",
              "      <td>5075</td>\n",
              "      <td>42.0</td>\n",
              "      <td>1.14</td>\n",
              "      <td>133</td>\n",
              "      <td>WF</td>\n",
              "      <td>36.00</td>\n",
              "    </tr>\n",
              "    <tr>\n",
              "      <th>166</th>\n",
              "      <td>1280</td>\n",
              "      <td>5</td>\n",
              "      <td>2</td>\n",
              "      <td>S</td>\n",
              "      <td>13.00</td>\n",
              "      <td>500.0</td>\n",
              "      <td>5000</td>\n",
              "      <td>42.0</td>\n",
              "      <td>1.14</td>\n",
              "      <td>133</td>\n",
              "      <td>WF</td>\n",
              "      <td>38.00</td>\n",
              "    </tr>\n",
              "    <tr>\n",
              "      <th>167</th>\n",
              "      <td>2890</td>\n",
              "      <td>104</td>\n",
              "      <td>10</td>\n",
              "      <td>LS</td>\n",
              "      <td>1.06</td>\n",
              "      <td>1000.0</td>\n",
              "      <td>6700</td>\n",
              "      <td>18.0</td>\n",
              "      <td>22.00</td>\n",
              "      <td>237</td>\n",
              "      <td>Prim</td>\n",
              "      <td>48.03</td>\n",
              "    </tr>\n",
              "    <tr>\n",
              "      <th>168</th>\n",
              "      <td>200</td>\n",
              "      <td>5</td>\n",
              "      <td>1</td>\n",
              "      <td>Dolo</td>\n",
              "      <td>2.50</td>\n",
              "      <td>1000.0</td>\n",
              "      <td>7400</td>\n",
              "      <td>16.0</td>\n",
              "      <td>92.00</td>\n",
              "      <td>248</td>\n",
              "      <td>Prim</td>\n",
              "      <td>48.03</td>\n",
              "    </tr>\n",
              "    <tr>\n",
              "      <th>169</th>\n",
              "      <td>1013</td>\n",
              "      <td>77</td>\n",
              "      <td>60</td>\n",
              "      <td>S</td>\n",
              "      <td>22.00</td>\n",
              "      <td>110.0</td>\n",
              "      <td>3000</td>\n",
              "      <td>42.0</td>\n",
              "      <td>1.00</td>\n",
              "      <td>147</td>\n",
              "      <td>Prim</td>\n",
              "      <td>48.03</td>\n",
              "    </tr>\n",
              "  </tbody>\n",
              "</table>\n",
              "<p>170 rows × 12 columns</p>\n",
              "</div>"
            ]
          },
          "metadata": {
            "tags": []
          },
          "execution_count": 3
        }
      ]
    },
    {
      "cell_type": "code",
      "metadata": {
        "id": "gB71oKuqqixh",
        "outputId": "951c3984-4713-42e5-9a66-c7921ecd5886",
        "colab": {
          "base_uri": "https://localhost:8080/"
        }
      },
      "source": [
        "df.info()"
      ],
      "execution_count": 4,
      "outputs": [
        {
          "output_type": "stream",
          "text": [
            "<class 'pandas.core.frame.DataFrame'>\n",
            "RangeIndex: 170 entries, 0 to 169\n",
            "Data columns (total 12 columns):\n",
            " #   Column     Non-Null Count  Dtype  \n",
            "---  ------     --------------  -----  \n",
            " 0   Area       170 non-null    int64  \n",
            " 1   Prod_well  170 non-null    int64  \n",
            " 2   Inj_well   170 non-null    int64  \n",
            " 3   Form       170 non-null    object \n",
            " 4   Por        170 non-null    float64\n",
            " 5   Perm       170 non-null    float64\n",
            " 6   Depth      170 non-null    int64  \n",
            " 7   API        170 non-null    float64\n",
            " 8   Visc       170 non-null    float64\n",
            " 9   Temp       170 non-null    int64  \n",
            " 10  Prev_prod  170 non-null    object \n",
            " 11  Sat_start  170 non-null    float64\n",
            "dtypes: float64(5), int64(5), object(2)\n",
            "memory usage: 16.1+ KB\n"
          ],
          "name": "stdout"
        }
      ]
    },
    {
      "cell_type": "code",
      "metadata": {
        "id": "Jbl4g4uvIA0x",
        "outputId": "c33a27f8-ffa6-4fe2-8126-31bc5b5cf1c0",
        "colab": {
          "base_uri": "https://localhost:8080/",
          "height": 307
        }
      },
      "source": [
        "df.describe()"
      ],
      "execution_count": 5,
      "outputs": [
        {
          "output_type": "execute_result",
          "data": {
            "text/html": [
              "<div>\n",
              "<style scoped>\n",
              "    .dataframe tbody tr th:only-of-type {\n",
              "        vertical-align: middle;\n",
              "    }\n",
              "\n",
              "    .dataframe tbody tr th {\n",
              "        vertical-align: top;\n",
              "    }\n",
              "\n",
              "    .dataframe thead th {\n",
              "        text-align: right;\n",
              "    }\n",
              "</style>\n",
              "<table border=\"1\" class=\"dataframe\">\n",
              "  <thead>\n",
              "    <tr style=\"text-align: right;\">\n",
              "      <th></th>\n",
              "      <th>Area</th>\n",
              "      <th>Prod_well</th>\n",
              "      <th>Inj_well</th>\n",
              "      <th>Por</th>\n",
              "      <th>Perm</th>\n",
              "      <th>Depth</th>\n",
              "      <th>API</th>\n",
              "      <th>Visc</th>\n",
              "      <th>Temp</th>\n",
              "      <th>Sat_start</th>\n",
              "    </tr>\n",
              "  </thead>\n",
              "  <tbody>\n",
              "    <tr>\n",
              "      <th>count</th>\n",
              "      <td>170.000000</td>\n",
              "      <td>170.000000</td>\n",
              "      <td>170.000000</td>\n",
              "      <td>170.000000</td>\n",
              "      <td>170.000000</td>\n",
              "      <td>170.000000</td>\n",
              "      <td>170.000000</td>\n",
              "      <td>170.000000</td>\n",
              "      <td>170.000000</td>\n",
              "      <td>170.000000</td>\n",
              "    </tr>\n",
              "    <tr>\n",
              "      <th>mean</th>\n",
              "      <td>3723.052941</td>\n",
              "      <td>75.035294</td>\n",
              "      <td>51.800000</td>\n",
              "      <td>14.823882</td>\n",
              "      <td>168.345294</td>\n",
              "      <td>6091.358824</td>\n",
              "      <td>37.156471</td>\n",
              "      <td>2.347851</td>\n",
              "      <td>136.952941</td>\n",
              "      <td>48.036471</td>\n",
              "    </tr>\n",
              "    <tr>\n",
              "      <th>std</th>\n",
              "      <td>6222.498067</td>\n",
              "      <td>135.318030</td>\n",
              "      <td>102.271804</td>\n",
              "      <td>6.692277</td>\n",
              "      <td>557.263792</td>\n",
              "      <td>2236.837940</td>\n",
              "      <td>4.865406</td>\n",
              "      <td>7.578300</td>\n",
              "      <td>46.058852</td>\n",
              "      <td>12.627600</td>\n",
              "    </tr>\n",
              "    <tr>\n",
              "      <th>min</th>\n",
              "      <td>5.000000</td>\n",
              "      <td>1.000000</td>\n",
              "      <td>1.000000</td>\n",
              "      <td>1.060000</td>\n",
              "      <td>1.500000</td>\n",
              "      <td>1150.000000</td>\n",
              "      <td>16.000000</td>\n",
              "      <td>0.300000</td>\n",
              "      <td>80.000000</td>\n",
              "      <td>17.000000</td>\n",
              "    </tr>\n",
              "    <tr>\n",
              "      <th>25%</th>\n",
              "      <td>468.750000</td>\n",
              "      <td>8.000000</td>\n",
              "      <td>4.000000</td>\n",
              "      <td>10.000000</td>\n",
              "      <td>5.000000</td>\n",
              "      <td>4900.000000</td>\n",
              "      <td>34.000000</td>\n",
              "      <td>0.730714</td>\n",
              "      <td>104.000000</td>\n",
              "      <td>39.250000</td>\n",
              "    </tr>\n",
              "    <tr>\n",
              "      <th>50%</th>\n",
              "      <td>1325.000000</td>\n",
              "      <td>29.000000</td>\n",
              "      <td>17.500000</td>\n",
              "      <td>13.000000</td>\n",
              "      <td>29.000000</td>\n",
              "      <td>5500.000000</td>\n",
              "      <td>38.000000</td>\n",
              "      <td>1.000000</td>\n",
              "      <td>114.000000</td>\n",
              "      <td>48.030000</td>\n",
              "    </tr>\n",
              "    <tr>\n",
              "      <th>75%</th>\n",
              "      <td>4413.000000</td>\n",
              "      <td>78.500000</td>\n",
              "      <td>47.250000</td>\n",
              "      <td>18.075000</td>\n",
              "      <td>69.250000</td>\n",
              "      <td>6950.000000</td>\n",
              "      <td>41.000000</td>\n",
              "      <td>1.907694</td>\n",
              "      <td>152.000000</td>\n",
              "      <td>52.000000</td>\n",
              "    </tr>\n",
              "    <tr>\n",
              "      <th>max</th>\n",
              "      <td>49900.000000</td>\n",
              "      <td>1026.000000</td>\n",
              "      <td>816.000000</td>\n",
              "      <td>37.000000</td>\n",
              "      <td>4500.000000</td>\n",
              "      <td>11950.000000</td>\n",
              "      <td>48.000000</td>\n",
              "      <td>92.000000</td>\n",
              "      <td>260.000000</td>\n",
              "      <td>89.000000</td>\n",
              "    </tr>\n",
              "  </tbody>\n",
              "</table>\n",
              "</div>"
            ],
            "text/plain": [
              "               Area    Prod_well  ...        Temp   Sat_start\n",
              "count    170.000000   170.000000  ...  170.000000  170.000000\n",
              "mean    3723.052941    75.035294  ...  136.952941   48.036471\n",
              "std     6222.498067   135.318030  ...   46.058852   12.627600\n",
              "min        5.000000     1.000000  ...   80.000000   17.000000\n",
              "25%      468.750000     8.000000  ...  104.000000   39.250000\n",
              "50%     1325.000000    29.000000  ...  114.000000   48.030000\n",
              "75%     4413.000000    78.500000  ...  152.000000   52.000000\n",
              "max    49900.000000  1026.000000  ...  260.000000   89.000000\n",
              "\n",
              "[8 rows x 10 columns]"
            ]
          },
          "metadata": {
            "tags": []
          },
          "execution_count": 5
        }
      ]
    },
    {
      "cell_type": "markdown",
      "metadata": {
        "id": "H9MoWKjkANR3"
      },
      "source": [
        "## Data Wrangling"
      ]
    },
    {
      "cell_type": "markdown",
      "metadata": {
        "id": "nATQDfvtgp2G"
      },
      "source": [
        "### Data type conversion "
      ]
    },
    {
      "cell_type": "code",
      "metadata": {
        "id": "nKuA85K3gk6Z"
      },
      "source": [
        "\"\"\"\n",
        "The 'Object' data types Form and Prev_prod are first converted to \n",
        "#category and then numeric codes for these categories are generated \n",
        "\"\"\"\n",
        "df.Form = df.Form.astype('category')\n",
        "df.Prev_prod = df.Prev_prod.astype('category')\n",
        "df[\"Form_cat\"] = df.Form.cat.codes\n",
        "df[\"Prev_prod_cat\"] = df.Prev_prod.astype('category').cat.codes"
      ],
      "execution_count": 6,
      "outputs": []
    },
    {
      "cell_type": "code",
      "metadata": {
        "id": "y_ElpJCSgPm3",
        "outputId": "592ede36-85a1-4e25-e80d-2fefa8728f4c",
        "colab": {
          "base_uri": "https://localhost:8080/"
        }
      },
      "source": [
        "print(df.Form.cat.categories)\n",
        "print(df.Form_cat.value_counts(sort= False))"
      ],
      "execution_count": 7,
      "outputs": [
        {
          "output_type": "stream",
          "text": [
            "Index(['Congl', 'Dolo', 'LS', 'S', 'Tripol'], dtype='object')\n",
            "0     1\n",
            "1    61\n",
            "2    28\n",
            "3    73\n",
            "4     7\n",
            "Name: Form_cat, dtype: int64\n"
          ],
          "name": "stdout"
        }
      ]
    },
    {
      "cell_type": "code",
      "metadata": {
        "id": "RB9QxPtOhyPe",
        "outputId": "f9efe9b3-e705-4830-e496-969f5e229096",
        "colab": {
          "base_uri": "https://localhost:8080/"
        }
      },
      "source": [
        "print(df.Prev_prod.cat.categories)\n",
        "print(df.Prev_prod_cat.value_counts(sort= False))"
      ],
      "execution_count": 8,
      "outputs": [
        {
          "output_type": "stream",
          "text": [
            "Index(['GI', 'HC', 'None', 'Prim', 'WF'], dtype='object')\n",
            "0      4\n",
            "1      1\n",
            "2      3\n",
            "3     32\n",
            "4    130\n",
            "Name: Prev_prod_cat, dtype: int64\n"
          ],
          "name": "stdout"
        }
      ]
    },
    {
      "cell_type": "code",
      "metadata": {
        "id": "s4o3ztyKfyTn"
      },
      "source": [
        "#drop unused column\n",
        "df_out = df.drop (columns=['Form','Prev_prod'])\n"
      ],
      "execution_count": 9,
      "outputs": []
    },
    {
      "cell_type": "code",
      "metadata": {
        "id": "GjKjUdbDiNm6",
        "outputId": "76603915-f17f-4246-f484-029ef03b2176",
        "colab": {
          "base_uri": "https://localhost:8080/",
          "height": 307
        }
      },
      "source": [
        "df_out.describe()"
      ],
      "execution_count": 10,
      "outputs": [
        {
          "output_type": "execute_result",
          "data": {
            "text/html": [
              "<div>\n",
              "<style scoped>\n",
              "    .dataframe tbody tr th:only-of-type {\n",
              "        vertical-align: middle;\n",
              "    }\n",
              "\n",
              "    .dataframe tbody tr th {\n",
              "        vertical-align: top;\n",
              "    }\n",
              "\n",
              "    .dataframe thead th {\n",
              "        text-align: right;\n",
              "    }\n",
              "</style>\n",
              "<table border=\"1\" class=\"dataframe\">\n",
              "  <thead>\n",
              "    <tr style=\"text-align: right;\">\n",
              "      <th></th>\n",
              "      <th>Area</th>\n",
              "      <th>Prod_well</th>\n",
              "      <th>Inj_well</th>\n",
              "      <th>Por</th>\n",
              "      <th>Perm</th>\n",
              "      <th>Depth</th>\n",
              "      <th>API</th>\n",
              "      <th>Visc</th>\n",
              "      <th>Temp</th>\n",
              "      <th>Sat_start</th>\n",
              "      <th>Form_cat</th>\n",
              "      <th>Prev_prod_cat</th>\n",
              "    </tr>\n",
              "  </thead>\n",
              "  <tbody>\n",
              "    <tr>\n",
              "      <th>count</th>\n",
              "      <td>170.000000</td>\n",
              "      <td>170.000000</td>\n",
              "      <td>170.000000</td>\n",
              "      <td>170.000000</td>\n",
              "      <td>170.000000</td>\n",
              "      <td>170.000000</td>\n",
              "      <td>170.000000</td>\n",
              "      <td>170.000000</td>\n",
              "      <td>170.000000</td>\n",
              "      <td>170.000000</td>\n",
              "      <td>170.000000</td>\n",
              "      <td>170.000000</td>\n",
              "    </tr>\n",
              "    <tr>\n",
              "      <th>mean</th>\n",
              "      <td>3723.052941</td>\n",
              "      <td>75.035294</td>\n",
              "      <td>51.800000</td>\n",
              "      <td>14.823882</td>\n",
              "      <td>168.345294</td>\n",
              "      <td>6091.358824</td>\n",
              "      <td>37.156471</td>\n",
              "      <td>2.347851</td>\n",
              "      <td>136.952941</td>\n",
              "      <td>48.036471</td>\n",
              "      <td>2.141176</td>\n",
              "      <td>3.664706</td>\n",
              "    </tr>\n",
              "    <tr>\n",
              "      <th>std</th>\n",
              "      <td>6222.498067</td>\n",
              "      <td>135.318030</td>\n",
              "      <td>102.271804</td>\n",
              "      <td>6.692277</td>\n",
              "      <td>557.263792</td>\n",
              "      <td>2236.837940</td>\n",
              "      <td>4.865406</td>\n",
              "      <td>7.578300</td>\n",
              "      <td>46.058852</td>\n",
              "      <td>12.627600</td>\n",
              "      <td>0.980918</td>\n",
              "      <td>0.761065</td>\n",
              "    </tr>\n",
              "    <tr>\n",
              "      <th>min</th>\n",
              "      <td>5.000000</td>\n",
              "      <td>1.000000</td>\n",
              "      <td>1.000000</td>\n",
              "      <td>1.060000</td>\n",
              "      <td>1.500000</td>\n",
              "      <td>1150.000000</td>\n",
              "      <td>16.000000</td>\n",
              "      <td>0.300000</td>\n",
              "      <td>80.000000</td>\n",
              "      <td>17.000000</td>\n",
              "      <td>0.000000</td>\n",
              "      <td>0.000000</td>\n",
              "    </tr>\n",
              "    <tr>\n",
              "      <th>25%</th>\n",
              "      <td>468.750000</td>\n",
              "      <td>8.000000</td>\n",
              "      <td>4.000000</td>\n",
              "      <td>10.000000</td>\n",
              "      <td>5.000000</td>\n",
              "      <td>4900.000000</td>\n",
              "      <td>34.000000</td>\n",
              "      <td>0.730714</td>\n",
              "      <td>104.000000</td>\n",
              "      <td>39.250000</td>\n",
              "      <td>1.000000</td>\n",
              "      <td>4.000000</td>\n",
              "    </tr>\n",
              "    <tr>\n",
              "      <th>50%</th>\n",
              "      <td>1325.000000</td>\n",
              "      <td>29.000000</td>\n",
              "      <td>17.500000</td>\n",
              "      <td>13.000000</td>\n",
              "      <td>29.000000</td>\n",
              "      <td>5500.000000</td>\n",
              "      <td>38.000000</td>\n",
              "      <td>1.000000</td>\n",
              "      <td>114.000000</td>\n",
              "      <td>48.030000</td>\n",
              "      <td>2.000000</td>\n",
              "      <td>4.000000</td>\n",
              "    </tr>\n",
              "    <tr>\n",
              "      <th>75%</th>\n",
              "      <td>4413.000000</td>\n",
              "      <td>78.500000</td>\n",
              "      <td>47.250000</td>\n",
              "      <td>18.075000</td>\n",
              "      <td>69.250000</td>\n",
              "      <td>6950.000000</td>\n",
              "      <td>41.000000</td>\n",
              "      <td>1.907694</td>\n",
              "      <td>152.000000</td>\n",
              "      <td>52.000000</td>\n",
              "      <td>3.000000</td>\n",
              "      <td>4.000000</td>\n",
              "    </tr>\n",
              "    <tr>\n",
              "      <th>max</th>\n",
              "      <td>49900.000000</td>\n",
              "      <td>1026.000000</td>\n",
              "      <td>816.000000</td>\n",
              "      <td>37.000000</td>\n",
              "      <td>4500.000000</td>\n",
              "      <td>11950.000000</td>\n",
              "      <td>48.000000</td>\n",
              "      <td>92.000000</td>\n",
              "      <td>260.000000</td>\n",
              "      <td>89.000000</td>\n",
              "      <td>4.000000</td>\n",
              "      <td>4.000000</td>\n",
              "    </tr>\n",
              "  </tbody>\n",
              "</table>\n",
              "</div>"
            ],
            "text/plain": [
              "               Area    Prod_well  ...    Form_cat  Prev_prod_cat\n",
              "count    170.000000   170.000000  ...  170.000000     170.000000\n",
              "mean    3723.052941    75.035294  ...    2.141176       3.664706\n",
              "std     6222.498067   135.318030  ...    0.980918       0.761065\n",
              "min        5.000000     1.000000  ...    0.000000       0.000000\n",
              "25%      468.750000     8.000000  ...    1.000000       4.000000\n",
              "50%     1325.000000    29.000000  ...    2.000000       4.000000\n",
              "75%     4413.000000    78.500000  ...    3.000000       4.000000\n",
              "max    49900.000000  1026.000000  ...    4.000000       4.000000\n",
              "\n",
              "[8 rows x 12 columns]"
            ]
          },
          "metadata": {
            "tags": []
          },
          "execution_count": 10
        }
      ]
    },
    {
      "cell_type": "code",
      "metadata": {
        "id": "6skHVo4mjfqq",
        "outputId": "663aea15-1a40-4b95-8ba8-215c212084f0",
        "colab": {
          "base_uri": "https://localhost:8080/"
        }
      },
      "source": [
        "df_out.info()"
      ],
      "execution_count": 11,
      "outputs": [
        {
          "output_type": "stream",
          "text": [
            "<class 'pandas.core.frame.DataFrame'>\n",
            "RangeIndex: 170 entries, 0 to 169\n",
            "Data columns (total 12 columns):\n",
            " #   Column         Non-Null Count  Dtype  \n",
            "---  ------         --------------  -----  \n",
            " 0   Area           170 non-null    int64  \n",
            " 1   Prod_well      170 non-null    int64  \n",
            " 2   Inj_well       170 non-null    int64  \n",
            " 3   Por            170 non-null    float64\n",
            " 4   Perm           170 non-null    float64\n",
            " 5   Depth          170 non-null    int64  \n",
            " 6   API            170 non-null    float64\n",
            " 7   Visc           170 non-null    float64\n",
            " 8   Temp           170 non-null    int64  \n",
            " 9   Sat_start      170 non-null    float64\n",
            " 10  Form_cat       170 non-null    int8   \n",
            " 11  Prev_prod_cat  170 non-null    int8   \n",
            "dtypes: float64(5), int64(5), int8(2)\n",
            "memory usage: 13.7 KB\n"
          ],
          "name": "stdout"
        }
      ]
    },
    {
      "cell_type": "markdown",
      "metadata": {
        "id": "m-E8uQmuPh2F"
      },
      "source": [
        "### Correlation\n",
        "\n",
        "An heatmap is plotted to get a feel for how the correlations between the different features compare to one another. "
      ]
    },
    {
      "cell_type": "code",
      "metadata": {
        "id": "OP0AV9hShRrs",
        "outputId": "a3d5fd50-f43c-4e05-c687-79112b1aac19",
        "colab": {
          "base_uri": "https://localhost:8080/",
          "height": 704
        }
      },
      "source": [
        "def plot_corr(df,size=12):\n",
        "    corr = df_out.corr()\n",
        "    fig, ax = plt.subplots(figsize=(size, size))\n",
        "    ax.matshow(corr)\n",
        "    plt.xticks(range(len(corr.columns)), corr.columns);\n",
        "    plt.yticks(range(len(corr.columns)), corr.columns);\n",
        "\n",
        "\n",
        "plot_corr(df_out)\n"
      ],
      "execution_count": 12,
      "outputs": [
        {
          "output_type": "display_data",
          "data": {
            "image/png": "[encoded data removed]",
            "text/plain": [
              "<Figure size 864x864 with 1 Axes>"
            ]
          },
          "metadata": {
            "tags": [],
            "image/png": {
              "width": 752,
              "height": 687
            },
            "needs_background": "light"
          }
        }
      ]
    },
    {
      "cell_type": "markdown",
      "metadata": {
        "id": "a7QeQ7Kejj3L"
      },
      "source": [
        "Figure  depicts the correlation between different columns. Yellow and shades of green show positive correlations while Purple and shades of blue show negatively correlated features. \n",
        "\n",
        "Prod_well and Inj_well are seen to be highly positively correlated to Area since the bigger the field, the higher the number of wells drillable. Also, Por is positively correlated to Perm while API has a high negative correlation to Visc. \n",
        "All these correlations are indicators that linearly correlated features can be found to perform PCA projections on."
      ]
    },
    {
      "cell_type": "markdown",
      "metadata": {
        "id": "i-bXnb-DXDyA"
      },
      "source": [
        "Next pairplot of the features is made to identify distibutions and outliers"
      ]
    },
    {
      "cell_type": "code",
      "metadata": {
        "id": "oyD6kvExo_ts"
      },
      "source": [
        "sns.pairplot(df_out)"
      ],
      "execution_count": null,
      "outputs": []
    },
    {
      "cell_type": "markdown",
      "metadata": {
        "id": "sIUjCeXSXmAd"
      },
      "source": [
        "'Visc', 'Perm', 'Area',\t'Prod_well',\t'Inj_well' are all identified to have several 'special cases'. These cases significantly skew the distribution for these features. There is a need to handle these outliers before standardization."
      ]
    },
    {
      "cell_type": "markdown",
      "metadata": {
        "id": "5TadHb_npagL"
      },
      "source": [
        "### Handling outliers\n",
        "\n",
        "Rather than delete the outlier rows in these features, the values of these rows are capped to an amount grreater than the 3rd quantile vale for that feature. \n",
        "This is done so that these values can have a chance to contribute their importance to the features without making the distribution skewed."
      ]
    },
    {
      "cell_type": "code",
      "metadata": {
        "id": "1o4e5OhCtgef"
      },
      "source": [
        "Outlier_col = ['Visc', 'Perm', 'Area',\t'Prod_well',\t'Inj_well'] # columns identified in pairplot as having large outliers\n",
        "\n",
        "for col in Outlier_col:\n",
        "  val = df[col].quantile(0.75) * 1.5  # upper limit calculated by increasing 3rd quantile value by 50%\n",
        "  df_out[col] = np.where(df_out[col] > val , val, df_out[col])   # replacing the outliers\n",
        "\n"
      ],
      "execution_count": null,
      "outputs": []
    },
    {
      "cell_type": "markdown",
      "metadata": {
        "id": "UxsLKbSOlTI0"
      },
      "source": [
        "The distribution shows that the influence of outliers have been reduced in the columns."
      ]
    },
    {
      "cell_type": "code",
      "metadata": {
        "id": "qXN3IegB1umC"
      },
      "source": [
        "df_out.describe()"
      ],
      "execution_count": null,
      "outputs": []
    },
    {
      "cell_type": "markdown",
      "metadata": {
        "id": "aZU7bSJON6bz"
      },
      "source": [
        "### Dataset visualization"
      ]
    },
    {
      "cell_type": "markdown",
      "metadata": {
        "id": "ZeDwmh6xytEc"
      },
      "source": [
        "The dataset will be visualized to see if any clusters with similarities can be observed just by eyeballing method"
      ]
    },
    {
      "cell_type": "code",
      "metadata": {
        "id": "d8ounegEL9tj"
      },
      "source": [
        "fig = px.scatter(data_frame=df_out,\n",
        "                    x=\"Por\",\n",
        "                    y=\"Perm\",\n",
        "                    )\n",
        "\n",
        "fig.show()\n"
      ],
      "execution_count": null,
      "outputs": []
    },
    {
      "cell_type": "code",
      "metadata": {
        "id": "v6Wo77nBq3V9"
      },
      "source": [
        "\n",
        "fig = px.scatter_3d(data_frame=df_out,\n",
        "                    x= df_out.Por,\n",
        "                    y= df_out.Perm,\n",
        "                    z =df_out.Depth,\n",
        "                               \n",
        "                    )\n",
        "\n",
        "fig.show()"
      ],
      "execution_count": null,
      "outputs": []
    },
    {
      "cell_type": "markdown",
      "metadata": {
        "id": "xiAuDf1FzDzc"
      },
      "source": [
        "Perhaps one small cluster can be seen with several blobs evident around"
      ]
    },
    {
      "cell_type": "markdown",
      "metadata": {
        "id": "4JUGU2NyKRmu"
      },
      "source": [
        "### Standardization\n",
        "\n",
        "The decision to standardize the data prior to a PCA on the covariance matrix depends on the measurement scales of the original features. Since PCA yields a feature subspace that maximizes the variance along the axes, it makes sense to standardize the data, especially, since it was measured on different scales. The data will be transformed onto unit scale (mean=0 and variance=1), which is a requirement for the optimal performance of many machine learning algorithms.\n",
        "The data is standardized using sklearn's StandardScaler."
      ]
    },
    {
      "cell_type": "code",
      "metadata": {
        "id": "joRaGsOu5_tZ"
      },
      "source": [
        "X = df_out.values[:,0:]\n",
        "X = np.nan_to_num(X)"
      ],
      "execution_count": null,
      "outputs": []
    },
    {
      "cell_type": "code",
      "metadata": {
        "id": "eByOyy-0ot9m"
      },
      "source": [
        "# Standardize the data to have a mean of ~0 and a variance of 1\n",
        "df_std = StandardScaler().fit_transform(X)"
      ],
      "execution_count": null,
      "outputs": []
    },
    {
      "cell_type": "markdown",
      "metadata": {
        "id": "rCj4VngPEcIG"
      },
      "source": [
        "## KMeans \n",
        "\n",
        "Kmeans clustering is then implemented. First step is to determine the optimal number of clusters."
      ]
    },
    {
      "cell_type": "markdown",
      "metadata": {
        "id": "xmcHLB3V_UOh"
      },
      "source": [
        "### Number of Clusters Determination"
      ]
    },
    {
      "cell_type": "markdown",
      "metadata": {
        "id": "8L-PeCxTrbmK"
      },
      "source": [
        "**Elbow Method**"
      ]
    },
    {
      "cell_type": "code",
      "metadata": {
        "id": "KN-gX1nNnnyL"
      },
      "source": [
        "ks = range(1, 10)\n",
        "inertias = []\n",
        "for k in ks:\n",
        "    # Create a KMeans instance with k clusters: model\n",
        "    model = KMeans(n_clusters=k, init ='k-means++', max_iter=300, n_init=10,random_state=0)\n",
        "    \n",
        "    # Fit model to samples\n",
        "    model.fit(df_std)\n",
        "    \n",
        "    # Append the inertia to the list of inertias\n",
        "    inertias.append(model.inertia_)\n",
        "    \n",
        "plt.plot(ks, inertias, '-o', color='black')\n",
        "plt.xlabel('number of clusters, k')\n",
        "plt.ylabel('inertia')\n",
        "plt.xticks(ks)\n",
        "plt.show()"
      ],
      "execution_count": null,
      "outputs": []
    },
    {
      "cell_type": "markdown",
      "metadata": {
        "id": "esyP0vBV0TzJ"
      },
      "source": [
        "Figure shows that after 2 clusters at the change in the value of inertia is no longer significant and most likely, neither is the variance of the rest of the data after the elbow point. Therefore we can discard everything after k=2 and proceed to the last step in the process.\n",
        "\n",
        "This is clearly observed in the silhouette score plot below."
      ]
    },
    {
      "cell_type": "markdown",
      "metadata": {
        "id": "Om0FjbVd_Dmg"
      },
      "source": [
        "**Silhouette Score Method**"
      ]
    },
    {
      "cell_type": "code",
      "metadata": {
        "id": "EFisDvON8E7n"
      },
      "source": [
        "ks = range(2, 6)\n",
        "silhouette = []\n",
        "for k in ks:\n",
        "    # Create a KMeans instance with k clusters: model\n",
        "    model = KMeans(n_clusters=k, init ='k-means++', max_iter=300, n_init=10,random_state=0)\n",
        "    \n",
        "    # Fit model to samples\n",
        "    model.fit(df_std)\n",
        "    \n",
        "    # Append the inertia to the list of inertias\n",
        "    silhouette.append(silhouette_score(df_std, model.labels_))\n",
        "    \n",
        "plt.plot(ks, silhouette, '-o', color='black')\n",
        "plt.xlabel('number of clusters, k')\n",
        "plt.ylabel('silhouette score')\n",
        "plt.xticks(ks)\n",
        "plt.show()"
      ],
      "execution_count": null,
      "outputs": []
    },
    {
      "cell_type": "markdown",
      "metadata": {
        "id": "rXrtHj_WbNV2"
      },
      "source": [
        "Cluster number of 2 is then chosen for the KMeans implementation"
      ]
    },
    {
      "cell_type": "markdown",
      "metadata": {
        "id": "EmEQe2Vnrfmf"
      },
      "source": [
        "### KMeans Implementation"
      ]
    },
    {
      "cell_type": "code",
      "metadata": {
        "id": "4rfeLwT5n2Sy"
      },
      "source": [
        "# Create a KMeans instance with k clusters: model\n",
        "model = KMeans(n_clusters=2,  init ='k-means++', max_iter=300, n_init=10,random_state=0)\n",
        "    \n",
        "# Fit model to samples\n",
        "\n",
        "y_kmeans = model.fit_predict(df_std)\n",
        "labels = model.labels_"
      ],
      "execution_count": null,
      "outputs": []
    },
    {
      "cell_type": "code",
      "metadata": {
        "id": "0GV7fNNWyEDP"
      },
      "source": [
        "df_out[\"Cluster\"] = labels\n",
        "df_out.head(5)\n"
      ],
      "execution_count": null,
      "outputs": []
    },
    {
      "cell_type": "code",
      "metadata": {
        "id": "ONPVhhDWyxpJ"
      },
      "source": [
        "df_out.groupby('Cluster').count()"
      ],
      "execution_count": null,
      "outputs": []
    },
    {
      "cell_type": "code",
      "metadata": {
        "id": "PCgsVAWq9v5g"
      },
      "source": [
        "df_out.groupby('Cluster').mean()"
      ],
      "execution_count": null,
      "outputs": []
    },
    {
      "cell_type": "markdown",
      "metadata": {
        "id": "qVPzCpdZVsiG"
      },
      "source": [
        "### Data visualization with Kmeans"
      ]
    },
    {
      "cell_type": "code",
      "metadata": {
        "id": "EH1Cc7TCh9C5"
      },
      "source": [
        "df_out['Cluster No'] =df_out[\"Cluster\"].map( {0: \"first\",\n",
        "                                                 1:\"second\", \n",
        "                                                 })"
      ],
      "execution_count": null,
      "outputs": []
    },
    {
      "cell_type": "code",
      "metadata": {
        "id": "9ZBZrxOtQY0h"
      },
      "source": [
        "fig = px.scatter(data_frame=df_out,\n",
        "                    x=\"Por\",\n",
        "                    y=\"Perm\",\n",
        "                    color='Cluster No',\n",
        "                    color_discrete_sequence=px.colors.qualitative.Vivid\n",
        "                    )\n",
        "\n",
        "fig.show()\n"
      ],
      "execution_count": null,
      "outputs": []
    },
    {
      "cell_type": "code",
      "metadata": {
        "id": "aSY6Ma-nQyC7"
      },
      "source": [
        "fig = px.scatter_3d(data_frame=df_out,\n",
        "                    x= 'Por',\n",
        "                    y= 'Perm',\n",
        "                    z ='Depth',\n",
        "                    color = 'Cluster No',\n",
        "                    color_discrete_sequence=px.colors.qualitative.Vivid\n",
        "                    \n",
        "                    )\n",
        "\n",
        "fig.show()"
      ],
      "execution_count": null,
      "outputs": []
    },
    {
      "cell_type": "markdown",
      "metadata": {
        "id": "J9F4r-Ph96a7"
      },
      "source": [
        "We proceed to implement PCA to attempt to get better definition of these clusters."
      ]
    },
    {
      "cell_type": "markdown",
      "metadata": {
        "id": "RPstSY40EWCT"
      },
      "source": [
        "## Kmeans With PCA"
      ]
    },
    {
      "cell_type": "markdown",
      "metadata": {
        "id": "Fq7gSquCq68K"
      },
      "source": [
        "### Number of Principal Component Determination \n",
        "\n",
        "Eigendecomposition - Computing Eigenvectors and Eigenvalues\n",
        "\n",
        "The eigenvectors and eigenvalues of a covariance (or correlation) matrix represent the \"core\" of a PCA: The eigenvectors (principal components) determine the directions of the new feature space, and the eigenvalues determine their magnitude. In other words, the eigenvalues explain the variance of the data along the new feature axes.\n",
        "\n",
        "Therefore, an eigendecomposition is performed using covariance matrix approach"
      ]
    },
    {
      "cell_type": "code",
      "metadata": {
        "id": "5c-wLmhkpkx2"
      },
      "source": [
        "cov_mat = np.cov(df_std.T)\n",
        "\n",
        "eig_vals, eig_vecs = np.linalg.eig(cov_mat)\n",
        "\n",
        "print('Eigenvectors \\n%s' %eig_vecs)\n",
        "print('\\nEigenvalues \\n%s' %eig_vals)"
      ],
      "execution_count": null,
      "outputs": []
    },
    {
      "cell_type": "code",
      "metadata": {
        "id": "ppZQKw9gsJE4"
      },
      "source": [
        "for ev in eig_vecs.T:\n",
        "    np.testing.assert_array_almost_equal(1.0, np.linalg.norm(ev))\n",
        "print('Everything ok!')"
      ],
      "execution_count": null,
      "outputs": []
    },
    {
      "cell_type": "code",
      "metadata": {
        "id": "4lBVrRhdsMGA"
      },
      "source": [
        "# Make a list of (eigenvalue, eigenvector) tuples\n",
        "eig_pairs = [(np.abs(eig_vals[i]), eig_vecs[:,i]) for i in range(len(eig_vals))]\n",
        "\n",
        "# Sort the (eigenvalue, eigenvector) tuples from high to low\n",
        "eig_pairs.sort(key=lambda x: x[0], reverse=True)\n",
        "\n",
        "# Visually confirm that the list is correctly sorted by decreasing eigenvalues\n",
        "print('Eigenvalues in descending order:')\n",
        "for i in eig_pairs:\n",
        "    print(i[0])"
      ],
      "execution_count": null,
      "outputs": []
    },
    {
      "cell_type": "code",
      "metadata": {
        "id": "0IRb8mxUsR88"
      },
      "source": [
        "tot = sum(eig_vals)\n",
        "var_exp = [(i / tot)*100 for i in sorted(eig_vals, reverse=True)]\n",
        "cum_var_exp = np.cumsum(var_exp)\n",
        "cum_var_exp"
      ],
      "execution_count": null,
      "outputs": []
    },
    {
      "cell_type": "code",
      "metadata": {
        "id": "gLy9o6LJKzRD"
      },
      "source": [
        "plt.style.context('seaborn-whitegrid')\n",
        "plt.figure(figsize=(6, 4))\n",
        "plt.bar(range(len(var_exp)), var_exp, alpha=0.3333, align='center', label='individual explained variance', color = 'g')\n",
        "plt.step(range(len(cum_var_exp)), cum_var_exp, where='mid',label='cumulative explained variance')\n",
        "plt.ylabel('Explained variance ratio')\n",
        "plt.xlabel('Principal components')\n",
        "plt.legend(loc='best')\n",
        "plt.tight_layout()"
      ],
      "execution_count": null,
      "outputs": []
    },
    {
      "cell_type": "markdown",
      "metadata": {
        "id": "Hrf8cmE416VB"
      },
      "source": [
        "Figure shows that the first 6 components explain the majority of the variance in our data. Following rule of thumb that at least 80% of the variance should be preserved, we select 6 features.\n"
      ]
    },
    {
      "cell_type": "markdown",
      "metadata": {
        "id": "fL1z681mzf7D"
      },
      "source": [
        "### PCA Implementation"
      ]
    },
    {
      "cell_type": "markdown",
      "metadata": {
        "id": "zsjCyeNdnLBW"
      },
      "source": [
        "Having roughly identified how many components/dimensions we would like to project on, let's now implement sklearn's PCA module.\n",
        "\n",
        "The first line of the code contains the parameters \"n_components\" which states how many PCA components we want to project the dataset onto. Since we are going implement PCA with 6 components, therefore we set n_components = 6.\n",
        "\n",
        "The second line of the code calls the \"fit_transform\" method, which fits the PCA model with the data df_std and applies the dimensionality reduction on this dataset."
      ]
    },
    {
      "cell_type": "code",
      "metadata": {
        "id": "4ZWtt_s4ML1N"
      },
      "source": [
        "# Create a PCA instance: pca\n",
        "pca = PCA(n_components=6)\n",
        "df_trans= pca.fit_transform(df_std)\n",
        "\n",
        "print(\"original shape:   \", df_std.shape)\n",
        "print(\"transformed shape:\", df_trans.shape)"
      ],
      "execution_count": null,
      "outputs": []
    },
    {
      "cell_type": "markdown",
      "metadata": {
        "id": "1hmdwJ8Mdu2X"
      },
      "source": [
        "### Projection Onto the New Feature Space\n",
        "\n",
        "To illustrate the transformation of the data onto the new subspace, the plot of Oil gravity,API is transformed on the new subspace as shown in the figure below.\n"
      ]
    },
    {
      "cell_type": "code",
      "metadata": {
        "id": "C0-ZiW4r-_-4"
      },
      "source": [
        "df_out['Por1'] = pd.qcut(df.Por, q= [0,0.25,0.75,1.0], labels=['Low','Medium','High'])# create bins from quantile \n",
        "y = df_out['Por1'].values"
      ],
      "execution_count": null,
      "outputs": []
    },
    {
      "cell_type": "code",
      "metadata": {
        "id": "HLhQCsqicv_L"
      },
      "source": [
        "with plt.style.context('seaborn-whitegrid'):\n",
        "    plt.figure(figsize=(6, 4))\n",
        "    for lab, col in zip(('Low', 'Medium', 'High'),\n",
        "                        ('blue', 'red', 'green')):\n",
        "        plt.scatter(df_trans[y==lab, 0],\n",
        "                    df_trans[y==lab, 1],\n",
        "                    label=lab,\n",
        "                    c=col)\n",
        "    plt.xlabel('Principal Component 1')\n",
        "    plt.ylabel('Principal Component 2')\n",
        "    plt.legend(loc='lower right')\n",
        "    plt.tight_layout()\n",
        "    plt.show()\n",
        "\n",
        "df_out = df_out.drop('Por1', axis=1)"
      ],
      "execution_count": null,
      "outputs": []
    },
    {
      "cell_type": "markdown",
      "metadata": {
        "id": "2Io_Zoe_mmGf"
      },
      "source": [
        "After applying the linear PCA transformation, a lower dimensional subspace (from 12D to 6D in this case), is obtained where the samples are “most spread” along the new feature axes."
      ]
    },
    {
      "cell_type": "markdown",
      "metadata": {
        "id": "WwwMUPQpBXOb"
      },
      "source": [
        "### KMeans on Principal Components Implementation\n",
        "\n",
        " "
      ]
    },
    {
      "cell_type": "markdown",
      "metadata": {
        "id": "JE6Lp88i2Pwq"
      },
      "source": [
        "A simple KMeans will now be applied to the PCA projection data. \n",
        "\n",
        "Again the optimal number of clusters is determined."
      ]
    },
    {
      "cell_type": "markdown",
      "metadata": {
        "id": "7WJksC19H9WX"
      },
      "source": [
        "### Number of Clusters Determination"
      ]
    },
    {
      "cell_type": "markdown",
      "metadata": {
        "id": "omVinzc6H9Wa"
      },
      "source": [
        "**Elbow Method**"
      ]
    },
    {
      "cell_type": "code",
      "metadata": {
        "id": "1YRWqlZQH9Wb"
      },
      "source": [
        "ks = range(1, 10)\n",
        "inertias = []\n",
        "for k in ks:\n",
        "    # Create a KMeans instance with k clusters: model\n",
        "    model = KMeans(n_clusters=k, init ='k-means++', max_iter=300, n_init=10,random_state=0)\n",
        "    \n",
        "    # Fit model to samples\n",
        "    model.fit(df_trans)\n",
        "    \n",
        "    # Append the inertia to the list of inertias\n",
        "    inertias.append(model.inertia_)\n",
        "    \n",
        "plt.plot(ks, inertias, '-o', color='black')\n",
        "plt.xlabel('number of clusters, k')\n",
        "plt.ylabel('inertia')\n",
        "plt.xticks(ks)\n",
        "plt.show()"
      ],
      "execution_count": null,
      "outputs": []
    },
    {
      "cell_type": "markdown",
      "metadata": {
        "id": "-LEI_QMZH9Wg"
      },
      "source": [
        "**Silhouette Score Method**"
      ]
    },
    {
      "cell_type": "code",
      "metadata": {
        "id": "MEWlvRbUH9Wh"
      },
      "source": [
        "ks = range(2, 6)\n",
        "silhouette = []\n",
        "for k in ks:\n",
        "    # Create a KMeans instance with k clusters: model\n",
        "    model = KMeans(n_clusters=k, init ='k-means++', max_iter=300, n_init=10,random_state=0)\n",
        "    \n",
        "    # Fit model to samples\n",
        "    model.fit(df_trans)\n",
        "    \n",
        "    # Append the inertia to the list of inertias\n",
        "    silhouette.append(silhouette_score(df_trans, model.labels_))\n",
        "    \n",
        "plt.plot(ks, silhouette, '-o', color='black')\n",
        "plt.xlabel('number of clusters, k')\n",
        "plt.ylabel('silhouette score')\n",
        "plt.xticks(ks)\n",
        "plt.show()"
      ],
      "execution_count": null,
      "outputs": []
    },
    {
      "cell_type": "markdown",
      "metadata": {
        "id": "iNUUnOCm3Q43"
      },
      "source": [
        "The figure shows that 3 clusters should be sufficient. "
      ]
    },
    {
      "cell_type": "markdown",
      "metadata": {
        "id": "GhxqzQi-FkPZ"
      },
      "source": [
        "### Kmeans Implementation"
      ]
    },
    {
      "cell_type": "code",
      "metadata": {
        "id": "Ibfc0Xun3q75"
      },
      "source": [
        "# Create a KMeans instance with k clusters: model\n",
        "model1 = KMeans(n_clusters=3,  init ='k-means++', max_iter=300, n_init=10,random_state=0)\n",
        "    \n",
        "# Fit model to samples\n",
        "\n",
        "y_kmeans1 = model1.fit_predict(df_trans)\n",
        "labels1 = model1.labels_\n",
        "centroids1 = model1.cluster_centers_"
      ],
      "execution_count": null,
      "outputs": []
    },
    {
      "cell_type": "markdown",
      "metadata": {
        "id": "lSrfxgmTBGYC"
      },
      "source": [
        "### Cluster Exploration"
      ]
    },
    {
      "cell_type": "markdown",
      "metadata": {
        "id": "xymrhFF6OqfI"
      },
      "source": [
        "A new data frame will be created that facilitates adding in the values of the separate components to the data set. The scores of the components are stored and labelled as Component 1, 2, 3 and so on. \n",
        "In addition, the labels from the Kmeans clustering will be stored in the new data frame."
      ]
    },
    {
      "cell_type": "code",
      "metadata": {
        "id": "pfmnRXIqPNCz"
      },
      "source": [
        "# Get original dataset\n",
        "df_pca = df_out.drop(columns=['Cluster'], axis=1) \n",
        "\n",
        "# Create new dataframe with dataset and PCA components\n",
        "df_clus = pd.concat([df_pca.reset_index(drop= True), pd.DataFrame(df_trans)], axis=1)\n",
        "\n",
        "#Assign labels to components\n",
        "df_clus.columns.values[-6:] = ['Principal Component 1', 'Principal Component 2',\n",
        "                               'Principal Component 3','Principal Component 4',\n",
        "                               'Principal Component 5','Principal Component 6'\n",
        "                               ] \n",
        "df_clus[\"PCA_Cluster\"] = labels1\n",
        "\n",
        "df_clus.head()"
      ],
      "execution_count": null,
      "outputs": []
    },
    {
      "cell_type": "code",
      "metadata": {
        "id": "f8vfZvF-svTM"
      },
      "source": [
        "df_clus.groupby(\"PCA_Cluster\").mean()"
      ],
      "execution_count": null,
      "outputs": []
    },
    {
      "cell_type": "code",
      "metadata": {
        "id": "ALbbaED_ZSOy"
      },
      "source": [
        "df_clus.groupby(\"PCA_Cluster\").count()"
      ],
      "execution_count": null,
      "outputs": []
    },
    {
      "cell_type": "markdown",
      "metadata": {
        "id": "DvbDX167Lw6s"
      },
      "source": [
        "## Data Visualization"
      ]
    },
    {
      "cell_type": "markdown",
      "metadata": {
        "id": "UvjcmOoZA7QU"
      },
      "source": [
        "### Scatterplot"
      ]
    },
    {
      "cell_type": "markdown",
      "metadata": {
        "id": "Q_9D82B2XZbw"
      },
      "source": [
        "We create a new column named ‘Cluster’ and map the clusters directly inside it."
      ]
    },
    {
      "cell_type": "code",
      "metadata": {
        "id": "6xRyLPr6V5nN"
      },
      "source": [
        "df_clus['Cluster'] =df_clus[\"PCA_Cluster\"].map( {0: \"first\",\n",
        "                                                 1:\"second\", \n",
        "                                                 2: \"third\",\n",
        "                                                })"
      ],
      "execution_count": null,
      "outputs": []
    },
    {
      "cell_type": "code",
      "metadata": {
        "id": "fROyv-DkHLdn"
      },
      "source": [
        "fig = px.scatter(data_frame=df_clus,\n",
        "                    x=\"Principal Component 1\",\n",
        "                    y=\"Principal Component 2\",\n",
        "                    color='Cluster',\n",
        "                    color_discrete_sequence=px.colors.qualitative.Plotly\n",
        "                    )\n",
        "\n",
        "fig.show()\n",
        "\n"
      ],
      "execution_count": null,
      "outputs": []
    },
    {
      "cell_type": "markdown",
      "metadata": {
        "id": "LosZJJoZ1YKG"
      },
      "source": [
        "Looks like something that could be better defined with 3D!"
      ]
    },
    {
      "cell_type": "code",
      "metadata": {
        "id": "OT2EwoFWUMn5"
      },
      "source": [
        "fig = px.scatter_3d(data_frame=df_clus,\n",
        "                    x=\"Principal Component 1\",\n",
        "                    y=\"Principal Component 2\",\n",
        "                    z = 'Principal Component 3',\n",
        "                    color='Cluster',\n",
        "                    height =800,\n",
        "                    color_discrete_sequence=px.colors.qualitative.Bold\n",
        "                    )\n",
        "\n",
        "fig.show()"
      ],
      "execution_count": null,
      "outputs": []
    },
    {
      "cell_type": "markdown",
      "metadata": {
        "id": "KW7P3b9lX04m"
      },
      "source": [
        "Next the clusters are visualized relative to the field features to determine the reservoir, fluid, and field properties that are criteria for cluster membership."
      ]
    },
    {
      "cell_type": "code",
      "metadata": {
        "id": "u2TqgfcT9R55"
      },
      "source": [
        "df_clus.describe()"
      ],
      "execution_count": null,
      "outputs": []
    },
    {
      "cell_type": "markdown",
      "metadata": {
        "id": "Dy5l67-t85Yq"
      },
      "source": [
        "### Boxplot "
      ]
    },
    {
      "cell_type": "code",
      "metadata": {
        "id": "QJOIFISQ85Yt"
      },
      "source": [
        "df_im = df_clus.drop(columns=['Principal Component 1',\n",
        "                              'Principal Component 2','Principal Component 3',\t\n",
        "                              'Principal Component 4',\t'Principal Component 5', 'Principal Component 6','Cluster No','Cluster'], axis=1)\n",
        "column = df_im.drop('PCA_Cluster',axis=1).columns\n",
        "\n",
        "for col in column:\n",
        "  plt.figure(figsize=(10,3))\n",
        "  sns.boxplot(x=df_im[col], y=df_im['PCA_Cluster'], color = 'green', width = 0.4, orient='h' )\n",
        "  plt.yticks([0,1, 2], ['Cluster 1', 'Cluster 2', 'Cluster 3'])\n",
        "  plt.ylabel('')\n",
        "  plt.show()\n",
        "  \n",
        "  plt.figure(figsize=(10,1))\n",
        "  sns.boxplot(data=df_clus, x=col, width= 0.4, color= 'red', orient='h')\n",
        "  plt.yticks([0], ['All Fields'])\n",
        "  plt.show()\n"
      ],
      "execution_count": null,
      "outputs": []
    },
    {
      "cell_type": "markdown",
      "metadata": {
        "id": "3IHIFwKyfA6c"
      },
      "source": [
        "## Dataset Analysis"
      ]
    },
    {
      "cell_type": "markdown",
      "metadata": {
        "id": "C4mfJHimqJyW"
      },
      "source": [
        "### Cluster Characterization"
      ]
    },
    {
      "cell_type": "markdown",
      "metadata": {
        "id": "rG47yRhWy54P"
      },
      "source": [
        "## Sub-categories of Properties"
      ]
    },
    {
      "cell_type": "markdown",
      "metadata": {
        "id": "XuXGh598btOX"
      },
      "source": [
        "### Reservoir Properties"
      ]
    },
    {
      "cell_type": "code",
      "metadata": {
        "id": "jRwcXcI_j1mU"
      },
      "source": [
        "f, axes = plt.subplots(nrows=3, ncols=2, figsize=(20, 10), sharey=True)\n",
        "width = .4\n",
        "sns.boxplot(y=\"PCA_Cluster\", x='Por', color=\"blue\", data= df_clus, ax=axes[0, 0], width=width,orient='h')\n",
        "sns.boxplot(y=\"PCA_Cluster\", x='Perm', color=\"red\", data= df_clus, ax=axes[0, 1], width=width,orient='h')\n",
        "sns.boxplot(y=\"PCA_Cluster\", x='Depth', color=\"green\", data= df_clus, ax=axes[1, 0], width=width,orient='h')\n",
        "sns.boxplot(y=\"PCA_Cluster\", x='Temp', color=\"gold\", data= df_clus, ax=axes[1, 1], width=width,orient='h')\n",
        "sns.boxplot(y=\"PCA_Cluster\", x='Sat_start', color=\"teal\", data= df_clus, ax=axes[2, 1], width=width,orient='h')\n",
        "plt.yticks([0,1, 2], ['Cluster 1', 'Cluster 2', 'Cluster 3'])"
      ],
      "execution_count": null,
      "outputs": []
    },
    {
      "cell_type": "markdown",
      "metadata": {
        "id": "3b3q8Swib_I6"
      },
      "source": [
        "### Fluid Properties"
      ]
    },
    {
      "cell_type": "code",
      "metadata": {
        "id": "xvEFWXL4b_I_"
      },
      "source": [
        "f, axes = plt.subplots(ncols=2, figsize=(20, 3), sharey=True)\n",
        "width = .4\n",
        "sns.boxplot(y=\"PCA_Cluster\", x='API', color=\"blue\", data= df_clus, ax=axes[0], orient='h', width=width)\n",
        "sns.boxplot(y=\"PCA_Cluster\", x='Visc', color=\"green\", data= df_clus, ax=axes[1],orient='h', width=width)\n",
        "plt.yticks([0,1, 2], ['Cluster 1', 'Cluster 2', 'Cluster 3'])"
      ],
      "execution_count": null,
      "outputs": []
    },
    {
      "cell_type": "markdown",
      "metadata": {
        "id": "_aPZifQ0cAQr"
      },
      "source": [
        "### Field Properties"
      ]
    },
    {
      "cell_type": "code",
      "metadata": {
        "id": "uNbeWfzJcAQu"
      },
      "source": [
        "f, axes = plt.subplots(nrows=3, ncols=2, figsize=(20, 10), sharey=True)\n",
        "width = .4\n",
        "sns.boxplot(y=\"PCA_Cluster\", x='Area', color=\"blue\", data= df_clus, ax=axes[0, 0], width=width,orient='h')\n",
        "sns.boxplot(y=\"PCA_Cluster\", x='Prod_well', color=\"red\", data= df_clus, ax=axes[0, 1], width=width,orient='h')\n",
        "sns.boxplot(y=\"PCA_Cluster\", x='Inj_well', color=\"green\", data= df_clus, ax=axes[1, 0], width=width,orient='h')\n",
        "plt.yticks([0,1, 2], ['Cluster 1', 'Cluster 2', 'Cluster 3'])"
      ],
      "execution_count": null,
      "outputs": []
    },
    {
      "cell_type": "markdown",
      "metadata": {
        "id": "n8OY9Q7CLL2g"
      },
      "source": [
        "## Saving to CSV file"
      ]
    },
    {
      "cell_type": "code",
      "metadata": {
        "id": "ZPXusT_asDan"
      },
      "source": [
        "# Create new dataframe from results dataset\n",
        "new_df = df[['Form','Prev_prod']]\n",
        "\n",
        "# Concatenate to categorical columns from original dataset\n",
        "df_save = pd.concat([df_clus.reset_index(drop= True), new_df.reset_index(drop= True)], axis=1)\n",
        "\n",
        "#Save to CSV File\n",
        "df_save.to_csv (r'CO2_export_df.csv', index = False, header=True)"
      ],
      "execution_count": null,
      "outputs": []
    }
  ]
}